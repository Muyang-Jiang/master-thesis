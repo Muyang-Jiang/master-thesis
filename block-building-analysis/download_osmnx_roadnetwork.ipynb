{
 "cells": [
  {
   "cell_type": "code",
   "execution_count": 2,
   "id": "23a5f0ee",
   "metadata": {},
   "outputs": [
    {
     "name": "stderr",
     "output_type": "stream",
     "text": [
      "/data-nfs/mujiang/anaconda3/envs/env_pytorch/lib/python3.8/site-packages/geopandas/_compat.py:124: UserWarning: The Shapely GEOS version (3.11.3-CAPI-1.17.3) is incompatible with the GEOS version PyGEOS was compiled with (3.10.4-CAPI-1.16.2). Conversions between both will be slow.\n",
      "  warnings.warn(\n",
      "/tmp/ipykernel_2119315/4230866615.py:1: DeprecationWarning: Shapely 2.0 is installed, but because PyGEOS is also installed, GeoPandas still uses PyGEOS by default. However, starting with version 0.14, the default will switch to Shapely. To force to use Shapely 2.0 now, you can either uninstall PyGEOS or set the environment variable USE_PYGEOS=0. You can do this before starting the Python process, or in your code before importing geopandas:\n",
      "\n",
      "import os\n",
      "os.environ['USE_PYGEOS'] = '0'\n",
      "import geopandas\n",
      "\n",
      "In the next release, GeoPandas will switch to using Shapely by default, even if PyGEOS is installed. If you only have PyGEOS installed to get speed-ups, this switch should be smooth. However, if you are using PyGEOS directly (calling PyGEOS functions on geometries from GeoPandas), this will then stop working and you are encouraged to migrate from PyGEOS to Shapely 2.0 (https://shapely.readthedocs.io/en/latest/migration_pygeos.html).\n",
      "  import geopandas as gpd\n"
     ]
    }
   ],
   "source": [
    "import geopandas as gpd\n",
    "import pandas as pd\n",
    "import numpy as np\n",
    "import os\n",
    "import csv\n",
    "\n",
    "import networkx as nx\n",
    "import osmnx as ox"
   ]
  },
  {
   "cell_type": "code",
   "execution_count": 1,
   "id": "e70d23d5",
   "metadata": {},
   "outputs": [],
   "source": [
    "pred_city_list = [\"Guiyang, Guizhou, China\"]"
   ]
  },
  {
   "cell_type": "code",
   "execution_count": 3,
   "id": "44c2fa4f",
   "metadata": {},
   "outputs": [
    {
     "name": "stdout",
     "output_type": "stream",
     "text": [
      "Guiyang, Guizhou, China\n",
      "start downloading graph from OSM\n",
      "save downloaded graph as graphml format\n",
      "save downloaded graph as gpkg format\n"
     ]
    }
   ],
   "source": [
    "osmnx_graph_path = \"/data-sat-img/postprocessed/mujiang/master-thesis/osmnx_graph/\"\n",
    "\n",
    "### download data \n",
    "for city in pred_city_list:\n",
    "    osmnx_graph_graphml = os.path.join(osmnx_graph_path,f'{city}_graph.graphml')\n",
    "    osmnx_graph_gpkg = os.path.join(osmnx_graph_path,f'{city}_graph.gpkg')\n",
    "    \n",
    "    if not os.path.exists(osmnx_graph_gpkg):\n",
    "        print(city)\n",
    "        print(\"start downloading graph from OSM\")\n",
    "        graph = ox.graph_from_place(pred_city_list, network_type='all')\n",
    "        print(\"save downloaded graph as graphml format\")\n",
    "        ox.save_graphml(graph, filepath=osmnx_graph_graphml)\n",
    "        print(\"save downloaded graph as gpkg format\")\n",
    "        ox.io.save_graph_geopackage(graph, filepath=osmnx_graph_gpkg, encoding='utf-8', directed=False)"
   ]
  }
 ],
 "metadata": {
  "kernelspec": {
   "display_name": "Python 3 (ipykernel)",
   "language": "python",
   "name": "python3"
  },
  "language_info": {
   "codemirror_mode": {
    "name": "ipython",
    "version": 3
   },
   "file_extension": ".py",
   "mimetype": "text/x-python",
   "name": "python",
   "nbconvert_exporter": "python",
   "pygments_lexer": "ipython3",
   "version": "3.8.16"
  }
 },
 "nbformat": 4,
 "nbformat_minor": 5
}
