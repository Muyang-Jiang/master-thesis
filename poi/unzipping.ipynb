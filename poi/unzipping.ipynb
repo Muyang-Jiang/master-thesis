{
 "cells": [
  {
   "cell_type": "code",
   "execution_count": 2,
   "id": "8236b6ff",
   "metadata": {},
   "outputs": [],
   "source": [
    "import os\n",
    "import zipfile\n",
    "from tqdm import tqdm"
   ]
  },
  {
   "cell_type": "code",
   "execution_count": 3,
   "id": "9bef7d95",
   "metadata": {
    "scrolled": true
   },
   "outputs": [
    {
     "name": "stderr",
     "output_type": "stream",
     "text": [
      "  0%|▍                                                                                                                                                                        | 1/368 [00:00<01:39,  3.67it/s]"
     ]
    },
    {
     "name": "stdout",
     "output_type": "stream",
     "text": [
      "Extracted 甘南藏族自治州.zip to /data-sat-img/postprocessed/mujiang/POI/全国POI数据/2020POI\n"
     ]
    },
    {
     "name": "stderr",
     "output_type": "stream",
     "text": [
      "\r",
      "  1%|▉                                                                                                                                                                        | 2/368 [00:00<01:59,  3.07it/s]"
     ]
    },
    {
     "name": "stdout",
     "output_type": "stream",
     "text": [
      "Extracted 吴忠市.zip to /data-sat-img/postprocessed/mujiang/POI/全国POI数据/2020POI\n"
     ]
    },
    {
     "name": "stderr",
     "output_type": "stream",
     "text": [
      "\r",
      "  1%|█▍                                                                                                                                                                       | 3/368 [00:01<02:38,  2.30it/s]"
     ]
    },
    {
     "name": "stdout",
     "output_type": "stream",
     "text": [
      "Extracted 安阳市.zip to /data-sat-img/postprocessed/mujiang/POI/全国POI数据/2020POI\n"
     ]
    },
    {
     "name": "stderr",
     "output_type": "stream",
     "text": [
      "\r",
      "  1%|█▊                                                                                                                                                                       | 4/368 [00:01<02:59,  2.02it/s]"
     ]
    },
    {
     "name": "stdout",
     "output_type": "stream",
     "text": [
      "Extracted 六安市.zip to /data-sat-img/postprocessed/mujiang/POI/全国POI数据/2020POI\n"
     ]
    },
    {
     "name": "stderr",
     "output_type": "stream",
     "text": [
      "\r",
      "  1%|██▎                                                                                                                                                                      | 5/368 [00:02<02:58,  2.03it/s]"
     ]
    },
    {
     "name": "stdout",
     "output_type": "stream",
     "text": [
      "Extracted 滁州市.zip to /data-sat-img/postprocessed/mujiang/POI/全国POI数据/2020POI\n"
     ]
    },
    {
     "name": "stderr",
     "output_type": "stream",
     "text": [
      "\r",
      "  2%|██▊                                                                                                                                                                      | 6/368 [00:02<02:48,  2.15it/s]"
     ]
    },
    {
     "name": "stdout",
     "output_type": "stream",
     "text": [
      "Extracted 泸州市.zip to /data-sat-img/postprocessed/mujiang/POI/全国POI数据/2020POI\n"
     ]
    },
    {
     "name": "stderr",
     "output_type": "stream",
     "text": [
      "\r",
      "  2%|███▏                                                                                                                                                                     | 7/368 [00:03<02:54,  2.07it/s]"
     ]
    },
    {
     "name": "stdout",
     "output_type": "stream",
     "text": [
      "Extracted 菏泽市.zip to /data-sat-img/postprocessed/mujiang/POI/全国POI数据/2020POI\n"
     ]
    },
    {
     "name": "stderr",
     "output_type": "stream",
     "text": [
      "\r",
      "  2%|███▋                                                                                                                                                                     | 8/368 [00:03<02:41,  2.23it/s]"
     ]
    },
    {
     "name": "stdout",
     "output_type": "stream",
     "text": [
      "Extracted 延边朝鲜族自治州.zip to /data-sat-img/postprocessed/mujiang/POI/全国POI数据/2020POI\n"
     ]
    },
    {
     "name": "stderr",
     "output_type": "stream",
     "text": [
      "\r",
      "  2%|████▏                                                                                                                                                                    | 9/368 [00:04<02:53,  2.07it/s]"
     ]
    },
    {
     "name": "stdout",
     "output_type": "stream",
     "text": [
      "Extracted 柳州市.zip to /data-sat-img/postprocessed/mujiang/POI/全国POI数据/2020POI\n"
     ]
    },
    {
     "name": "stderr",
     "output_type": "stream",
     "text": [
      "\r",
      "  3%|████▌                                                                                                                                                                   | 10/368 [00:04<02:36,  2.29it/s]"
     ]
    },
    {
     "name": "stdout",
     "output_type": "stream",
     "text": [
      "Extracted 昭通市.zip to /data-sat-img/postprocessed/mujiang/POI/全国POI数据/2020POI\n"
     ]
    },
    {
     "name": "stderr",
     "output_type": "stream",
     "text": [
      "\r",
      "  3%|█████                                                                                                                                                                   | 11/368 [00:05<03:49,  1.56it/s]"
     ]
    },
    {
     "name": "stdout",
     "output_type": "stream",
     "text": [
      "Extracted 温州市.zip to /data-sat-img/postprocessed/mujiang/POI/全国POI数据/2020POI\n"
     ]
    },
    {
     "name": "stderr",
     "output_type": "stream",
     "text": [
      "\r",
      "  3%|█████▍                                                                                                                                                                  | 12/368 [00:06<03:37,  1.64it/s]"
     ]
    },
    {
     "name": "stdout",
     "output_type": "stream",
     "text": [
      "Extracted 乐山市.zip to /data-sat-img/postprocessed/mujiang/POI/全国POI数据/2020POI\n"
     ]
    },
    {
     "name": "stderr",
     "output_type": "stream",
     "text": [
      "\r",
      "  4%|█████▉                                                                                                                                                                  | 13/368 [00:06<03:07,  1.89it/s]"
     ]
    },
    {
     "name": "stdout",
     "output_type": "stream",
     "text": [
      "Extracted 玉溪市.zip to /data-sat-img/postprocessed/mujiang/POI/全国POI数据/2020POI\n"
     ]
    },
    {
     "name": "stderr",
     "output_type": "stream",
     "text": [
      "\r",
      "  4%|██████▍                                                                                                                                                                 | 14/368 [00:06<02:41,  2.19it/s]"
     ]
    },
    {
     "name": "stdout",
     "output_type": "stream",
     "text": [
      "Extracted 辽源市.zip to /data-sat-img/postprocessed/mujiang/POI/全国POI数据/2020POI\n"
     ]
    },
    {
     "name": "stderr",
     "output_type": "stream",
     "text": [
      "\r",
      "  4%|██████▊                                                                                                                                                                 | 15/368 [00:07<02:45,  2.13it/s]"
     ]
    },
    {
     "name": "stdout",
     "output_type": "stream",
     "text": [
      "Extracted 榆林市.zip to /data-sat-img/postprocessed/mujiang/POI/全国POI数据/2020POI\n"
     ]
    },
    {
     "name": "stderr",
     "output_type": "stream",
     "text": [
      "\r",
      "  4%|███████▎                                                                                                                                                                | 16/368 [00:07<03:10,  1.84it/s]"
     ]
    },
    {
     "name": "stdout",
     "output_type": "stream",
     "text": [
      "Extracted 烟台市.zip to /data-sat-img/postprocessed/mujiang/POI/全国POI数据/2020POI\n"
     ]
    },
    {
     "name": "stderr",
     "output_type": "stream",
     "text": [
      "\r",
      "  5%|███████▊                                                                                                                                                                | 17/368 [00:08<02:51,  2.05it/s]"
     ]
    },
    {
     "name": "stdout",
     "output_type": "stream",
     "text": [
      "Extracted 蚌埠市.zip to /data-sat-img/postprocessed/mujiang/POI/全国POI数据/2020POI\n"
     ]
    },
    {
     "name": "stderr",
     "output_type": "stream",
     "text": [
      "\r",
      "  5%|████████▏                                                                                                                                                               | 18/368 [00:08<02:49,  2.07it/s]"
     ]
    },
    {
     "name": "stdout",
     "output_type": "stream",
     "text": [
      "Extracted 邵阳市.zip to /data-sat-img/postprocessed/mujiang/POI/全国POI数据/2020POI\n"
     ]
    },
    {
     "name": "stderr",
     "output_type": "stream",
     "text": [
      "\r",
      "  5%|████████▋                                                                                                                                                               | 19/368 [00:09<02:31,  2.30it/s]"
     ]
    },
    {
     "name": "stdout",
     "output_type": "stream",
     "text": [
      "Extracted 石嘴山市.zip to /data-sat-img/postprocessed/mujiang/POI/全国POI数据/2020POI\n"
     ]
    },
    {
     "name": "stderr",
     "output_type": "stream",
     "text": [
      "\r",
      "  5%|█████████▏                                                                                                                                                              | 20/368 [00:09<02:31,  2.30it/s]"
     ]
    },
    {
     "name": "stdout",
     "output_type": "stream",
     "text": [
      "Extracted 齐齐哈尔市.zip to /data-sat-img/postprocessed/mujiang/POI/全国POI数据/2020POI\n"
     ]
    },
    {
     "name": "stderr",
     "output_type": "stream",
     "text": [
      "\r",
      "  6%|█████████▌                                                                                                                                                              | 21/368 [00:10<02:34,  2.24it/s]"
     ]
    },
    {
     "name": "stdout",
     "output_type": "stream",
     "text": [
      "Extracted 宁德市.zip to /data-sat-img/postprocessed/mujiang/POI/全国POI数据/2020POI\n"
     ]
    },
    {
     "name": "stderr",
     "output_type": "stream",
     "text": [
      "\r",
      "  6%|██████████                                                                                                                                                              | 22/368 [00:10<02:29,  2.31it/s]"
     ]
    },
    {
     "name": "stdout",
     "output_type": "stream",
     "text": [
      "Extracted 抚顺市.zip to /data-sat-img/postprocessed/mujiang/POI/全国POI数据/2020POI\n"
     ]
    },
    {
     "name": "stderr",
     "output_type": "stream",
     "text": [
      "\r",
      "  6%|██████████▌                                                                                                                                                             | 23/368 [00:10<02:11,  2.62it/s]"
     ]
    },
    {
     "name": "stdout",
     "output_type": "stream",
     "text": [
      "Extracted 和田地区.zip to /data-sat-img/postprocessed/mujiang/POI/全国POI数据/2020POI\n"
     ]
    },
    {
     "name": "stderr",
     "output_type": "stream",
     "text": [
      "\r",
      "  7%|██████████▉                                                                                                                                                             | 24/368 [00:11<02:20,  2.45it/s]"
     ]
    },
    {
     "name": "stdout",
     "output_type": "stream",
     "text": [
      "Extracted 衡水市.zip to /data-sat-img/postprocessed/mujiang/POI/全国POI数据/2020POI\n"
     ]
    },
    {
     "name": "stderr",
     "output_type": "stream",
     "text": [
      "\r",
      "  7%|███████████▍                                                                                                                                                            | 25/368 [00:11<02:11,  2.60it/s]"
     ]
    },
    {
     "name": "stdout",
     "output_type": "stream",
     "text": [
      "Extracted 天水市.zip to /data-sat-img/postprocessed/mujiang/POI/全国POI数据/2020POI\n"
     ]
    },
    {
     "name": "stderr",
     "output_type": "stream",
     "text": [
      "\r",
      "  7%|███████████▊                                                                                                                                                            | 26/368 [00:11<02:17,  2.49it/s]"
     ]
    },
    {
     "name": "stdout",
     "output_type": "stream",
     "text": [
      "Extracted 红河哈尼族彝族自治州.zip to /data-sat-img/postprocessed/mujiang/POI/全国POI数据/2020POI\n"
     ]
    },
    {
     "name": "stderr",
     "output_type": "stream",
     "text": [
      "\r",
      "  7%|████████████▎                                                                                                                                                           | 27/368 [00:12<02:17,  2.47it/s]"
     ]
    },
    {
     "name": "stdout",
     "output_type": "stream",
     "text": [
      "Extracted 遂宁市.zip to /data-sat-img/postprocessed/mujiang/POI/全国POI数据/2020POI\n"
     ]
    },
    {
     "name": "stderr",
     "output_type": "stream",
     "text": [
      "\r",
      "  8%|████████████▊                                                                                                                                                           | 28/368 [00:13<03:38,  1.55it/s]"
     ]
    },
    {
     "name": "stdout",
     "output_type": "stream",
     "text": [
      "Extracted 西安市.zip to /data-sat-img/postprocessed/mujiang/POI/全国POI数据/2020POI\n"
     ]
    },
    {
     "name": "stderr",
     "output_type": "stream",
     "text": [
      "\r",
      "  8%|█████████████▏                                                                                                                                                          | 29/368 [00:13<03:04,  1.83it/s]"
     ]
    },
    {
     "name": "stdout",
     "output_type": "stream",
     "text": [
      "Extracted 吐鲁番市.zip to /data-sat-img/postprocessed/mujiang/POI/全国POI数据/2020POI\n"
     ]
    },
    {
     "name": "stderr",
     "output_type": "stream",
     "text": [
      "\r",
      "  8%|█████████████▋                                                                                                                                                          | 30/368 [00:14<02:30,  2.24it/s]"
     ]
    },
    {
     "name": "stdout",
     "output_type": "stream",
     "text": [
      "Extracted 阿坝藏族羌族自治州.zip to /data-sat-img/postprocessed/mujiang/POI/全国POI数据/2020POI\n"
     ]
    },
    {
     "name": "stderr",
     "output_type": "stream",
     "text": [
      "\r",
      "  8%|██████████████▏                                                                                                                                                         | 31/368 [00:14<02:54,  1.93it/s]"
     ]
    },
    {
     "name": "stdout",
     "output_type": "stream",
     "text": [
      "Extracted 福州市.zip to /data-sat-img/postprocessed/mujiang/POI/全国POI数据/2020POI\n"
     ]
    },
    {
     "name": "stderr",
     "output_type": "stream",
     "text": [
      "\r",
      "  9%|██████████████▌                                                                                                                                                         | 32/368 [00:14<02:22,  2.36it/s]"
     ]
    },
    {
     "name": "stdout",
     "output_type": "stream",
     "text": [
      "Extracted 神农架林区.zip to /data-sat-img/postprocessed/mujiang/POI/全国POI数据/2020POI\n"
     ]
    },
    {
     "name": "stderr",
     "output_type": "stream",
     "text": [
      "\r",
      "  9%|███████████████                                                                                                                                                         | 33/368 [00:15<02:25,  2.30it/s]"
     ]
    },
    {
     "name": "stdout",
     "output_type": "stream",
     "text": [
      "Extracted 大理白族自治州.zip to /data-sat-img/postprocessed/mujiang/POI/全国POI数据/2020POI\n"
     ]
    },
    {
     "name": "stderr",
     "output_type": "stream",
     "text": [
      "\r",
      "  9%|███████████████▌                                                                                                                                                        | 34/368 [00:16<03:29,  1.59it/s]"
     ]
    },
    {
     "name": "stdout",
     "output_type": "stream",
     "text": [
      "Extracted 嘉兴市.zip to /data-sat-img/postprocessed/mujiang/POI/全国POI数据/2020POI\n"
     ]
    },
    {
     "name": "stderr",
     "output_type": "stream",
     "text": [
      "\r",
      " 10%|███████████████▉                                                                                                                                                        | 35/368 [00:16<03:06,  1.79it/s]"
     ]
    },
    {
     "name": "stdout",
     "output_type": "stream",
     "text": [
      "Extracted 贺州市.zip to /data-sat-img/postprocessed/mujiang/POI/全国POI数据/2020POI\n"
     ]
    },
    {
     "name": "stderr",
     "output_type": "stream",
     "text": [
      "\r",
      " 10%|████████████████▍                                                                                                                                                       | 36/368 [00:17<03:06,  1.78it/s]"
     ]
    },
    {
     "name": "stdout",
     "output_type": "stream",
     "text": [
      "Extracted 淄博市.zip to /data-sat-img/postprocessed/mujiang/POI/全国POI数据/2020POI\n"
     ]
    },
    {
     "name": "stderr",
     "output_type": "stream",
     "text": [
      " 10%|█████████████████▎                                                                                                                                                      | 38/368 [00:17<02:02,  2.70it/s]"
     ]
    },
    {
     "name": "stdout",
     "output_type": "stream",
     "text": [
      "Extracted 甘孜藏族自治州.zip to /data-sat-img/postprocessed/mujiang/POI/全国POI数据/2020POI\n",
      "Extracted 澳门特别行政区.zip to /data-sat-img/postprocessed/mujiang/POI/全国POI数据/2020POI\n"
     ]
    },
    {
     "name": "stderr",
     "output_type": "stream",
     "text": [
      "\r",
      " 11%|█████████████████▊                                                                                                                                                      | 39/368 [00:18<02:07,  2.58it/s]"
     ]
    },
    {
     "name": "stdout",
     "output_type": "stream",
     "text": [
      "Extracted 莆田市.zip to /data-sat-img/postprocessed/mujiang/POI/全国POI数据/2020POI\n"
     ]
    },
    {
     "name": "stderr",
     "output_type": "stream",
     "text": [
      "\r",
      " 11%|██████████████████▎                                                                                                                                                     | 40/368 [00:18<02:10,  2.52it/s]"
     ]
    },
    {
     "name": "stdout",
     "output_type": "stream",
     "text": [
      "Extracted 锡林郭勒盟.zip to /data-sat-img/postprocessed/mujiang/POI/全国POI数据/2020POI\n"
     ]
    },
    {
     "name": "stderr",
     "output_type": "stream",
     "text": [
      "\r",
      " 11%|██████████████████▋                                                                                                                                                     | 41/368 [00:19<02:07,  2.56it/s]"
     ]
    },
    {
     "name": "stdout",
     "output_type": "stream",
     "text": [
      "Extracted 铜仁市.zip to /data-sat-img/postprocessed/mujiang/POI/全国POI数据/2020POI\n"
     ]
    },
    {
     "name": "stderr",
     "output_type": "stream",
     "text": [
      "\r",
      " 11%|███████████████████▏                                                                                                                                                    | 42/368 [00:19<02:19,  2.35it/s]"
     ]
    },
    {
     "name": "stdout",
     "output_type": "stream",
     "text": [
      "Extracted 渭南市.zip to /data-sat-img/postprocessed/mujiang/POI/全国POI数据/2020POI\n"
     ]
    },
    {
     "name": "stderr",
     "output_type": "stream",
     "text": [
      "\r",
      " 12%|███████████████████▋                                                                                                                                                    | 43/368 [00:19<02:08,  2.52it/s]"
     ]
    },
    {
     "name": "stdout",
     "output_type": "stream",
     "text": [
      "Extracted 萍乡市.zip to /data-sat-img/postprocessed/mujiang/POI/全国POI数据/2020POI\n"
     ]
    },
    {
     "name": "stderr",
     "output_type": "stream",
     "text": [
      "\r",
      " 12%|████████████████████                                                                                                                                                    | 44/368 [00:20<01:59,  2.72it/s]"
     ]
    },
    {
     "name": "stdout",
     "output_type": "stream",
     "text": [
      "Extracted 怒江傈僳族自治州.zip to /data-sat-img/postprocessed/mujiang/POI/全国POI数据/2020POI\n"
     ]
    },
    {
     "name": "stderr",
     "output_type": "stream",
     "text": [
      "\r",
      " 12%|████████████████████▌                                                                                                                                                   | 45/368 [00:21<02:52,  1.87it/s]"
     ]
    },
    {
     "name": "stdout",
     "output_type": "stream",
     "text": [
      "Extracted 沈阳市.zip to /data-sat-img/postprocessed/mujiang/POI/全国POI数据/2020POI\n"
     ]
    },
    {
     "name": "stderr",
     "output_type": "stream",
     "text": [
      "\r",
      " 12%|█████████████████████                                                                                                                                                   | 46/368 [00:21<02:42,  1.99it/s]"
     ]
    },
    {
     "name": "stdout",
     "output_type": "stream",
     "text": [
      "Extracted 东营市.zip to /data-sat-img/postprocessed/mujiang/POI/全国POI数据/2020POI\n"
     ]
    },
    {
     "name": "stderr",
     "output_type": "stream",
     "text": [
      "\r",
      " 13%|█████████████████████▍                                                                                                                                                  | 47/368 [00:22<02:41,  1.99it/s]"
     ]
    },
    {
     "name": "stdout",
     "output_type": "stream",
     "text": [
      "Extracted 赤峰市.zip to /data-sat-img/postprocessed/mujiang/POI/全国POI数据/2020POI\n"
     ]
    },
    {
     "name": "stderr",
     "output_type": "stream",
     "text": [
      "\r",
      " 13%|█████████████████████▉                                                                                                                                                  | 48/368 [00:22<02:36,  2.05it/s]"
     ]
    },
    {
     "name": "stdout",
     "output_type": "stream",
     "text": [
      "Extracted 许昌市.zip to /data-sat-img/postprocessed/mujiang/POI/全国POI数据/2020POI\n"
     ]
    },
    {
     "name": "stderr",
     "output_type": "stream",
     "text": [
      "\r",
      " 13%|██████████████████████▎                                                                                                                                                 | 49/368 [00:22<02:25,  2.19it/s]"
     ]
    },
    {
     "name": "stdout",
     "output_type": "stream",
     "text": [
      "Extracted 铜陵市.zip to /data-sat-img/postprocessed/mujiang/POI/全国POI数据/2020POI\n"
     ]
    },
    {
     "name": "stderr",
     "output_type": "stream",
     "text": [
      "\r",
      " 14%|██████████████████████▊                                                                                                                                                 | 50/368 [00:23<02:03,  2.57it/s]"
     ]
    },
    {
     "name": "stdout",
     "output_type": "stream",
     "text": [
      "Extracted 五指山市.zip to /data-sat-img/postprocessed/mujiang/POI/全国POI数据/2020POI\n"
     ]
    },
    {
     "name": "stderr",
     "output_type": "stream",
     "text": [
      "\r",
      " 14%|███████████████████████▎                                                                                                                                                | 51/368 [00:23<01:56,  2.72it/s]"
     ]
    },
    {
     "name": "stdout",
     "output_type": "stream",
     "text": [
      "Extracted 定西市.zip to /data-sat-img/postprocessed/mujiang/POI/全国POI数据/2020POI\n"
     ]
    },
    {
     "name": "stderr",
     "output_type": "stream",
     "text": [
      "\r",
      " 14%|███████████████████████▋                                                                                                                                                | 52/368 [00:23<01:50,  2.87it/s]"
     ]
    },
    {
     "name": "stdout",
     "output_type": "stream",
     "text": [
      "Extracted 塔城地区.zip to /data-sat-img/postprocessed/mujiang/POI/全国POI数据/2020POI\n"
     ]
    },
    {
     "name": "stderr",
     "output_type": "stream",
     "text": [
      "\r",
      " 14%|████████████████████████▏                                                                                                                                               | 53/368 [00:24<02:39,  1.97it/s]"
     ]
    },
    {
     "name": "stdout",
     "output_type": "stream",
     "text": [
      "Extracted 金华市.zip to /data-sat-img/postprocessed/mujiang/POI/全国POI数据/2020POI\n"
     ]
    },
    {
     "name": "stderr",
     "output_type": "stream",
     "text": [
      "\r",
      " 15%|████████████████████████▋                                                                                                                                               | 54/368 [00:25<02:27,  2.12it/s]"
     ]
    },
    {
     "name": "stdout",
     "output_type": "stream",
     "text": [
      "Extracted 四平市.zip to /data-sat-img/postprocessed/mujiang/POI/全国POI数据/2020POI\n"
     ]
    },
    {
     "name": "stderr",
     "output_type": "stream",
     "text": [
      "\r",
      " 15%|█████████████████████████                                                                                                                                               | 55/368 [00:25<02:20,  2.22it/s]"
     ]
    },
    {
     "name": "stdout",
     "output_type": "stream",
     "text": [
      "Extracted 益阳市.zip to /data-sat-img/postprocessed/mujiang/POI/全国POI数据/2020POI\n"
     ]
    },
    {
     "name": "stderr",
     "output_type": "stream",
     "text": [
      "\r",
      " 15%|█████████████████████████▌                                                                                                                                              | 56/368 [00:25<02:05,  2.48it/s]"
     ]
    },
    {
     "name": "stdout",
     "output_type": "stream",
     "text": [
      "Extracted 固原市.zip to /data-sat-img/postprocessed/mujiang/POI/全国POI数据/2020POI\n"
     ]
    },
    {
     "name": "stderr",
     "output_type": "stream",
     "text": [
      "\r",
      " 15%|██████████████████████████                                                                                                                                              | 57/368 [00:26<02:11,  2.36it/s]"
     ]
    },
    {
     "name": "stdout",
     "output_type": "stream",
     "text": [
      "Extracted 秦皇岛市.zip to /data-sat-img/postprocessed/mujiang/POI/全国POI数据/2020POI\n"
     ]
    },
    {
     "name": "stderr",
     "output_type": "stream",
     "text": [
      "\r",
      " 16%|██████████████████████████▍                                                                                                                                             | 58/368 [00:26<02:37,  1.96it/s]"
     ]
    },
    {
     "name": "stdout",
     "output_type": "stream",
     "text": [
      "Extracted 芜湖市.zip to /data-sat-img/postprocessed/mujiang/POI/全国POI数据/2020POI\n"
     ]
    },
    {
     "name": "stderr",
     "output_type": "stream",
     "text": [
      "\r",
      " 16%|██████████████████████████▉                                                                                                                                             | 59/368 [00:27<02:55,  1.76it/s]"
     ]
    },
    {
     "name": "stdout",
     "output_type": "stream",
     "text": [
      "Extracted 南阳市.zip to /data-sat-img/postprocessed/mujiang/POI/全国POI数据/2020POI\n"
     ]
    },
    {
     "name": "stderr",
     "output_type": "stream",
     "text": [
      "\r",
      " 16%|███████████████████████████▍                                                                                                                                            | 60/368 [00:28<02:42,  1.90it/s]"
     ]
    },
    {
     "name": "stdout",
     "output_type": "stream",
     "text": [
      "Extracted 黄石市.zip to /data-sat-img/postprocessed/mujiang/POI/全国POI数据/2020POI\n"
     ]
    },
    {
     "name": "stderr",
     "output_type": "stream",
     "text": [
      "\r",
      " 17%|███████████████████████████▊                                                                                                                                            | 61/368 [00:28<02:55,  1.74it/s]"
     ]
    },
    {
     "name": "stdout",
     "output_type": "stream",
     "text": [
      "Extracted 洛阳市.zip to /data-sat-img/postprocessed/mujiang/POI/全国POI数据/2020POI\n"
     ]
    },
    {
     "name": "stderr",
     "output_type": "stream",
     "text": [
      "\r",
      " 17%|████████████████████████████▎                                                                                                                                           | 62/368 [00:28<02:25,  2.10it/s]"
     ]
    },
    {
     "name": "stdout",
     "output_type": "stream",
     "text": [
      "Extracted 中卫市.zip to /data-sat-img/postprocessed/mujiang/POI/全国POI数据/2020POI\n"
     ]
    },
    {
     "name": "stderr",
     "output_type": "stream",
     "text": [
      "\r",
      " 17%|████████████████████████████▊                                                                                                                                           | 63/368 [00:29<02:31,  2.01it/s]"
     ]
    },
    {
     "name": "stdout",
     "output_type": "stream",
     "text": [
      "Extracted 绵阳市.zip to /data-sat-img/postprocessed/mujiang/POI/全国POI数据/2020POI\n"
     ]
    },
    {
     "name": "stderr",
     "output_type": "stream",
     "text": [
      "\r",
      " 17%|█████████████████████████████▏                                                                                                                                          | 64/368 [00:30<02:38,  1.92it/s]"
     ]
    },
    {
     "name": "stdout",
     "output_type": "stream",
     "text": [
      "Extracted 衡阳市.zip to /data-sat-img/postprocessed/mujiang/POI/全国POI数据/2020POI\n"
     ]
    },
    {
     "name": "stderr",
     "output_type": "stream",
     "text": [
      "\r",
      " 18%|█████████████████████████████▋                                                                                                                                          | 65/368 [00:30<02:12,  2.28it/s]"
     ]
    },
    {
     "name": "stdout",
     "output_type": "stream",
     "text": [
      "Extracted 克拉玛依市.zip to /data-sat-img/postprocessed/mujiang/POI/全国POI数据/2020POI\n"
     ]
    },
    {
     "name": "stderr",
     "output_type": "stream",
     "text": [
      " 18%|██████████████████████████████▌                                                                                                                                         | 67/368 [00:30<01:38,  3.05it/s]"
     ]
    },
    {
     "name": "stdout",
     "output_type": "stream",
     "text": [
      "Extracted 大兴安岭地区.zip to /data-sat-img/postprocessed/mujiang/POI/全国POI数据/2020POI\n",
      "Extracted 阿里地区.zip to /data-sat-img/postprocessed/mujiang/POI/全国POI数据/2020POI\n"
     ]
    },
    {
     "name": "stderr",
     "output_type": "stream",
     "text": [
      "\r",
      " 18%|███████████████████████████████                                                                                                                                         | 68/368 [00:31<01:32,  3.23it/s]"
     ]
    },
    {
     "name": "stdout",
     "output_type": "stream",
     "text": [
      "Extracted 金昌市.zip to /data-sat-img/postprocessed/mujiang/POI/全国POI数据/2020POI\n"
     ]
    },
    {
     "name": "stderr",
     "output_type": "stream",
     "text": [
      "\r",
      " 19%|███████████████████████████████▌                                                                                                                                        | 69/368 [00:31<01:55,  2.59it/s]"
     ]
    },
    {
     "name": "stdout",
     "output_type": "stream",
     "text": [
      "Extracted 廊坊市.zip to /data-sat-img/postprocessed/mujiang/POI/全国POI数据/2020POI\n"
     ]
    },
    {
     "name": "stderr",
     "output_type": "stream",
     "text": [
      "\r",
      " 19%|███████████████████████████████▉                                                                                                                                        | 70/368 [00:31<01:53,  2.63it/s]"
     ]
    },
    {
     "name": "stdout",
     "output_type": "stream",
     "text": [
      "Extracted 盘锦市.zip to /data-sat-img/postprocessed/mujiang/POI/全国POI数据/2020POI\n"
     ]
    },
    {
     "name": "stderr",
     "output_type": "stream",
     "text": [
      "\r",
      " 19%|████████████████████████████████▍                                                                                                                                       | 71/368 [00:32<01:56,  2.55it/s]"
     ]
    },
    {
     "name": "stdout",
     "output_type": "stream",
     "text": [
      "Extracted 淮南市.zip to /data-sat-img/postprocessed/mujiang/POI/全国POI数据/2020POI\n"
     ]
    },
    {
     "name": "stderr",
     "output_type": "stream",
     "text": [
      "\r",
      " 20%|████████████████████████████████▊                                                                                                                                       | 72/368 [00:32<01:59,  2.48it/s]"
     ]
    },
    {
     "name": "stdout",
     "output_type": "stream",
     "text": [
      "Extracted 眉山市.zip to /data-sat-img/postprocessed/mujiang/POI/全国POI数据/2020POI\n"
     ]
    },
    {
     "name": "stderr",
     "output_type": "stream",
     "text": [
      "\r",
      " 20%|█████████████████████████████████▎                                                                                                                                      | 73/368 [00:33<01:57,  2.52it/s]"
     ]
    },
    {
     "name": "stdout",
     "output_type": "stream",
     "text": [
      "Extracted 淮北市.zip to /data-sat-img/postprocessed/mujiang/POI/全国POI数据/2020POI\n"
     ]
    },
    {
     "name": "stderr",
     "output_type": "stream",
     "text": [
      "\r",
      " 20%|█████████████████████████████████▊                                                                                                                                      | 74/368 [00:33<01:42,  2.86it/s]"
     ]
    },
    {
     "name": "stdout",
     "output_type": "stream",
     "text": [
      "Extracted 景德镇市.zip to /data-sat-img/postprocessed/mujiang/POI/全国POI数据/2020POI\n"
     ]
    },
    {
     "name": "stderr",
     "output_type": "stream",
     "text": [
      "\r",
      " 20%|██████████████████████████████████▏                                                                                                                                     | 75/368 [00:33<01:44,  2.81it/s]"
     ]
    },
    {
     "name": "stdout",
     "output_type": "stream",
     "text": [
      "Extracted 海西蒙古族藏族自治州.zip to /data-sat-img/postprocessed/mujiang/POI/全国POI数据/2020POI\n"
     ]
    },
    {
     "name": "stderr",
     "output_type": "stream",
     "text": [
      "\r",
      " 21%|██████████████████████████████████▋                                                                                                                                     | 76/368 [00:34<02:01,  2.41it/s]"
     ]
    },
    {
     "name": "stdout",
     "output_type": "stream",
     "text": [
      "Extracted 邢台市.zip to /data-sat-img/postprocessed/mujiang/POI/全国POI数据/2020POI\n"
     ]
    },
    {
     "name": "stderr",
     "output_type": "stream",
     "text": [
      "\r",
      " 21%|███████████████████████████████████▏                                                                                                                                    | 77/368 [00:34<02:11,  2.21it/s]"
     ]
    },
    {
     "name": "stdout",
     "output_type": "stream",
     "text": [
      "Extracted 张家口市.zip to /data-sat-img/postprocessed/mujiang/POI/全国POI数据/2020POI\n"
     ]
    },
    {
     "name": "stderr",
     "output_type": "stream",
     "text": [
      "\r",
      " 21%|███████████████████████████████████▌                                                                                                                                    | 78/368 [00:35<02:00,  2.41it/s]"
     ]
    },
    {
     "name": "stdout",
     "output_type": "stream",
     "text": [
      "Extracted 伊犁哈萨克自治州.zip to /data-sat-img/postprocessed/mujiang/POI/全国POI数据/2020POI\n"
     ]
    },
    {
     "name": "stderr",
     "output_type": "stream",
     "text": [
      "\r",
      " 21%|████████████████████████████████████                                                                                                                                    | 79/368 [00:35<01:56,  2.48it/s]"
     ]
    },
    {
     "name": "stdout",
     "output_type": "stream",
     "text": [
      "Extracted 楚雄彝族自治州.zip to /data-sat-img/postprocessed/mujiang/POI/全国POI数据/2020POI\n"
     ]
    },
    {
     "name": "stderr",
     "output_type": "stream",
     "text": [
      "\r",
      " 22%|████████████████████████████████████▌                                                                                                                                   | 80/368 [00:36<02:54,  1.65it/s]"
     ]
    },
    {
     "name": "stdout",
     "output_type": "stream",
     "text": [
      "Extracted 佛山市.zip to /data-sat-img/postprocessed/mujiang/POI/全国POI数据/2020POI\n"
     ]
    },
    {
     "name": "stderr",
     "output_type": "stream",
     "text": [
      "\r",
      " 22%|████████████████████████████████████▉                                                                                                                                   | 81/368 [00:36<02:24,  1.99it/s]"
     ]
    },
    {
     "name": "stdout",
     "output_type": "stream",
     "text": [
      "Extracted 屯昌县.zip to /data-sat-img/postprocessed/mujiang/POI/全国POI数据/2020POI\n"
     ]
    },
    {
     "name": "stderr",
     "output_type": "stream",
     "text": [
      "\r",
      " 22%|█████████████████████████████████████▍                                                                                                                                  | 82/368 [00:38<04:18,  1.11it/s]"
     ]
    },
    {
     "name": "stdout",
     "output_type": "stream",
     "text": [
      "Extracted 苏州市.zip to /data-sat-img/postprocessed/mujiang/POI/全国POI数据/2020POI\n"
     ]
    },
    {
     "name": "stderr",
     "output_type": "stream",
     "text": [
      "\r",
      " 23%|█████████████████████████████████████▉                                                                                                                                  | 83/368 [00:39<03:53,  1.22it/s]"
     ]
    },
    {
     "name": "stdout",
     "output_type": "stream",
     "text": [
      "Extracted 盐城市.zip to /data-sat-img/postprocessed/mujiang/POI/全国POI数据/2020POI\n"
     ]
    },
    {
     "name": "stderr",
     "output_type": "stream",
     "text": [
      "\r",
      " 23%|██████████████████████████████████████▎                                                                                                                                 | 84/368 [00:39<03:14,  1.46it/s]"
     ]
    },
    {
     "name": "stdout",
     "output_type": "stream",
     "text": [
      "Extracted 三门峡市.zip to /data-sat-img/postprocessed/mujiang/POI/全国POI数据/2020POI\n"
     ]
    },
    {
     "name": "stderr",
     "output_type": "stream",
     "text": [
      "\r",
      " 23%|██████████████████████████████████████▊                                                                                                                                 | 85/368 [00:40<02:37,  1.80it/s]"
     ]
    },
    {
     "name": "stdout",
     "output_type": "stream",
     "text": [
      "Extracted 鹰潭市.zip to /data-sat-img/postprocessed/mujiang/POI/全国POI数据/2020POI\n"
     ]
    },
    {
     "name": "stderr",
     "output_type": "stream",
     "text": [
      "\r",
      " 23%|███████████████████████████████████████▎                                                                                                                                | 86/368 [00:40<02:21,  1.99it/s]"
     ]
    },
    {
     "name": "stdout",
     "output_type": "stream",
     "text": [
      "Extracted 百色市.zip to /data-sat-img/postprocessed/mujiang/POI/全国POI数据/2020POI\n"
     ]
    },
    {
     "name": "stderr",
     "output_type": "stream",
     "text": [
      "\r",
      " 24%|███████████████████████████████████████▋                                                                                                                                | 87/368 [00:40<02:26,  1.92it/s]"
     ]
    },
    {
     "name": "stdout",
     "output_type": "stream",
     "text": [
      "Extracted 淮安市.zip to /data-sat-img/postprocessed/mujiang/POI/全国POI数据/2020POI\n"
     ]
    },
    {
     "name": "stderr",
     "output_type": "stream",
     "text": [
      "\r",
      " 24%|████████████████████████████████████████▏                                                                                                                               | 88/368 [00:41<02:05,  2.24it/s]"
     ]
    },
    {
     "name": "stdout",
     "output_type": "stream",
     "text": [
      "Extracted 儋州市.zip to /data-sat-img/postprocessed/mujiang/POI/全国POI数据/2020POI\n"
     ]
    },
    {
     "name": "stderr",
     "output_type": "stream",
     "text": [
      "\r",
      " 24%|████████████████████████████████████████▋                                                                                                                               | 89/368 [00:42<03:10,  1.47it/s]"
     ]
    },
    {
     "name": "stdout",
     "output_type": "stream",
     "text": [
      "Extracted 武汉市.zip to /data-sat-img/postprocessed/mujiang/POI/全国POI数据/2020POI\n"
     ]
    },
    {
     "name": "stderr",
     "output_type": "stream",
     "text": [
      "\r",
      " 24%|█████████████████████████████████████████                                                                                                                               | 90/368 [00:43<03:09,  1.46it/s]"
     ]
    },
    {
     "name": "stdout",
     "output_type": "stream",
     "text": [
      "Extracted 赣州市.zip to /data-sat-img/postprocessed/mujiang/POI/全国POI数据/2020POI\n"
     ]
    },
    {
     "name": "stderr",
     "output_type": "stream",
     "text": [
      "\r",
      " 25%|█████████████████████████████████████████▌                                                                                                                              | 91/368 [00:43<02:41,  1.71it/s]"
     ]
    },
    {
     "name": "stdout",
     "output_type": "stream",
     "text": [
      "Extracted 自贡市.zip to /data-sat-img/postprocessed/mujiang/POI/全国POI数据/2020POI\n"
     ]
    },
    {
     "name": "stderr",
     "output_type": "stream",
     "text": [
      "\r",
      " 25%|██████████████████████████████████████████                                                                                                                              | 92/368 [00:43<02:09,  2.13it/s]"
     ]
    },
    {
     "name": "stdout",
     "output_type": "stream",
     "text": [
      "Extracted 临高县.zip to /data-sat-img/postprocessed/mujiang/POI/全国POI数据/2020POI\n"
     ]
    },
    {
     "name": "stderr",
     "output_type": "stream",
     "text": [
      "\r",
      " 25%|██████████████████████████████████████████▍                                                                                                                             | 93/368 [00:44<02:01,  2.27it/s]"
     ]
    },
    {
     "name": "stdout",
     "output_type": "stream",
     "text": [
      "Extracted 娄底市.zip to /data-sat-img/postprocessed/mujiang/POI/全国POI数据/2020POI\n"
     ]
    },
    {
     "name": "stderr",
     "output_type": "stream",
     "text": [
      "\r",
      " 26%|██████████████████████████████████████████▉                                                                                                                             | 94/368 [00:45<03:26,  1.32it/s]"
     ]
    },
    {
     "name": "stdout",
     "output_type": "stream",
     "text": [
      "Extracted 深圳市.zip to /data-sat-img/postprocessed/mujiang/POI/全国POI数据/2020POI\n"
     ]
    },
    {
     "name": "stderr",
     "output_type": "stream",
     "text": [
      "\r",
      " 26%|███████████████████████████████████████████▎                                                                                                                            | 95/368 [00:45<02:53,  1.57it/s]"
     ]
    },
    {
     "name": "stdout",
     "output_type": "stream",
     "text": [
      "Extracted 通化市.zip to /data-sat-img/postprocessed/mujiang/POI/全国POI数据/2020POI\n"
     ]
    },
    {
     "name": "stderr",
     "output_type": "stream",
     "text": [
      "\r",
      " 26%|███████████████████████████████████████████▊                                                                                                                            | 96/368 [00:46<02:34,  1.76it/s]"
     ]
    },
    {
     "name": "stdout",
     "output_type": "stream",
     "text": [
      "Extracted 西宁市.zip to /data-sat-img/postprocessed/mujiang/POI/全国POI数据/2020POI\n"
     ]
    },
    {
     "name": "stderr",
     "output_type": "stream",
     "text": [
      "\r",
      " 26%|████████████████████████████████████████████▎                                                                                                                           | 97/368 [00:47<02:55,  1.54it/s]"
     ]
    },
    {
     "name": "stdout",
     "output_type": "stream",
     "text": [
      "Extracted 潍坊市.zip to /data-sat-img/postprocessed/mujiang/POI/全国POI数据/2020POI\n"
     ]
    },
    {
     "name": "stderr",
     "output_type": "stream",
     "text": [
      "\r",
      " 27%|████████████████████████████████████████████▋                                                                                                                           | 98/368 [00:47<02:24,  1.87it/s]"
     ]
    },
    {
     "name": "stdout",
     "output_type": "stream",
     "text": [
      "Extracted 伊春市.zip to /data-sat-img/postprocessed/mujiang/POI/全国POI数据/2020POI\n"
     ]
    },
    {
     "name": "stderr",
     "output_type": "stream",
     "text": [
      "\r",
      " 27%|█████████████████████████████████████████████▏                                                                                                                          | 99/368 [00:47<02:05,  2.14it/s]"
     ]
    },
    {
     "name": "stdout",
     "output_type": "stream",
     "text": [
      "Extracted 巴音郭楞蒙古自治州.zip to /data-sat-img/postprocessed/mujiang/POI/全国POI数据/2020POI\n"
     ]
    },
    {
     "name": "stderr",
     "output_type": "stream",
     "text": [
      "\r",
      " 27%|█████████████████████████████████████████████▍                                                                                                                         | 100/368 [00:48<02:12,  2.03it/s]"
     ]
    },
    {
     "name": "stdout",
     "output_type": "stream",
     "text": [
      "Extracted 平顶山市.zip to /data-sat-img/postprocessed/mujiang/POI/全国POI数据/2020POI\n"
     ]
    },
    {
     "name": "stderr",
     "output_type": "stream",
     "text": [
      "\r",
      " 27%|█████████████████████████████████████████████▊                                                                                                                         | 101/368 [00:48<01:54,  2.33it/s]"
     ]
    },
    {
     "name": "stdout",
     "output_type": "stream",
     "text": [
      "Extracted 张掖市.zip to /data-sat-img/postprocessed/mujiang/POI/全国POI数据/2020POI\n"
     ]
    },
    {
     "name": "stderr",
     "output_type": "stream",
     "text": [
      "\r",
      " 28%|██████████████████████████████████████████████▎                                                                                                                        | 102/368 [00:49<02:16,  1.95it/s]"
     ]
    },
    {
     "name": "stdout",
     "output_type": "stream",
     "text": [
      "Extracted 南昌市.zip to /data-sat-img/postprocessed/mujiang/POI/全国POI数据/2020POI\n"
     ]
    },
    {
     "name": "stderr",
     "output_type": "stream",
     "text": [
      "\r",
      " 28%|██████████████████████████████████████████████▋                                                                                                                        | 103/368 [00:49<02:26,  1.80it/s]"
     ]
    },
    {
     "name": "stdout",
     "output_type": "stream",
     "text": [
      "Extracted 徐州市.zip to /data-sat-img/postprocessed/mujiang/POI/全国POI数据/2020POI\n"
     ]
    },
    {
     "name": "stderr",
     "output_type": "stream",
     "text": [
      "\r",
      " 28%|███████████████████████████████████████████████▏                                                                                                                       | 104/368 [00:50<02:05,  2.10it/s]"
     ]
    },
    {
     "name": "stdout",
     "output_type": "stream",
     "text": [
      "Extracted 临夏回族自治州.zip to /data-sat-img/postprocessed/mujiang/POI/全国POI数据/2020POI\n"
     ]
    },
    {
     "name": "stderr",
     "output_type": "stream",
     "text": [
      "\r",
      " 29%|███████████████████████████████████████████████▋                                                                                                                       | 105/368 [00:50<01:57,  2.25it/s]"
     ]
    },
    {
     "name": "stdout",
     "output_type": "stream",
     "text": [
      "Extracted 河池市.zip to /data-sat-img/postprocessed/mujiang/POI/全国POI数据/2020POI\n"
     ]
    },
    {
     "name": "stderr",
     "output_type": "stream",
     "text": [
      "\r",
      " 29%|████████████████████████████████████████████████                                                                                                                       | 106/368 [00:51<01:55,  2.27it/s]"
     ]
    },
    {
     "name": "stdout",
     "output_type": "stream",
     "text": [
      "Extracted 岳阳市.zip to /data-sat-img/postprocessed/mujiang/POI/全国POI数据/2020POI\n"
     ]
    },
    {
     "name": "stderr",
     "output_type": "stream",
     "text": [
      "\r",
      " 29%|████████████████████████████████████████████████▌                                                                                                                      | 107/368 [00:51<01:55,  2.26it/s]"
     ]
    },
    {
     "name": "stdout",
     "output_type": "stream",
     "text": [
      "Extracted 大同市.zip to /data-sat-img/postprocessed/mujiang/POI/全国POI数据/2020POI\n",
      "Extracted 哈密地区.zip to /data-sat-img/postprocessed/mujiang/POI/全国POI数据/2020POI\n"
     ]
    },
    {
     "name": "stderr",
     "output_type": "stream",
     "text": [
      "\r",
      " 30%|█████████████████████████████████████████████████▍                                                                                                                     | 109/368 [00:52<01:49,  2.36it/s]"
     ]
    },
    {
     "name": "stdout",
     "output_type": "stream",
     "text": [
      "Extracted 南通市.zip to /data-sat-img/postprocessed/mujiang/POI/全国POI数据/2020POI\n"
     ]
    },
    {
     "name": "stderr",
     "output_type": "stream",
     "text": [
      "\r",
      " 30%|█████████████████████████████████████████████████▉                                                                                                                     | 110/368 [00:53<02:13,  1.93it/s]"
     ]
    },
    {
     "name": "stdout",
     "output_type": "stream",
     "text": [
      "Extracted 济南市.zip to /data-sat-img/postprocessed/mujiang/POI/全国POI数据/2020POI\n"
     ]
    },
    {
     "name": "stderr",
     "output_type": "stream",
     "text": [
      "\r",
      " 30%|██████████████████████████████████████████████████▎                                                                                                                    | 111/368 [00:53<02:14,  1.91it/s]"
     ]
    },
    {
     "name": "stdout",
     "output_type": "stream",
     "text": [
      "Extracted 汕头市.zip to /data-sat-img/postprocessed/mujiang/POI/全国POI数据/2020POI\n"
     ]
    },
    {
     "name": "stderr",
     "output_type": "stream",
     "text": [
      "\r",
      " 30%|██████████████████████████████████████████████████▊                                                                                                                    | 112/368 [00:53<01:56,  2.19it/s]"
     ]
    },
    {
     "name": "stdout",
     "output_type": "stream",
     "text": [
      "Extracted 平凉市.zip to /data-sat-img/postprocessed/mujiang/POI/全国POI数据/2020POI\n"
     ]
    },
    {
     "name": "stderr",
     "output_type": "stream",
     "text": [
      "\r",
      " 31%|███████████████████████████████████████████████████▎                                                                                                                   | 113/368 [00:54<01:40,  2.55it/s]"
     ]
    },
    {
     "name": "stdout",
     "output_type": "stream",
     "text": [
      "Extracted 黄南藏族自治州.zip to /data-sat-img/postprocessed/mujiang/POI/全国POI数据/2020POI\n"
     ]
    },
    {
     "name": "stderr",
     "output_type": "stream",
     "text": [
      "\r",
      " 31%|███████████████████████████████████████████████████▋                                                                                                                   | 114/368 [00:54<01:34,  2.68it/s]"
     ]
    },
    {
     "name": "stdout",
     "output_type": "stream",
     "text": [
      "Extracted 忻州市.zip to /data-sat-img/postprocessed/mujiang/POI/全国POI数据/2020POI\n"
     ]
    },
    {
     "name": "stderr",
     "output_type": "stream",
     "text": [
      "\r",
      " 31%|████████████████████████████████████████████████████▏                                                                                                                  | 115/368 [00:54<01:28,  2.86it/s]"
     ]
    },
    {
     "name": "stdout",
     "output_type": "stream",
     "text": [
      "Extracted 攀枝花市.zip to /data-sat-img/postprocessed/mujiang/POI/全国POI数据/2020POI\n"
     ]
    },
    {
     "name": "stderr",
     "output_type": "stream",
     "text": [
      "\r",
      " 32%|████████████████████████████████████████████████████▋                                                                                                                  | 116/368 [00:55<02:17,  1.84it/s]"
     ]
    },
    {
     "name": "stdout",
     "output_type": "stream",
     "text": [
      "Extracted 台湾.zip to /data-sat-img/postprocessed/mujiang/POI/全国POI数据/2020POI\n"
     ]
    },
    {
     "name": "stderr",
     "output_type": "stream",
     "text": [
      "\r",
      " 32%|█████████████████████████████████████████████████████                                                                                                                  | 117/368 [00:56<02:57,  1.41it/s]"
     ]
    },
    {
     "name": "stdout",
     "output_type": "stream",
     "text": [
      "Extracted 郑州市.zip to /data-sat-img/postprocessed/mujiang/POI/全国POI数据/2020POI\n"
     ]
    },
    {
     "name": "stderr",
     "output_type": "stream",
     "text": [
      "\r",
      " 32%|█████████████████████████████████████████████████████▌                                                                                                                 | 118/368 [00:57<02:26,  1.71it/s]"
     ]
    },
    {
     "name": "stdout",
     "output_type": "stream",
     "text": [
      "Extracted 安顺市.zip to /data-sat-img/postprocessed/mujiang/POI/全国POI数据/2020POI\n"
     ]
    },
    {
     "name": "stderr",
     "output_type": "stream",
     "text": [
      "\r",
      " 32%|██████████████████████████████████████████████████████                                                                                                                 | 119/368 [00:57<02:24,  1.72it/s]"
     ]
    },
    {
     "name": "stdout",
     "output_type": "stream",
     "text": [
      "Extracted 贵阳市.zip to /data-sat-img/postprocessed/mujiang/POI/全国POI数据/2020POI\n"
     ]
    },
    {
     "name": "stderr",
     "output_type": "stream",
     "text": [
      "\r",
      " 33%|██████████████████████████████████████████████████████▍                                                                                                                | 120/368 [00:58<02:26,  1.70it/s]"
     ]
    },
    {
     "name": "stdout",
     "output_type": "stream",
     "text": [
      "Extracted 运城市.zip to /data-sat-img/postprocessed/mujiang/POI/全国POI数据/2020POI\n"
     ]
    },
    {
     "name": "stderr",
     "output_type": "stream",
     "text": [
      "\r",
      " 33%|██████████████████████████████████████████████████████▉                                                                                                                | 121/368 [00:58<02:01,  2.03it/s]"
     ]
    },
    {
     "name": "stdout",
     "output_type": "stream",
     "text": [
      "Extracted 昌都市.zip to /data-sat-img/postprocessed/mujiang/POI/全国POI数据/2020POI\n"
     ]
    },
    {
     "name": "stderr",
     "output_type": "stream",
     "text": [
      "\r",
      " 33%|███████████████████████████████████████████████████████▎                                                                                                               | 122/368 [00:58<01:39,  2.46it/s]"
     ]
    },
    {
     "name": "stdout",
     "output_type": "stream",
     "text": [
      "Extracted 琼中黎族苗族自治县.zip to /data-sat-img/postprocessed/mujiang/POI/全国POI数据/2020POI\n"
     ]
    },
    {
     "name": "stderr",
     "output_type": "stream",
     "text": [
      "\r",
      " 33%|███████████████████████████████████████████████████████▊                                                                                                               | 123/368 [00:59<01:26,  2.83it/s]"
     ]
    },
    {
     "name": "stdout",
     "output_type": "stream",
     "text": [
      "Extracted 万宁市.zip to /data-sat-img/postprocessed/mujiang/POI/全国POI数据/2020POI\n"
     ]
    },
    {
     "name": "stderr",
     "output_type": "stream",
     "text": [
      "\r",
      " 34%|████████████████████████████████████████████████████████▎                                                                                                              | 124/368 [00:59<01:32,  2.64it/s]"
     ]
    },
    {
     "name": "stdout",
     "output_type": "stream",
     "text": [
      "Extracted 怀化市.zip to /data-sat-img/postprocessed/mujiang/POI/全国POI数据/2020POI\n"
     ]
    },
    {
     "name": "stderr",
     "output_type": "stream",
     "text": [
      "\r",
      " 34%|████████████████████████████████████████████████████████▋                                                                                                              | 125/368 [01:00<01:41,  2.40it/s]"
     ]
    },
    {
     "name": "stdout",
     "output_type": "stream",
     "text": [
      "Extracted 襄阳市.zip to /data-sat-img/postprocessed/mujiang/POI/全国POI数据/2020POI\n"
     ]
    },
    {
     "name": "stderr",
     "output_type": "stream",
     "text": [
      "\r",
      " 34%|█████████████████████████████████████████████████████████▏                                                                                                             | 126/368 [01:00<01:45,  2.29it/s]"
     ]
    },
    {
     "name": "stdout",
     "output_type": "stream",
     "text": [
      "Extracted 宜春市.zip to /data-sat-img/postprocessed/mujiang/POI/全国POI数据/2020POI\n"
     ]
    },
    {
     "name": "stderr",
     "output_type": "stream",
     "text": [
      "\r",
      " 35%|█████████████████████████████████████████████████████████▋                                                                                                             | 127/368 [01:01<02:06,  1.91it/s]"
     ]
    },
    {
     "name": "stdout",
     "output_type": "stream",
     "text": [
      "Extracted 香港特别行政区.zip to /data-sat-img/postprocessed/mujiang/POI/全国POI数据/2020POI\n"
     ]
    },
    {
     "name": "stderr",
     "output_type": "stream",
     "text": [
      "\r",
      " 35%|██████████████████████████████████████████████████████████                                                                                                             | 128/368 [01:01<01:47,  2.23it/s]"
     ]
    },
    {
     "name": "stdout",
     "output_type": "stream",
     "text": [
      "Extracted 陇南市.zip to /data-sat-img/postprocessed/mujiang/POI/全国POI数据/2020POI\n"
     ]
    },
    {
     "name": "stderr",
     "output_type": "stream",
     "text": [
      "\r",
      " 35%|██████████████████████████████████████████████████████████▌                                                                                                            | 129/368 [01:01<01:50,  2.16it/s]"
     ]
    },
    {
     "name": "stdout",
     "output_type": "stream",
     "text": [
      "Extracted 泰安市.zip to /data-sat-img/postprocessed/mujiang/POI/全国POI数据/2020POI\n"
     ]
    },
    {
     "name": "stderr",
     "output_type": "stream",
     "text": [
      "\r",
      " 35%|██████████████████████████████████████████████████████████▉                                                                                                            | 130/368 [01:02<01:39,  2.38it/s]"
     ]
    },
    {
     "name": "stdout",
     "output_type": "stream",
     "text": [
      "Extracted 巴彦淖尔市.zip to /data-sat-img/postprocessed/mujiang/POI/全国POI数据/2020POI\n"
     ]
    },
    {
     "name": "stderr",
     "output_type": "stream",
     "text": [
      "\r",
      " 36%|███████████████████████████████████████████████████████████▍                                                                                                           | 131/368 [01:02<01:44,  2.26it/s]"
     ]
    },
    {
     "name": "stdout",
     "output_type": "stream",
     "text": [
      "Extracted 荆州市.zip to /data-sat-img/postprocessed/mujiang/POI/全国POI数据/2020POI\n"
     ]
    },
    {
     "name": "stderr",
     "output_type": "stream",
     "text": [
      "\r",
      " 36%|███████████████████████████████████████████████████████████▉                                                                                                           | 132/368 [01:03<01:35,  2.47it/s]"
     ]
    },
    {
     "name": "stdout",
     "output_type": "stream",
     "text": [
      "Extracted 武威市.zip to /data-sat-img/postprocessed/mujiang/POI/全国POI数据/2020POI\n"
     ]
    },
    {
     "name": "stderr",
     "output_type": "stream",
     "text": [
      "\r",
      " 36%|████████████████████████████████████████████████████████████▎                                                                                                          | 133/368 [01:05<03:38,  1.07it/s]"
     ]
    },
    {
     "name": "stdout",
     "output_type": "stream",
     "text": [
      "Extracted 上海市.zip to /data-sat-img/postprocessed/mujiang/POI/全国POI数据/2020POI\n"
     ]
    },
    {
     "name": "stderr",
     "output_type": "stream",
     "text": [
      "\r",
      " 36%|████████████████████████████████████████████████████████████▊                                                                                                          | 134/368 [01:05<03:06,  1.25it/s]"
     ]
    },
    {
     "name": "stdout",
     "output_type": "stream",
     "text": [
      "Extracted 驻马店市.zip to /data-sat-img/postprocessed/mujiang/POI/全国POI数据/2020POI\n"
     ]
    },
    {
     "name": "stderr",
     "output_type": "stream",
     "text": [
      "\r",
      " 37%|█████████████████████████████████████████████████████████████▎                                                                                                         | 135/368 [01:06<03:17,  1.18it/s]"
     ]
    },
    {
     "name": "stdout",
     "output_type": "stream",
     "text": [
      "Extracted 无锡市.zip to /data-sat-img/postprocessed/mujiang/POI/全国POI数据/2020POI\n"
     ]
    },
    {
     "name": "stderr",
     "output_type": "stream",
     "text": [
      "\r",
      " 37%|█████████████████████████████████████████████████████████████▋                                                                                                         | 136/368 [01:07<02:48,  1.38it/s]"
     ]
    },
    {
     "name": "stdout",
     "output_type": "stream",
     "text": [
      "Extracted 佳木斯市.zip to /data-sat-img/postprocessed/mujiang/POI/全国POI数据/2020POI\n"
     ]
    },
    {
     "name": "stderr",
     "output_type": "stream",
     "text": [
      "\r",
      " 37%|██████████████████████████████████████████████████████████████▏                                                                                                        | 137/368 [01:07<02:50,  1.36it/s]"
     ]
    },
    {
     "name": "stdout",
     "output_type": "stream",
     "text": [
      "Extracted 常州市.zip to /data-sat-img/postprocessed/mujiang/POI/全国POI数据/2020POI\n"
     ]
    },
    {
     "name": "stderr",
     "output_type": "stream",
     "text": [
      "\r",
      " 38%|██████████████████████████████████████████████████████████████▋                                                                                                        | 138/368 [01:08<02:18,  1.66it/s]"
     ]
    },
    {
     "name": "stdout",
     "output_type": "stream",
     "text": [
      "Extracted 兴安盟.zip to /data-sat-img/postprocessed/mujiang/POI/全国POI数据/2020POI\n"
     ]
    },
    {
     "name": "stderr",
     "output_type": "stream",
     "text": [
      "\r",
      " 38%|███████████████████████████████████████████████████████████████                                                                                                        | 139/368 [01:08<02:22,  1.61it/s]"
     ]
    },
    {
     "name": "stdout",
     "output_type": "stream",
     "text": [
      "Extracted 太原市.zip to /data-sat-img/postprocessed/mujiang/POI/全国POI数据/2020POI\n"
     ]
    },
    {
     "name": "stderr",
     "output_type": "stream",
     "text": [
      "\r",
      " 38%|███████████████████████████████████████████████████████████████▌                                                                                                       | 140/368 [01:09<02:05,  1.82it/s]"
     ]
    },
    {
     "name": "stdout",
     "output_type": "stream",
     "text": [
      "Extracted 崇左市.zip to /data-sat-img/postprocessed/mujiang/POI/全国POI数据/2020POI\n"
     ]
    },
    {
     "name": "stderr",
     "output_type": "stream",
     "text": [
      "\r",
      " 38%|███████████████████████████████████████████████████████████████▉                                                                                                       | 141/368 [01:09<01:50,  2.05it/s]"
     ]
    },
    {
     "name": "stdout",
     "output_type": "stream",
     "text": [
      "Extracted 辽阳市.zip to /data-sat-img/postprocessed/mujiang/POI/全国POI数据/2020POI\n"
     ]
    },
    {
     "name": "stderr",
     "output_type": "stream",
     "text": [
      "\r",
      " 39%|████████████████████████████████████████████████████████████████▍                                                                                                      | 142/368 [01:09<01:39,  2.26it/s]"
     ]
    },
    {
     "name": "stdout",
     "output_type": "stream",
     "text": [
      "Extracted 鹤壁市.zip to /data-sat-img/postprocessed/mujiang/POI/全国POI数据/2020POI\n"
     ]
    },
    {
     "name": "stderr",
     "output_type": "stream",
     "text": [
      "\r",
      " 39%|████████████████████████████████████████████████████████████████▉                                                                                                      | 143/368 [01:10<01:27,  2.56it/s]"
     ]
    },
    {
     "name": "stdout",
     "output_type": "stream",
     "text": [
      "Extracted 石河子市.zip to /data-sat-img/postprocessed/mujiang/POI/全国POI数据/2020POI\n"
     ]
    },
    {
     "name": "stderr",
     "output_type": "stream",
     "text": [
      "\r",
      " 39%|█████████████████████████████████████████████████████████████████▎                                                                                                     | 144/368 [01:10<01:28,  2.54it/s]"
     ]
    },
    {
     "name": "stdout",
     "output_type": "stream",
     "text": [
      "Extracted 孝感市.zip to /data-sat-img/postprocessed/mujiang/POI/全国POI数据/2020POI\n"
     ]
    },
    {
     "name": "stderr",
     "output_type": "stream",
     "text": [
      "\r",
      " 39%|█████████████████████████████████████████████████████████████████▊                                                                                                     | 145/368 [01:11<01:27,  2.55it/s]"
     ]
    },
    {
     "name": "stdout",
     "output_type": "stream",
     "text": [
      "Extracted 庆阳市.zip to /data-sat-img/postprocessed/mujiang/POI/全国POI数据/2020POI\n"
     ]
    },
    {
     "name": "stderr",
     "output_type": "stream",
     "text": [
      "\r",
      " 40%|██████████████████████████████████████████████████████████████████▎                                                                                                    | 146/368 [01:11<01:35,  2.32it/s]"
     ]
    },
    {
     "name": "stdout",
     "output_type": "stream",
     "text": [
      "Extracted 呼和浩特市.zip to /data-sat-img/postprocessed/mujiang/POI/全国POI数据/2020POI\n"
     ]
    },
    {
     "name": "stderr",
     "output_type": "stream",
     "text": [
      "\r",
      " 40%|██████████████████████████████████████████████████████████████████▋                                                                                                    | 147/368 [01:12<01:42,  2.16it/s]"
     ]
    },
    {
     "name": "stdout",
     "output_type": "stream",
     "text": [
      "Extracted 清远市.zip to /data-sat-img/postprocessed/mujiang/POI/全国POI数据/2020POI\n"
     ]
    },
    {
     "name": "stderr",
     "output_type": "stream",
     "text": [
      "\r",
      " 40%|███████████████████████████████████████████████████████████████████▏                                                                                                   | 148/368 [01:12<02:02,  1.79it/s]"
     ]
    },
    {
     "name": "stdout",
     "output_type": "stream",
     "text": [
      "Extracted 长春市.zip to /data-sat-img/postprocessed/mujiang/POI/全国POI数据/2020POI\n"
     ]
    },
    {
     "name": "stderr",
     "output_type": "stream",
     "text": [
      "\r",
      " 40%|███████████████████████████████████████████████████████████████████▌                                                                                                   | 149/368 [01:13<01:49,  1.99it/s]"
     ]
    },
    {
     "name": "stdout",
     "output_type": "stream",
     "text": [
      "Extracted 德宏傣族景颇族自治州.zip to /data-sat-img/postprocessed/mujiang/POI/全国POI数据/2020POI\n"
     ]
    },
    {
     "name": "stderr",
     "output_type": "stream",
     "text": [
      "\r",
      " 41%|████████████████████████████████████████████████████████████████████                                                                                                   | 150/368 [01:13<02:06,  1.73it/s]"
     ]
    },
    {
     "name": "stdout",
     "output_type": "stream",
     "text": [
      "Extracted 临沂市.zip to /data-sat-img/postprocessed/mujiang/POI/全国POI数据/2020POI\n"
     ]
    },
    {
     "name": "stderr",
     "output_type": "stream",
     "text": [
      "\r",
      " 41%|████████████████████████████████████████████████████████████████████▌                                                                                                  | 151/368 [01:14<01:59,  1.82it/s]"
     ]
    },
    {
     "name": "stdout",
     "output_type": "stream",
     "text": [
      "Extracted 滨州市.zip to /data-sat-img/postprocessed/mujiang/POI/全国POI数据/2020POI\n"
     ]
    },
    {
     "name": "stderr",
     "output_type": "stream",
     "text": [
      "\r",
      " 41%|████████████████████████████████████████████████████████████████████▉                                                                                                  | 152/368 [01:14<01:56,  1.86it/s]"
     ]
    },
    {
     "name": "stdout",
     "output_type": "stream",
     "text": [
      "Extracted 银川市.zip to /data-sat-img/postprocessed/mujiang/POI/全国POI数据/2020POI\n"
     ]
    },
    {
     "name": "stderr",
     "output_type": "stream",
     "text": [
      "\r",
      " 42%|█████████████████████████████████████████████████████████████████████▍                                                                                                 | 153/368 [01:15<01:43,  2.07it/s]"
     ]
    },
    {
     "name": "stdout",
     "output_type": "stream",
     "text": [
      "Extracted 文山壮族苗族自治州.zip to /data-sat-img/postprocessed/mujiang/POI/全国POI数据/2020POI\n"
     ]
    },
    {
     "name": "stderr",
     "output_type": "stream",
     "text": [
      "\r",
      " 42%|█████████████████████████████████████████████████████████████████████▉                                                                                                 | 154/368 [01:15<01:32,  2.31it/s]"
     ]
    },
    {
     "name": "stdout",
     "output_type": "stream",
     "text": [
      "Extracted 漯河市.zip to /data-sat-img/postprocessed/mujiang/POI/全国POI数据/2020POI\n"
     ]
    },
    {
     "name": "stderr",
     "output_type": "stream",
     "text": [
      "\r",
      " 42%|██████████████████████████████████████████████████████████████████████▎                                                                                                | 155/368 [01:15<01:22,  2.58it/s]"
     ]
    },
    {
     "name": "stdout",
     "output_type": "stream",
     "text": [
      "Extracted 潜江市.zip to /data-sat-img/postprocessed/mujiang/POI/全国POI数据/2020POI\n"
     ]
    },
    {
     "name": "stderr",
     "output_type": "stream",
     "text": [
      "\r",
      " 42%|██████████████████████████████████████████████████████████████████████▊                                                                                                | 156/368 [01:16<01:15,  2.80it/s]"
     ]
    },
    {
     "name": "stdout",
     "output_type": "stream",
     "text": [
      "Extracted 莱芜市.zip to /data-sat-img/postprocessed/mujiang/POI/全国POI数据/2020POI\n"
     ]
    },
    {
     "name": "stderr",
     "output_type": "stream",
     "text": [
      "\r",
      " 43%|███████████████████████████████████████████████████████████████████████▏                                                                                               | 157/368 [01:16<01:20,  2.62it/s]"
     ]
    },
    {
     "name": "stdout",
     "output_type": "stream",
     "text": [
      "Extracted 呼伦贝尔市.zip to /data-sat-img/postprocessed/mujiang/POI/全国POI数据/2020POI\n"
     ]
    },
    {
     "name": "stderr",
     "output_type": "stream",
     "text": [
      "\r",
      " 43%|███████████████████████████████████████████████████████████████████████▋                                                                                               | 158/368 [01:16<01:16,  2.74it/s]"
     ]
    },
    {
     "name": "stdout",
     "output_type": "stream",
     "text": [
      "Extracted 阳江市.zip to /data-sat-img/postprocessed/mujiang/POI/全国POI数据/2020POI\n"
     ]
    },
    {
     "name": "stderr",
     "output_type": "stream",
     "text": [
      " 43%|████████████████████████████████████████████████████████████████████████▌                                                                                              | 160/368 [01:17<00:59,  3.50it/s]"
     ]
    },
    {
     "name": "stdout",
     "output_type": "stream",
     "text": [
      "Extracted 阿勒泰地区.zip to /data-sat-img/postprocessed/mujiang/POI/全国POI数据/2020POI\n",
      "Extracted 阿拉善盟.zip to /data-sat-img/postprocessed/mujiang/POI/全国POI数据/2020POI\n"
     ]
    },
    {
     "name": "stderr",
     "output_type": "stream",
     "text": [
      "\r",
      " 44%|█████████████████████████████████████████████████████████████████████████                                                                                              | 161/368 [01:17<01:08,  3.02it/s]"
     ]
    },
    {
     "name": "stdout",
     "output_type": "stream",
     "text": [
      "Extracted 丹东市.zip to /data-sat-img/postprocessed/mujiang/POI/全国POI数据/2020POI\n"
     ]
    },
    {
     "name": "stderr",
     "output_type": "stream",
     "text": [
      "\r",
      " 44%|█████████████████████████████████████████████████████████████████████████▌                                                                                             | 162/368 [01:18<01:18,  2.63it/s]"
     ]
    },
    {
     "name": "stdout",
     "output_type": "stream",
     "text": [
      "Extracted 南充市.zip to /data-sat-img/postprocessed/mujiang/POI/全国POI数据/2020POI\n"
     ]
    },
    {
     "name": "stderr",
     "output_type": "stream",
     "text": [
      " 45%|██████████████████████████████████████████████████████████████████████████▍                                                                                            | 164/368 [01:18<00:59,  3.43it/s]"
     ]
    },
    {
     "name": "stdout",
     "output_type": "stream",
     "text": [
      "Extracted 双鸭山市.zip to /data-sat-img/postprocessed/mujiang/POI/全国POI数据/2020POI\n",
      "Extracted 可克达拉市.zip to /data-sat-img/postprocessed/mujiang/POI/全国POI数据/2020POI\n"
     ]
    },
    {
     "name": "stderr",
     "output_type": "stream",
     "text": [
      "\r",
      " 45%|██████████████████████████████████████████████████████████████████████████▉                                                                                            | 165/368 [01:19<01:19,  2.55it/s]"
     ]
    },
    {
     "name": "stdout",
     "output_type": "stream",
     "text": [
      "Extracted 江门市.zip to /data-sat-img/postprocessed/mujiang/POI/全国POI数据/2020POI\n"
     ]
    },
    {
     "name": "stderr",
     "output_type": "stream",
     "text": [
      "\r",
      " 45%|███████████████████████████████████████████████████████████████████████████▎                                                                                           | 166/368 [01:19<01:27,  2.31it/s]"
     ]
    },
    {
     "name": "stdout",
     "output_type": "stream",
     "text": [
      "Extracted 防城港市.zip to /data-sat-img/postprocessed/mujiang/POI/全国POI数据/2020POI\n"
     ]
    },
    {
     "name": "stderr",
     "output_type": "stream",
     "text": [
      "\r",
      " 45%|███████████████████████████████████████████████████████████████████████████▊                                                                                           | 167/368 [01:20<01:29,  2.24it/s]"
     ]
    },
    {
     "name": "stdout",
     "output_type": "stream",
     "text": [
      "Extracted 郴州市.zip to /data-sat-img/postprocessed/mujiang/POI/全国POI数据/2020POI\n",
      "Extracted 山南地区.zip to /data-sat-img/postprocessed/mujiang/POI/全国POI数据/2020POI\n"
     ]
    },
    {
     "name": "stderr",
     "output_type": "stream",
     "text": [
      "\r",
      " 46%|████████████████████████████████████████████████████████████████████████████▋                                                                                          | 169/368 [01:20<01:09,  2.87it/s]"
     ]
    },
    {
     "name": "stdout",
     "output_type": "stream",
     "text": [
      "Extracted 丽水市.zip to /data-sat-img/postprocessed/mujiang/POI/全国POI数据/2020POI\n"
     ]
    },
    {
     "name": "stderr",
     "output_type": "stream",
     "text": [
      "\r",
      " 46%|█████████████████████████████████████████████████████████████████████████████▏                                                                                         | 170/368 [01:21<01:16,  2.59it/s]"
     ]
    },
    {
     "name": "stdout",
     "output_type": "stream",
     "text": [
      "Extracted 德阳市.zip to /data-sat-img/postprocessed/mujiang/POI/全国POI数据/2020POI\n"
     ]
    },
    {
     "name": "stderr",
     "output_type": "stream",
     "text": [
      "\r",
      " 46%|█████████████████████████████████████████████████████████████████████████████▌                                                                                         | 171/368 [01:21<01:11,  2.76it/s]"
     ]
    },
    {
     "name": "stdout",
     "output_type": "stream",
     "text": [
      "Extracted 哈密市.zip to /data-sat-img/postprocessed/mujiang/POI/全国POI数据/2020POI\n"
     ]
    },
    {
     "name": "stderr",
     "output_type": "stream",
     "text": [
      "\r",
      " 47%|██████████████████████████████████████████████████████████████████████████████                                                                                         | 172/368 [01:22<01:36,  2.03it/s]"
     ]
    },
    {
     "name": "stdout",
     "output_type": "stream",
     "text": [
      "Extracted 台州市.zip to /data-sat-img/postprocessed/mujiang/POI/全国POI数据/2020POI\n"
     ]
    },
    {
     "name": "stderr",
     "output_type": "stream",
     "text": [
      "\r",
      " 47%|██████████████████████████████████████████████████████████████████████████████▌                                                                                        | 173/368 [01:23<01:36,  2.01it/s]"
     ]
    },
    {
     "name": "stdout",
     "output_type": "stream",
     "text": [
      "Extracted 株洲市.zip to /data-sat-img/postprocessed/mujiang/POI/全国POI数据/2020POI\n"
     ]
    },
    {
     "name": "stderr",
     "output_type": "stream",
     "text": [
      "\r",
      " 47%|██████████████████████████████████████████████████████████████████████████████▉                                                                                        | 174/368 [01:23<01:32,  2.10it/s]"
     ]
    },
    {
     "name": "stdout",
     "output_type": "stream",
     "text": [
      "Extracted 河源市.zip to /data-sat-img/postprocessed/mujiang/POI/全国POI数据/2020POI\n"
     ]
    },
    {
     "name": "stderr",
     "output_type": "stream",
     "text": [
      "\r",
      " 48%|███████████████████████████████████████████████████████████████████████████████▍                                                                                       | 175/368 [01:23<01:27,  2.20it/s]"
     ]
    },
    {
     "name": "stdout",
     "output_type": "stream",
     "text": [
      "Extracted 乌兰察布市.zip to /data-sat-img/postprocessed/mujiang/POI/全国POI数据/2020POI\n"
     ]
    },
    {
     "name": "stderr",
     "output_type": "stream",
     "text": [
      "\r",
      " 48%|███████████████████████████████████████████████████████████████████████████████▊                                                                                       | 176/368 [01:24<01:22,  2.34it/s]"
     ]
    },
    {
     "name": "stdout",
     "output_type": "stream",
     "text": [
      "Extracted 松原市.zip to /data-sat-img/postprocessed/mujiang/POI/全国POI数据/2020POI\n"
     ]
    },
    {
     "name": "stderr",
     "output_type": "stream",
     "text": [
      "\r",
      " 48%|████████████████████████████████████████████████████████████████████████████████▎                                                                                      | 177/368 [01:24<01:14,  2.56it/s]"
     ]
    },
    {
     "name": "stdout",
     "output_type": "stream",
     "text": [
      "Extracted 乌海市.zip to /data-sat-img/postprocessed/mujiang/POI/全国POI数据/2020POI\n"
     ]
    },
    {
     "name": "stderr",
     "output_type": "stream",
     "text": [
      "\r",
      " 48%|████████████████████████████████████████████████████████████████████████████████▊                                                                                      | 178/368 [01:24<01:05,  2.90it/s]"
     ]
    },
    {
     "name": "stdout",
     "output_type": "stream",
     "text": [
      "Extracted 博尔塔拉蒙古自治州.zip to /data-sat-img/postprocessed/mujiang/POI/全国POI数据/2020POI\n"
     ]
    },
    {
     "name": "stderr",
     "output_type": "stream",
     "text": [
      "\r",
      " 49%|█████████████████████████████████████████████████████████████████████████████████▏                                                                                     | 179/368 [01:25<01:02,  3.00it/s]"
     ]
    },
    {
     "name": "stdout",
     "output_type": "stream",
     "text": [
      "Extracted 七台河市.zip to /data-sat-img/postprocessed/mujiang/POI/全国POI数据/2020POI\n"
     ]
    },
    {
     "name": "stderr",
     "output_type": "stream",
     "text": [
      "\r",
      " 49%|█████████████████████████████████████████████████████████████████████████████████▋                                                                                     | 180/368 [01:25<01:05,  2.85it/s]"
     ]
    },
    {
     "name": "stdout",
     "output_type": "stream",
     "text": [
      "Extracted 龙岩市.zip to /data-sat-img/postprocessed/mujiang/POI/全国POI数据/2020POI\n"
     ]
    },
    {
     "name": "stderr",
     "output_type": "stream",
     "text": [
      "\r",
      " 49%|██████████████████████████████████████████████████████████████████████████████████▏                                                                                    | 181/368 [01:25<01:04,  2.88it/s]"
     ]
    },
    {
     "name": "stdout",
     "output_type": "stream",
     "text": [
      "Extracted 北海市.zip to /data-sat-img/postprocessed/mujiang/POI/全国POI数据/2020POI\n"
     ]
    },
    {
     "name": "stderr",
     "output_type": "stream",
     "text": [
      "\r",
      " 49%|██████████████████████████████████████████████████████████████████████████████████▌                                                                                    | 182/368 [01:26<01:05,  2.82it/s]"
     ]
    },
    {
     "name": "stdout",
     "output_type": "stream",
     "text": [
      "Extracted 延安市.zip to /data-sat-img/postprocessed/mujiang/POI/全国POI数据/2020POI\n"
     ]
    },
    {
     "name": "stderr",
     "output_type": "stream",
     "text": [
      "\r",
      " 50%|███████████████████████████████████████████████████████████████████████████████████                                                                                    | 183/368 [01:26<01:05,  2.81it/s]"
     ]
    },
    {
     "name": "stdout",
     "output_type": "stream",
     "text": [
      "Extracted 牡丹江市.zip to /data-sat-img/postprocessed/mujiang/POI/全国POI数据/2020POI\n"
     ]
    },
    {
     "name": "stderr",
     "output_type": "stream",
     "text": [
      "\r",
      " 50%|███████████████████████████████████████████████████████████████████████████████████▌                                                                                   | 184/368 [01:26<01:05,  2.81it/s]"
     ]
    },
    {
     "name": "stdout",
     "output_type": "stream",
     "text": [
      "Extracted 钦州市.zip to /data-sat-img/postprocessed/mujiang/POI/全国POI数据/2020POI\n"
     ]
    },
    {
     "name": "stderr",
     "output_type": "stream",
     "text": [
      "\r",
      " 50%|███████████████████████████████████████████████████████████████████████████████████▉                                                                                   | 185/368 [01:27<01:13,  2.49it/s]"
     ]
    },
    {
     "name": "stdout",
     "output_type": "stream",
     "text": [
      "Extracted 宿迁市.zip to /data-sat-img/postprocessed/mujiang/POI/全国POI数据/2020POI\n"
     ]
    },
    {
     "name": "stderr",
     "output_type": "stream",
     "text": [
      "\r",
      " 51%|████████████████████████████████████████████████████████████████████████████████████▍                                                                                  | 186/368 [01:27<01:09,  2.63it/s]"
     ]
    },
    {
     "name": "stdout",
     "output_type": "stream",
     "text": [
      "Extracted 普洱市.zip to /data-sat-img/postprocessed/mujiang/POI/全国POI数据/2020POI\n"
     ]
    },
    {
     "name": "stderr",
     "output_type": "stream",
     "text": [
      "\r",
      " 51%|████████████████████████████████████████████████████████████████████████████████████▊                                                                                  | 187/368 [01:28<01:41,  1.79it/s]"
     ]
    },
    {
     "name": "stdout",
     "output_type": "stream",
     "text": [
      "Extracted 长沙市.zip to /data-sat-img/postprocessed/mujiang/POI/全国POI数据/2020POI\n"
     ]
    },
    {
     "name": "stderr",
     "output_type": "stream",
     "text": [
      "\r",
      " 51%|█████████████████████████████████████████████████████████████████████████████████████▎                                                                                 | 188/368 [01:29<01:29,  2.00it/s]"
     ]
    },
    {
     "name": "stdout",
     "output_type": "stream",
     "text": [
      "Extracted 广安市.zip to /data-sat-img/postprocessed/mujiang/POI/全国POI数据/2020POI\n"
     ]
    },
    {
     "name": "stderr",
     "output_type": "stream",
     "text": [
      "\r",
      " 51%|█████████████████████████████████████████████████████████████████████████████████████▊                                                                                 | 189/368 [01:29<01:32,  1.94it/s]"
     ]
    },
    {
     "name": "stdout",
     "output_type": "stream",
     "text": [
      "Extracted 聊城市.zip to /data-sat-img/postprocessed/mujiang/POI/全国POI数据/2020POI\n"
     ]
    },
    {
     "name": "stderr",
     "output_type": "stream",
     "text": [
      "\r",
      " 52%|██████████████████████████████████████████████████████████████████████████████████████▏                                                                                | 190/368 [01:30<01:31,  1.94it/s]"
     ]
    },
    {
     "name": "stdout",
     "output_type": "stream",
     "text": [
      "Extracted 阜阳市.zip to /data-sat-img/postprocessed/mujiang/POI/全国POI数据/2020POI\n"
     ]
    },
    {
     "name": "stderr",
     "output_type": "stream",
     "text": [
      "\r",
      " 52%|██████████████████████████████████████████████████████████████████████████████████████▋                                                                                | 191/368 [01:31<01:54,  1.55it/s]"
     ]
    },
    {
     "name": "stdout",
     "output_type": "stream",
     "text": [
      "Extracted 咸阳市.zip to /data-sat-img/postprocessed/mujiang/POI/全国POI数据/2020POI\n"
     ]
    },
    {
     "name": "stderr",
     "output_type": "stream",
     "text": [
      "\r",
      " 52%|███████████████████████████████████████████████████████████████████████████████████████▏                                                                               | 192/368 [01:31<01:56,  1.52it/s]"
     ]
    },
    {
     "name": "stdout",
     "output_type": "stream",
     "text": [
      "Extracted 惠州市.zip to /data-sat-img/postprocessed/mujiang/POI/全国POI数据/2020POI\n"
     ]
    },
    {
     "name": "stderr",
     "output_type": "stream",
     "text": [
      "\r",
      " 52%|███████████████████████████████████████████████████████████████████████████████████████▌                                                                               | 193/368 [01:32<01:39,  1.76it/s]"
     ]
    },
    {
     "name": "stdout",
     "output_type": "stream",
     "text": [
      "Extracted 随州市.zip to /data-sat-img/postprocessed/mujiang/POI/全国POI数据/2020POI\n"
     ]
    },
    {
     "name": "stderr",
     "output_type": "stream",
     "text": [
      "\r",
      " 53%|████████████████████████████████████████████████████████████████████████████████████████                                                                               | 194/368 [01:32<01:31,  1.90it/s]"
     ]
    },
    {
     "name": "stdout",
     "output_type": "stream",
     "text": [
      "Extracted 日照市.zip to /data-sat-img/postprocessed/mujiang/POI/全国POI数据/2020POI\n"
     ]
    },
    {
     "name": "stderr",
     "output_type": "stream",
     "text": [
      "\r",
      " 53%|████████████████████████████████████████████████████████████████████████████████████████▍                                                                              | 195/368 [01:34<02:20,  1.23it/s]"
     ]
    },
    {
     "name": "stdout",
     "output_type": "stream",
     "text": [
      "Extracted 重庆市.zip to /data-sat-img/postprocessed/mujiang/POI/全国POI数据/2020POI\n"
     ]
    },
    {
     "name": "stderr",
     "output_type": "stream",
     "text": [
      "\r",
      " 53%|████████████████████████████████████████████████████████████████████████████████████████▉                                                                              | 196/368 [01:34<02:07,  1.34it/s]"
     ]
    },
    {
     "name": "stdout",
     "output_type": "stream",
     "text": [
      "Extracted 周口市.zip to /data-sat-img/postprocessed/mujiang/POI/全国POI数据/2020POI\n"
     ]
    },
    {
     "name": "stderr",
     "output_type": "stream",
     "text": [
      "\r",
      " 54%|█████████████████████████████████████████████████████████████████████████████████████████▍                                                                             | 197/368 [01:35<01:57,  1.46it/s]"
     ]
    },
    {
     "name": "stdout",
     "output_type": "stream",
     "text": [
      "Extracted 常德市.zip to /data-sat-img/postprocessed/mujiang/POI/全国POI数据/2020POI\n"
     ]
    },
    {
     "name": "stderr",
     "output_type": "stream",
     "text": [
      "\r",
      " 54%|█████████████████████████████████████████████████████████████████████████████████████████▊                                                                             | 198/368 [01:35<01:46,  1.59it/s]"
     ]
    },
    {
     "name": "stdout",
     "output_type": "stream",
     "text": [
      "Extracted 承德市.zip to /data-sat-img/postprocessed/mujiang/POI/全国POI数据/2020POI\n"
     ]
    },
    {
     "name": "stderr",
     "output_type": "stream",
     "text": [
      "\r",
      " 54%|██████████████████████████████████████████████████████████████████████████████████████████▎                                                                            | 199/368 [01:36<01:41,  1.67it/s]"
     ]
    },
    {
     "name": "stdout",
     "output_type": "stream",
     "text": [
      "Extracted 绥化市.zip to /data-sat-img/postprocessed/mujiang/POI/全国POI数据/2020POI\n"
     ]
    },
    {
     "name": "stderr",
     "output_type": "stream",
     "text": [
      "\r",
      " 54%|██████████████████████████████████████████████████████████████████████████████████████████▊                                                                            | 200/368 [01:37<01:55,  1.45it/s]"
     ]
    },
    {
     "name": "stdout",
     "output_type": "stream",
     "text": [
      "Extracted 泉州市.zip to /data-sat-img/postprocessed/mujiang/POI/全国POI数据/2020POI\n"
     ]
    },
    {
     "name": "stderr",
     "output_type": "stream",
     "text": [
      "\r",
      " 55%|███████████████████████████████████████████████████████████████████████████████████████████▏                                                                           | 201/368 [01:37<01:58,  1.41it/s]"
     ]
    },
    {
     "name": "stdout",
     "output_type": "stream",
     "text": [
      "Extracted 唐山市.zip to /data-sat-img/postprocessed/mujiang/POI/全国POI数据/2020POI\n"
     ]
    },
    {
     "name": "stderr",
     "output_type": "stream",
     "text": [
      "\r",
      " 55%|███████████████████████████████████████████████████████████████████████████████████████████▋                                                                           | 202/368 [01:38<01:43,  1.61it/s]"
     ]
    },
    {
     "name": "stdout",
     "output_type": "stream",
     "text": [
      "Extracted 白城市.zip to /data-sat-img/postprocessed/mujiang/POI/全国POI数据/2020POI\n"
     ]
    },
    {
     "name": "stderr",
     "output_type": "stream",
     "text": [
      "\r",
      " 55%|████████████████████████████████████████████████████████████████████████████████████████████                                                                           | 203/368 [01:38<01:26,  1.91it/s]"
     ]
    },
    {
     "name": "stdout",
     "output_type": "stream",
     "text": [
      "Extracted 济源市.zip to /data-sat-img/postprocessed/mujiang/POI/全国POI数据/2020POI\n"
     ]
    },
    {
     "name": "stderr",
     "output_type": "stream",
     "text": [
      "\r",
      " 55%|████████████████████████████████████████████████████████████████████████████████████████████▌                                                                          | 204/368 [01:38<01:20,  2.04it/s]"
     ]
    },
    {
     "name": "stdout",
     "output_type": "stream",
     "text": [
      "Extracted 恩施土家族苗族自治州.zip to /data-sat-img/postprocessed/mujiang/POI/全国POI数据/2020POI\n"
     ]
    },
    {
     "name": "stderr",
     "output_type": "stream",
     "text": [
      "\r",
      " 56%|█████████████████████████████████████████████████████████████████████████████████████████████                                                                          | 205/368 [01:39<01:33,  1.75it/s]"
     ]
    },
    {
     "name": "stdout",
     "output_type": "stream",
     "text": [
      "Extracted 保定市.zip to /data-sat-img/postprocessed/mujiang/POI/全国POI数据/2020POI\n"
     ]
    },
    {
     "name": "stderr",
     "output_type": "stream",
     "text": [
      "\r",
      " 56%|█████████████████████████████████████████████████████████████████████████████████████████████▍                                                                         | 206/368 [01:40<01:32,  1.74it/s]"
     ]
    },
    {
     "name": "stdout",
     "output_type": "stream",
     "text": [
      "Extracted 开封市.zip to /data-sat-img/postprocessed/mujiang/POI/全国POI数据/2020POI\n"
     ]
    },
    {
     "name": "stderr",
     "output_type": "stream",
     "text": [
      "\r",
      " 56%|█████████████████████████████████████████████████████████████████████████████████████████████▉                                                                         | 207/368 [01:40<01:29,  1.80it/s]"
     ]
    },
    {
     "name": "stdout",
     "output_type": "stream",
     "text": [
      "Extracted 漳州市.zip to /data-sat-img/postprocessed/mujiang/POI/全国POI数据/2020POI\n"
     ]
    },
    {
     "name": "stderr",
     "output_type": "stream",
     "text": [
      "\r",
      " 57%|██████████████████████████████████████████████████████████████████████████████████████████████▍                                                                        | 208/368 [01:41<01:36,  1.65it/s]"
     ]
    },
    {
     "name": "stdout",
     "output_type": "stream",
     "text": [
      "Extracted 泰州市.zip to /data-sat-img/postprocessed/mujiang/POI/全国POI数据/2020POI\n"
     ]
    },
    {
     "name": "stderr",
     "output_type": "stream",
     "text": [
      "\r",
      " 57%|██████████████████████████████████████████████████████████████████████████████████████████████▊                                                                        | 209/368 [01:41<01:26,  1.84it/s]"
     ]
    },
    {
     "name": "stdout",
     "output_type": "stream",
     "text": [
      "Extracted 宝鸡市.zip to /data-sat-img/postprocessed/mujiang/POI/全国POI数据/2020POI\n"
     ]
    },
    {
     "name": "stderr",
     "output_type": "stream",
     "text": [
      "\r",
      " 57%|███████████████████████████████████████████████████████████████████████████████████████████████▎                                                                       | 210/368 [01:42<01:16,  2.06it/s]"
     ]
    },
    {
     "name": "stdout",
     "output_type": "stream",
     "text": [
      "Extracted 内江市.zip to /data-sat-img/postprocessed/mujiang/POI/全国POI数据/2020POI\n"
     ]
    },
    {
     "name": "stderr",
     "output_type": "stream",
     "text": [
      "\r",
      " 57%|███████████████████████████████████████████████████████████████████████████████████████████████▊                                                                       | 211/368 [01:42<01:17,  2.01it/s]"
     ]
    },
    {
     "name": "stdout",
     "output_type": "stream",
     "text": [
      "Extracted 镇江市.zip to /data-sat-img/postprocessed/mujiang/POI/全国POI数据/2020POI\n"
     ]
    },
    {
     "name": "stderr",
     "output_type": "stream",
     "text": [
      "\r",
      " 58%|████████████████████████████████████████████████████████████████████████████████████████████████▏                                                                      | 212/368 [01:43<01:44,  1.49it/s]"
     ]
    },
    {
     "name": "stdout",
     "output_type": "stream",
     "text": [
      "Extracted 青岛市.zip to /data-sat-img/postprocessed/mujiang/POI/全国POI数据/2020POI\n"
     ]
    },
    {
     "name": "stderr",
     "output_type": "stream",
     "text": [
      "\r",
      " 58%|████████████████████████████████████████████████████████████████████████████████████████████████▋                                                                      | 213/368 [01:44<01:34,  1.64it/s]"
     ]
    },
    {
     "name": "stdout",
     "output_type": "stream",
     "text": [
      "Extracted 黔南布依族苗族自治州.zip to /data-sat-img/postprocessed/mujiang/POI/全国POI数据/2020POI\n"
     ]
    },
    {
     "name": "stderr",
     "output_type": "stream",
     "text": [
      "\r",
      " 58%|█████████████████████████████████████████████████████████████████████████████████████████████████                                                                      | 214/368 [01:44<01:25,  1.79it/s]"
     ]
    },
    {
     "name": "stdout",
     "output_type": "stream",
     "text": [
      "Extracted 鄂尔多斯市.zip to /data-sat-img/postprocessed/mujiang/POI/全国POI数据/2020POI\n"
     ]
    },
    {
     "name": "stderr",
     "output_type": "stream",
     "text": [
      "\r",
      " 58%|█████████████████████████████████████████████████████████████████████████████████████████████████▌                                                                     | 215/368 [01:45<01:16,  1.99it/s]"
     ]
    },
    {
     "name": "stdout",
     "output_type": "stream",
     "text": [
      "Extracted 商洛市.zip to /data-sat-img/postprocessed/mujiang/POI/全国POI数据/2020POI\n"
     ]
    },
    {
     "name": "stderr",
     "output_type": "stream",
     "text": [
      "\r",
      " 59%|██████████████████████████████████████████████████████████████████████████████████████████████████                                                                     | 216/368 [01:45<01:14,  2.04it/s]"
     ]
    },
    {
     "name": "stdout",
     "output_type": "stream",
     "text": [
      "Extracted 十堰市.zip to /data-sat-img/postprocessed/mujiang/POI/全国POI数据/2020POI\n"
     ]
    },
    {
     "name": "stderr",
     "output_type": "stream",
     "text": [
      "\r",
      " 59%|██████████████████████████████████████████████████████████████████████████████████████████████████▍                                                                    | 217/368 [01:46<01:09,  2.17it/s]"
     ]
    },
    {
     "name": "stdout",
     "output_type": "stream",
     "text": [
      "Extracted 广元市.zip to /data-sat-img/postprocessed/mujiang/POI/全国POI数据/2020POI\n"
     ]
    },
    {
     "name": "stderr",
     "output_type": "stream",
     "text": [
      "\r",
      " 59%|██████████████████████████████████████████████████████████████████████████████████████████████████▉                                                                    | 218/368 [01:47<01:35,  1.57it/s]"
     ]
    },
    {
     "name": "stdout",
     "output_type": "stream",
     "text": [
      "Extracted 南京市.zip to /data-sat-img/postprocessed/mujiang/POI/全国POI数据/2020POI\n"
     ]
    },
    {
     "name": "stderr",
     "output_type": "stream",
     "text": [
      "\r",
      " 60%|███████████████████████████████████████████████████████████████████████████████████████████████████▍                                                                   | 219/368 [01:47<01:46,  1.39it/s]"
     ]
    },
    {
     "name": "stdout",
     "output_type": "stream",
     "text": [
      "Extracted 合肥市.zip to /data-sat-img/postprocessed/mujiang/POI/全国POI数据/2020POI\n"
     ]
    },
    {
     "name": "stderr",
     "output_type": "stream",
     "text": [
      "\r",
      " 60%|███████████████████████████████████████████████████████████████████████████████████████████████████▊                                                                   | 220/368 [01:48<01:47,  1.38it/s]"
     ]
    },
    {
     "name": "stdout",
     "output_type": "stream",
     "text": [
      "Extracted 中山市.zip to /data-sat-img/postprocessed/mujiang/POI/全国POI数据/2020POI\n"
     ]
    },
    {
     "name": "stderr",
     "output_type": "stream",
     "text": [
      "\r",
      " 60%|████████████████████████████████████████████████████████████████████████████████████████████████████▎                                                                  | 221/368 [01:49<01:33,  1.56it/s]"
     ]
    },
    {
     "name": "stdout",
     "output_type": "stream",
     "text": [
      "Extracted 濮阳市.zip to /data-sat-img/postprocessed/mujiang/POI/全国POI数据/2020POI\n"
     ]
    },
    {
     "name": "stderr",
     "output_type": "stream",
     "text": [
      "\r",
      " 60%|████████████████████████████████████████████████████████████████████████████████████████████████████▋                                                                  | 222/368 [01:49<01:14,  1.95it/s]"
     ]
    },
    {
     "name": "stdout",
     "output_type": "stream",
     "text": [
      "Extracted 澄迈县.zip to /data-sat-img/postprocessed/mujiang/POI/全国POI数据/2020POI\n"
     ]
    },
    {
     "name": "stderr",
     "output_type": "stream",
     "text": [
      "\r",
      " 61%|█████████████████████████████████████████████████████████████████████████████████████████████████████▏                                                                 | 223/368 [01:49<01:07,  2.15it/s]"
     ]
    },
    {
     "name": "stdout",
     "output_type": "stream",
     "text": [
      "Extracted 来宾市.zip to /data-sat-img/postprocessed/mujiang/POI/全国POI数据/2020POI\n"
     ]
    },
    {
     "name": "stderr",
     "output_type": "stream",
     "text": [
      "\r",
      " 61%|█████████████████████████████████████████████████████████████████████████████████████████████████████▋                                                                 | 224/368 [01:50<01:01,  2.33it/s]"
     ]
    },
    {
     "name": "stdout",
     "output_type": "stream",
     "text": [
      "Extracted 雅安市.zip to /data-sat-img/postprocessed/mujiang/POI/全国POI数据/2020POI\n"
     ]
    },
    {
     "name": "stderr",
     "output_type": "stream",
     "text": [
      "\r",
      " 61%|██████████████████████████████████████████████████████████████████████████████████████████████████████                                                                 | 225/368 [01:50<01:00,  2.38it/s]"
     ]
    },
    {
     "name": "stdout",
     "output_type": "stream",
     "text": [
      "Extracted 云浮市.zip to /data-sat-img/postprocessed/mujiang/POI/全国POI数据/2020POI\n"
     ]
    },
    {
     "name": "stderr",
     "output_type": "stream",
     "text": [
      " 62%|███████████████████████████████████████████████████████████████████████████████████████████████████████                                                                | 227/368 [01:50<00:44,  3.18it/s]"
     ]
    },
    {
     "name": "stdout",
     "output_type": "stream",
     "text": [
      "Extracted 白银市.zip to /data-sat-img/postprocessed/mujiang/POI/全国POI数据/2020POI\n",
      "Extracted 白沙黎族自治县.zip to /data-sat-img/postprocessed/mujiang/POI/全国POI数据/2020POI\n"
     ]
    },
    {
     "name": "stderr",
     "output_type": "stream",
     "text": [
      " 62%|███████████████████████████████████████████████████████████████████████████████████████████████████████▉                                                               | 229/368 [01:51<00:44,  3.12it/s]"
     ]
    },
    {
     "name": "stdout",
     "output_type": "stream",
     "text": [
      "Extracted 海口市.zip to /data-sat-img/postprocessed/mujiang/POI/全国POI数据/2020POI\n",
      "Extracted 铁门关市.zip to /data-sat-img/postprocessed/mujiang/POI/全国POI数据/2020POI\n"
     ]
    },
    {
     "name": "stderr",
     "output_type": "stream",
     "text": [
      "\r",
      " 62%|████████████████████████████████████████████████████████████████████████████████████████████████████████▍                                                              | 230/368 [01:52<00:49,  2.77it/s]"
     ]
    },
    {
     "name": "stdout",
     "output_type": "stream",
     "text": [
      "Extracted 梧州市.zip to /data-sat-img/postprocessed/mujiang/POI/全国POI数据/2020POI\n"
     ]
    },
    {
     "name": "stderr",
     "output_type": "stream",
     "text": [
      "\r",
      " 63%|████████████████████████████████████████████████████████████████████████████████████████████████████████▊                                                              | 231/368 [01:52<00:52,  2.61it/s]"
     ]
    },
    {
     "name": "stdout",
     "output_type": "stream",
     "text": [
      "Extracted 铁岭市.zip to /data-sat-img/postprocessed/mujiang/POI/全国POI数据/2020POI\n"
     ]
    },
    {
     "name": "stderr",
     "output_type": "stream",
     "text": [
      "\r",
      " 63%|█████████████████████████████████████████████████████████████████████████████████████████████████████████▎                                                             | 232/368 [01:53<00:56,  2.42it/s]"
     ]
    },
    {
     "name": "stdout",
     "output_type": "stream",
     "text": [
      "Extracted 枣庄市.zip to /data-sat-img/postprocessed/mujiang/POI/全国POI数据/2020POI\n"
     ]
    },
    {
     "name": "stderr",
     "output_type": "stream",
     "text": [
      "\r",
      " 63%|█████████████████████████████████████████████████████████████████████████████████████████████████████████▋                                                             | 233/368 [01:53<00:49,  2.72it/s]"
     ]
    },
    {
     "name": "stdout",
     "output_type": "stream",
     "text": [
      "Extracted 陵水黎族自治县.zip to /data-sat-img/postprocessed/mujiang/POI/全国POI数据/2020POI\n"
     ]
    },
    {
     "name": "stderr",
     "output_type": "stream",
     "text": [
      "\r",
      " 64%|██████████████████████████████████████████████████████████████████████████████████████████████████████████▏                                                            | 234/368 [01:54<01:42,  1.31it/s]"
     ]
    },
    {
     "name": "stdout",
     "output_type": "stream",
     "text": [
      "Extracted 成都市.zip to /data-sat-img/postprocessed/mujiang/POI/全国POI数据/2020POI\n"
     ]
    },
    {
     "name": "stderr",
     "output_type": "stream",
     "text": [
      "\r",
      " 64%|██████████████████████████████████████████████████████████████████████████████████████████████████████████▋                                                            | 235/368 [01:55<01:31,  1.45it/s]"
     ]
    },
    {
     "name": "stdout",
     "output_type": "stream",
     "text": [
      "Extracted 吉安市.zip to /data-sat-img/postprocessed/mujiang/POI/全国POI数据/2020POI\n"
     ]
    },
    {
     "name": "stderr",
     "output_type": "stream",
     "text": [
      "\r",
      " 64%|███████████████████████████████████████████████████████████████████████████████████████████████████████████                                                            | 236/368 [01:56<01:25,  1.54it/s]"
     ]
    },
    {
     "name": "stdout",
     "output_type": "stream",
     "text": [
      "Extracted 兰州市.zip to /data-sat-img/postprocessed/mujiang/POI/全国POI数据/2020POI\n"
     ]
    },
    {
     "name": "stderr",
     "output_type": "stream",
     "text": [
      "\r",
      " 64%|███████████████████████████████████████████████████████████████████████████████████████████████████████████▌                                                           | 237/368 [01:56<01:12,  1.81it/s]"
     ]
    },
    {
     "name": "stdout",
     "output_type": "stream",
     "text": [
      "Extracted 三亚市.zip to /data-sat-img/postprocessed/mujiang/POI/全国POI数据/2020POI\n"
     ]
    },
    {
     "name": "stderr",
     "output_type": "stream",
     "text": [
      "\r",
      " 65%|████████████████████████████████████████████████████████████████████████████████████████████████████████████                                                           | 238/368 [01:56<01:00,  2.14it/s]"
     ]
    },
    {
     "name": "stdout",
     "output_type": "stream",
     "text": [
      "Extracted 文昌市.zip to /data-sat-img/postprocessed/mujiang/POI/全国POI数据/2020POI\n"
     ]
    },
    {
     "name": "stderr",
     "output_type": "stream",
     "text": [
      "\r",
      " 65%|████████████████████████████████████████████████████████████████████████████████████████████████████████████▍                                                          | 239/368 [01:57<01:28,  1.46it/s]"
     ]
    },
    {
     "name": "stdout",
     "output_type": "stream",
     "text": [
      "Extracted 天津市.zip to /data-sat-img/postprocessed/mujiang/POI/全国POI数据/2020POI\n"
     ]
    },
    {
     "name": "stderr",
     "output_type": "stream",
     "text": [
      "\r",
      " 65%|████████████████████████████████████████████████████████████████████████████████████████████████████████████▉                                                          | 240/368 [01:58<01:13,  1.74it/s]"
     ]
    },
    {
     "name": "stdout",
     "output_type": "stream",
     "text": [
      "Extracted 日喀则市.zip to /data-sat-img/postprocessed/mujiang/POI/全国POI数据/2020POI\n"
     ]
    },
    {
     "name": "stderr",
     "output_type": "stream",
     "text": [
      "\r",
      " 65%|█████████████████████████████████████████████████████████████████████████████████████████████████████████████▎                                                         | 241/368 [01:58<01:05,  1.93it/s]"
     ]
    },
    {
     "name": "stdout",
     "output_type": "stream",
     "text": [
      "Extracted 池州市.zip to /data-sat-img/postprocessed/mujiang/POI/全国POI数据/2020POI\n"
     ]
    },
    {
     "name": "stderr",
     "output_type": "stream",
     "text": [
      "\r",
      " 66%|█████████████████████████████████████████████████████████████████████████████████████████████████████████████▊                                                         | 242/368 [01:58<00:57,  2.18it/s]"
     ]
    },
    {
     "name": "stdout",
     "output_type": "stream",
     "text": [
      "Extracted 湘西土家族苗族自治州.zip to /data-sat-img/postprocessed/mujiang/POI/全国POI数据/2020POI\n"
     ]
    },
    {
     "name": "stderr",
     "output_type": "stream",
     "text": [
      "\r",
      " 66%|██████████████████████████████████████████████████████████████████████████████████████████████████████████████▎                                                        | 243/368 [01:59<00:59,  2.10it/s]"
     ]
    },
    {
     "name": "stdout",
     "output_type": "stream",
     "text": [
      "Extracted 上饶市.zip to /data-sat-img/postprocessed/mujiang/POI/全国POI数据/2020POI\n"
     ]
    },
    {
     "name": "stderr",
     "output_type": "stream",
     "text": [
      "\r",
      " 66%|██████████████████████████████████████████████████████████████████████████████████████████████████████████████▋                                                        | 244/368 [01:59<00:52,  2.37it/s]"
     ]
    },
    {
     "name": "stdout",
     "output_type": "stream",
     "text": [
      "Extracted 安康市.zip to /data-sat-img/postprocessed/mujiang/POI/全国POI数据/2020POI\n"
     ]
    },
    {
     "name": "stderr",
     "output_type": "stream",
     "text": [
      "\r",
      " 67%|███████████████████████████████████████████████████████████████████████████████████████████████████████████████▏                                                       | 245/368 [01:59<00:48,  2.55it/s]"
     ]
    },
    {
     "name": "stdout",
     "output_type": "stream",
     "text": [
      "Extracted 鸡西市.zip to /data-sat-img/postprocessed/mujiang/POI/全国POI数据/2020POI\n"
     ]
    },
    {
     "name": "stderr",
     "output_type": "stream",
     "text": [
      "\r",
      " 67%|███████████████████████████████████████████████████████████████████████████████████████████████████████████████▋                                                       | 246/368 [02:00<00:42,  2.86it/s]"
     ]
    },
    {
     "name": "stdout",
     "output_type": "stream",
     "text": [
      "Extracted 山南市.zip to /data-sat-img/postprocessed/mujiang/POI/全国POI数据/2020POI\n"
     ]
    },
    {
     "name": "stderr",
     "output_type": "stream",
     "text": [
      "\r",
      " 67%|████████████████████████████████████████████████████████████████████████████████████████████████████████████████                                                       | 247/368 [02:00<00:51,  2.34it/s]"
     ]
    },
    {
     "name": "stdout",
     "output_type": "stream",
     "text": [
      "Extracted 威海市.zip to /data-sat-img/postprocessed/mujiang/POI/全国POI数据/2020POI\n"
     ]
    },
    {
     "name": "stderr",
     "output_type": "stream",
     "text": [
      "\r",
      " 67%|████████████████████████████████████████████████████████████████████████████████████████████████████████████████▌                                                      | 248/368 [02:01<01:00,  1.97it/s]"
     ]
    },
    {
     "name": "stdout",
     "output_type": "stream",
     "text": [
      "Extracted 临汾市.zip to /data-sat-img/postprocessed/mujiang/POI/全国POI数据/2020POI\n"
     ]
    },
    {
     "name": "stderr",
     "output_type": "stream",
     "text": [
      "\r",
      " 68%|████████████████████████████████████████████████████████████████████████████████████████████████████████████████▉                                                      | 249/368 [02:01<00:53,  2.24it/s]"
     ]
    },
    {
     "name": "stdout",
     "output_type": "stream",
     "text": [
      "Extracted 昌吉回族自治州.zip to /data-sat-img/postprocessed/mujiang/POI/全国POI数据/2020POI\n"
     ]
    },
    {
     "name": "stderr",
     "output_type": "stream",
     "text": [
      "\r",
      " 68%|█████████████████████████████████████████████████████████████████████████████████████████████████████████████████▍                                                     | 250/368 [02:02<00:51,  2.29it/s]"
     ]
    },
    {
     "name": "stdout",
     "output_type": "stream",
     "text": [
      "Extracted 南平市.zip to /data-sat-img/postprocessed/mujiang/POI/全国POI数据/2020POI\n"
     ]
    },
    {
     "name": "stderr",
     "output_type": "stream",
     "text": [
      "\r",
      " 68%|█████████████████████████████████████████████████████████████████████████████████████████████████████████████████▉                                                     | 251/368 [02:02<00:47,  2.48it/s]"
     ]
    },
    {
     "name": "stdout",
     "output_type": "stream",
     "text": [
      "Extracted 海北藏族自治州.zip to /data-sat-img/postprocessed/mujiang/POI/全国POI数据/2020POI\n"
     ]
    },
    {
     "name": "stderr",
     "output_type": "stream",
     "text": [
      "\r",
      " 68%|██████████████████████████████████████████████████████████████████████████████████████████████████████████████████▎                                                    | 252/368 [02:02<00:47,  2.46it/s]"
     ]
    },
    {
     "name": "stdout",
     "output_type": "stream",
     "text": [
      "Extracted 新余市.zip to /data-sat-img/postprocessed/mujiang/POI/全国POI数据/2020POI\n"
     ]
    },
    {
     "name": "stderr",
     "output_type": "stream",
     "text": [
      "\r",
      " 69%|██████████████████████████████████████████████████████████████████████████████████████████████████████████████████▊                                                    | 253/368 [02:03<00:46,  2.46it/s]"
     ]
    },
    {
     "name": "stdout",
     "output_type": "stream",
     "text": [
      "Extracted 拉萨市.zip to /data-sat-img/postprocessed/mujiang/POI/全国POI数据/2020POI\n"
     ]
    },
    {
     "name": "stderr",
     "output_type": "stream",
     "text": [
      "\r",
      " 69%|███████████████████████████████████████████████████████████████████████████████████████████████████████████████████▎                                                   | 254/368 [02:03<00:44,  2.57it/s]"
     ]
    },
    {
     "name": "stdout",
     "output_type": "stream",
     "text": [
      "Extracted 六盘水市.zip to /data-sat-img/postprocessed/mujiang/POI/全国POI数据/2020POI\n"
     ]
    },
    {
     "name": "stderr",
     "output_type": "stream",
     "text": [
      "\r",
      " 69%|███████████████████████████████████████████████████████████████████████████████████████████████████████████████████▋                                                   | 255/368 [02:04<00:48,  2.32it/s]"
     ]
    },
    {
     "name": "stdout",
     "output_type": "stream",
     "text": [
      "Extracted 玉林市.zip to /data-sat-img/postprocessed/mujiang/POI/全国POI数据/2020POI\n"
     ]
    },
    {
     "name": "stderr",
     "output_type": "stream",
     "text": [
      "\r",
      " 70%|████████████████████████████████████████████████████████████████████████████████████████████████████████████████████▏                                                  | 256/368 [02:04<00:41,  2.72it/s]"
     ]
    },
    {
     "name": "stdout",
     "output_type": "stream",
     "text": [
      "Extracted 东方市.zip to /data-sat-img/postprocessed/mujiang/POI/全国POI数据/2020POI\n"
     ]
    },
    {
     "name": "stderr",
     "output_type": "stream",
     "text": [
      "\r",
      " 70%|████████████████████████████████████████████████████████████████████████████████████████████████████████████████████▋                                                  | 257/368 [02:04<00:44,  2.49it/s]"
     ]
    },
    {
     "name": "stdout",
     "output_type": "stream",
     "text": [
      "Extracted 汉中市.zip to /data-sat-img/postprocessed/mujiang/POI/全国POI数据/2020POI\n"
     ]
    },
    {
     "name": "stderr",
     "output_type": "stream",
     "text": [
      "\r",
      " 70%|█████████████████████████████████████████████████████████████████████████████████████████████████████████████████████                                                  | 258/368 [02:05<00:49,  2.24it/s]"
     ]
    },
    {
     "name": "stdout",
     "output_type": "stream",
     "text": [
      "Extracted 宜昌市.zip to /data-sat-img/postprocessed/mujiang/POI/全国POI数据/2020POI\n"
     ]
    },
    {
     "name": "stderr",
     "output_type": "stream",
     "text": [
      "\r",
      " 70%|█████████████████████████████████████████████████████████████████████████████████████████████████████████████████████▌                                                 | 259/368 [02:06<00:51,  2.11it/s]"
     ]
    },
    {
     "name": "stdout",
     "output_type": "stream",
     "text": [
      "Extracted 梅州市.zip to /data-sat-img/postprocessed/mujiang/POI/全国POI数据/2020POI\n"
     ]
    },
    {
     "name": "stderr",
     "output_type": "stream",
     "text": [
      "\r",
      " 71%|█████████████████████████████████████████████████████████████████████████████████████████████████████████████████████▉                                                 | 260/368 [02:06<00:55,  1.96it/s]"
     ]
    },
    {
     "name": "stdout",
     "output_type": "stream",
     "text": [
      "Extracted 连云港市.zip to /data-sat-img/postprocessed/mujiang/POI/全国POI数据/2020POI\n"
     ]
    },
    {
     "name": "stderr",
     "output_type": "stream",
     "text": [
      "\r",
      " 71%|██████████████████████████████████████████████████████████████████████████████████████████████████████████████████████▍                                                | 261/368 [02:07<00:51,  2.07it/s]"
     ]
    },
    {
     "name": "stdout",
     "output_type": "stream",
     "text": [
      "Extracted 晋城市.zip to /data-sat-img/postprocessed/mujiang/POI/全国POI数据/2020POI\n"
     ]
    },
    {
     "name": "stderr",
     "output_type": "stream",
     "text": [
      "\r",
      " 71%|██████████████████████████████████████████████████████████████████████████████████████████████████████████████████████▉                                                | 262/368 [02:07<00:59,  1.79it/s]"
     ]
    },
    {
     "name": "stdout",
     "output_type": "stream",
     "text": [
      "Extracted 济宁市.zip to /data-sat-img/postprocessed/mujiang/POI/全国POI数据/2020POI\n"
     ]
    },
    {
     "name": "stderr",
     "output_type": "stream",
     "text": [
      "\r",
      " 71%|███████████████████████████████████████████████████████████████████████████████████████████████████████████████████████▎                                               | 263/368 [02:08<00:53,  1.95it/s]"
     ]
    },
    {
     "name": "stdout",
     "output_type": "stream",
     "text": [
      "Extracted 丽江市.zip to /data-sat-img/postprocessed/mujiang/POI/全国POI数据/2020POI\n"
     ]
    },
    {
     "name": "stderr",
     "output_type": "stream",
     "text": [
      "\r",
      " 72%|███████████████████████████████████████████████████████████████████████████████████████████████████████████████████████▊                                               | 264/368 [02:09<01:02,  1.66it/s]"
     ]
    },
    {
     "name": "stdout",
     "output_type": "stream",
     "text": [
      "Extracted 厦门市.zip to /data-sat-img/postprocessed/mujiang/POI/全国POI数据/2020POI\n"
     ]
    },
    {
     "name": "stderr",
     "output_type": "stream",
     "text": [
      "\r",
      " 72%|████████████████████████████████████████████████████████████████████████████████████████████████████████████████████████▎                                              | 265/368 [02:09<00:56,  1.81it/s]"
     ]
    },
    {
     "name": "stdout",
     "output_type": "stream",
     "text": [
      "Extracted 鞍山市.zip to /data-sat-img/postprocessed/mujiang/POI/全国POI数据/2020POI\n"
     ]
    },
    {
     "name": "stderr",
     "output_type": "stream",
     "text": [
      "\r",
      " 72%|████████████████████████████████████████████████████████████████████████████████████████████████████████████████████████▋                                              | 266/368 [02:09<00:48,  2.09it/s]"
     ]
    },
    {
     "name": "stdout",
     "output_type": "stream",
     "text": [
      "Extracted 阳泉市.zip to /data-sat-img/postprocessed/mujiang/POI/全国POI数据/2020POI\n"
     ]
    },
    {
     "name": "stderr",
     "output_type": "stream",
     "text": [
      "\r",
      " 73%|█████████████████████████████████████████████████████████████████████████████████████████████████████████████████████████▏                                             | 267/368 [02:10<00:46,  2.17it/s]"
     ]
    },
    {
     "name": "stdout",
     "output_type": "stream",
     "text": [
      "Extracted 包头市.zip to /data-sat-img/postprocessed/mujiang/POI/全国POI数据/2020POI\n"
     ]
    },
    {
     "name": "stderr",
     "output_type": "stream",
     "text": [
      "\r",
      " 73%|█████████████████████████████████████████████████████████████████████████████████████████████████████████████████████████▌                                             | 268/368 [02:10<00:48,  2.06it/s]"
     ]
    },
    {
     "name": "stdout",
     "output_type": "stream",
     "text": [
      "Extracted 德州市.zip to /data-sat-img/postprocessed/mujiang/POI/全国POI数据/2020POI\n"
     ]
    },
    {
     "name": "stderr",
     "output_type": "stream",
     "text": [
      "\r",
      " 73%|██████████████████████████████████████████████████████████████████████████████████████████████████████████████████████████                                             | 269/368 [02:11<00:47,  2.07it/s]"
     ]
    },
    {
     "name": "stdout",
     "output_type": "stream",
     "text": [
      "Extracted 亳州市.zip to /data-sat-img/postprocessed/mujiang/POI/全国POI数据/2020POI\n"
     ]
    },
    {
     "name": "stderr",
     "output_type": "stream",
     "text": [
      "\r",
      " 73%|██████████████████████████████████████████████████████████████████████████████████████████████████████████████████████████▌                                            | 270/368 [02:11<00:42,  2.28it/s]"
     ]
    },
    {
     "name": "stdout",
     "output_type": "stream",
     "text": [
      "Extracted 林芝市.zip to /data-sat-img/postprocessed/mujiang/POI/全国POI数据/2020POI\n"
     ]
    },
    {
     "name": "stderr",
     "output_type": "stream",
     "text": [
      "\r",
      " 74%|██████████████████████████████████████████████████████████████████████████████████████████████████████████████████████████▉                                            | 271/368 [02:12<00:43,  2.24it/s]"
     ]
    },
    {
     "name": "stdout",
     "output_type": "stream",
     "text": [
      "Extracted 黄山市.zip to /data-sat-img/postprocessed/mujiang/POI/全国POI数据/2020POI\n"
     ]
    },
    {
     "name": "stderr",
     "output_type": "stream",
     "text": [
      "\r",
      " 74%|███████████████████████████████████████████████████████████████████████████████████████████████████████████████████████████▍                                           | 272/368 [02:12<00:39,  2.46it/s]"
     ]
    },
    {
     "name": "stdout",
     "output_type": "stream",
     "text": [
      "Extracted 巴中市.zip to /data-sat-img/postprocessed/mujiang/POI/全国POI数据/2020POI\n"
     ]
    },
    {
     "name": "stderr",
     "output_type": "stream",
     "text": [
      "\r",
      " 74%|███████████████████████████████████████████████████████████████████████████████████████████████████████████████████████████▉                                           | 273/368 [02:12<00:42,  2.25it/s]"
     ]
    },
    {
     "name": "stdout",
     "output_type": "stream",
     "text": [
      "Extracted 营口市.zip to /data-sat-img/postprocessed/mujiang/POI/全国POI数据/2020POI\n"
     ]
    },
    {
     "name": "stderr",
     "output_type": "stream",
     "text": [
      "\r",
      " 74%|████████████████████████████████████████████████████████████████████████████████████████████████████████████████████████████▎                                          | 274/368 [02:13<00:42,  2.19it/s]"
     ]
    },
    {
     "name": "stdout",
     "output_type": "stream",
     "text": [
      "Extracted 喀什地区.zip to /data-sat-img/postprocessed/mujiang/POI/全国POI数据/2020POI\n"
     ]
    },
    {
     "name": "stderr",
     "output_type": "stream",
     "text": [
      "\r",
      " 75%|████████████████████████████████████████████████████████████████████████████████████████████████████████████████████████████▊                                          | 275/368 [02:13<00:44,  2.07it/s]"
     ]
    },
    {
     "name": "stdout",
     "output_type": "stream",
     "text": [
      "Extracted 九江市.zip to /data-sat-img/postprocessed/mujiang/POI/全国POI数据/2020POI\n"
     ]
    },
    {
     "name": "stderr",
     "output_type": "stream",
     "text": [
      "\r",
      " 75%|█████████████████████████████████████████████████████████████████████████████████████████████████████████████████████████████▎                                         | 276/368 [02:14<00:38,  2.37it/s]"
     ]
    },
    {
     "name": "stdout",
     "output_type": "stream",
     "text": [
      "Extracted 那曲地区.zip to /data-sat-img/postprocessed/mujiang/POI/全国POI数据/2020POI\n"
     ]
    },
    {
     "name": "stderr",
     "output_type": "stream",
     "text": [
      "\r",
      " 75%|█████████████████████████████████████████████████████████████████████████████████████████████████████████████████████████████▋                                         | 277/368 [02:14<00:40,  2.24it/s]"
     ]
    },
    {
     "name": "stdout",
     "output_type": "stream",
     "text": [
      "Extracted 黔东南苗族侗族自治州.zip to /data-sat-img/postprocessed/mujiang/POI/全国POI数据/2020POI\n"
     ]
    },
    {
     "name": "stderr",
     "output_type": "stream",
     "text": [
      "\r",
      " 76%|██████████████████████████████████████████████████████████████████████████████████████████████████████████████████████████████▏                                        | 278/368 [02:15<00:42,  2.11it/s]"
     ]
    },
    {
     "name": "stdout",
     "output_type": "stream",
     "text": [
      "Extracted 揭阳市.zip to /data-sat-img/postprocessed/mujiang/POI/全国POI数据/2020POI\n"
     ]
    },
    {
     "name": "stderr",
     "output_type": "stream",
     "text": [
      "\r",
      " 76%|██████████████████████████████████████████████████████████████████████████████████████████████████████████████████████████████▌                                        | 279/368 [02:15<00:37,  2.40it/s]"
     ]
    },
    {
     "name": "stdout",
     "output_type": "stream",
     "text": [
      "Extracted 迪庆藏族自治州.zip to /data-sat-img/postprocessed/mujiang/POI/全国POI数据/2020POI\n"
     ]
    },
    {
     "name": "stderr",
     "output_type": "stream",
     "text": [
      "\r",
      " 76%|███████████████████████████████████████████████████████████████████████████████████████████████████████████████████████████████                                        | 280/368 [02:15<00:37,  2.32it/s]"
     ]
    },
    {
     "name": "stdout",
     "output_type": "stream",
     "text": [
      "Extracted 荆门市.zip to /data-sat-img/postprocessed/mujiang/POI/全国POI数据/2020POI\n"
     ]
    },
    {
     "name": "stderr",
     "output_type": "stream",
     "text": [
      "\r",
      " 76%|███████████████████████████████████████████████████████████████████████████████████████████████████████████████████████████████▌                                       | 281/368 [02:16<00:32,  2.67it/s]"
     ]
    },
    {
     "name": "stdout",
     "output_type": "stream",
     "text": [
      "Extracted 图木舒克市.zip to /data-sat-img/postprocessed/mujiang/POI/全国POI数据/2020POI\n"
     ]
    },
    {
     "name": "stderr",
     "output_type": "stream",
     "text": [
      "\r",
      " 77%|███████████████████████████████████████████████████████████████████████████████████████████████████████████████████████████████▉                                       | 282/368 [02:16<00:37,  2.30it/s]"
     ]
    },
    {
     "name": "stdout",
     "output_type": "stream",
     "text": [
      "Extracted 韶关市.zip to /data-sat-img/postprocessed/mujiang/POI/全国POI数据/2020POI\n"
     ]
    },
    {
     "name": "stderr",
     "output_type": "stream",
     "text": [
      "\r",
      " 77%|████████████████████████████████████████████████████████████████████████████████████████████████████████████████████████████████▍                                      | 283/368 [02:17<00:43,  1.95it/s]"
     ]
    },
    {
     "name": "stdout",
     "output_type": "stream",
     "text": [
      "Extracted 邯郸市.zip to /data-sat-img/postprocessed/mujiang/POI/全国POI数据/2020POI\n"
     ]
    },
    {
     "name": "stderr",
     "output_type": "stream",
     "text": [
      "\r",
      " 77%|████████████████████████████████████████████████████████████████████████████████████████████████████████████████████████████████▉                                      | 284/368 [02:17<00:39,  2.14it/s]"
     ]
    },
    {
     "name": "stdout",
     "output_type": "stream",
     "text": [
      "Extracted 鄂州市.zip to /data-sat-img/postprocessed/mujiang/POI/全国POI数据/2020POI\n"
     ]
    },
    {
     "name": "stderr",
     "output_type": "stream",
     "text": [
      "\r",
      " 77%|█████████████████████████████████████████████████████████████████████████████████████████████████████████████████████████████████▎                                     | 285/368 [02:18<00:38,  2.13it/s]"
     ]
    },
    {
     "name": "stdout",
     "output_type": "stream",
     "text": [
      "Extracted 长治市.zip to /data-sat-img/postprocessed/mujiang/POI/全国POI数据/2020POI\n"
     ]
    },
    {
     "name": "stderr",
     "output_type": "stream",
     "text": [
      "\r",
      " 78%|█████████████████████████████████████████████████████████████████████████████████████████████████████████████████████████████████▊                                     | 286/368 [02:18<00:41,  1.96it/s]"
     ]
    },
    {
     "name": "stdout",
     "output_type": "stream",
     "text": [
      "Extracted 黄冈市.zip to /data-sat-img/postprocessed/mujiang/POI/全国POI数据/2020POI\n"
     ]
    },
    {
     "name": "stderr",
     "output_type": "stream",
     "text": [
      "\r",
      " 78%|██████████████████████████████████████████████████████████████████████████████████████████████████████████████████████████████████▏                                    | 287/368 [02:19<00:37,  2.19it/s]"
     ]
    },
    {
     "name": "stdout",
     "output_type": "stream",
     "text": [
      "Extracted 铜川市.zip to /data-sat-img/postprocessed/mujiang/POI/全国POI数据/2020POI\n"
     ]
    },
    {
     "name": "stderr",
     "output_type": "stream",
     "text": [
      "\r",
      " 78%|██████████████████████████████████████████████████████████████████████████████████████████████████████████████████████████████████▋                                    | 288/368 [02:19<00:32,  2.49it/s]"
     ]
    },
    {
     "name": "stdout",
     "output_type": "stream",
     "text": [
      "Extracted 鹤岗市.zip to /data-sat-img/postprocessed/mujiang/POI/全国POI数据/2020POI\n"
     ]
    },
    {
     "name": "stderr",
     "output_type": "stream",
     "text": [
      "\r",
      " 79%|███████████████████████████████████████████████████████████████████████████████████████████████████████████████████████████████████▏                                   | 289/368 [02:19<00:29,  2.71it/s]"
     ]
    },
    {
     "name": "stdout",
     "output_type": "stream",
     "text": [
      "Extracted 西双版纳傣族自治州.zip to /data-sat-img/postprocessed/mujiang/POI/全国POI数据/2020POI\n"
     ]
    },
    {
     "name": "stderr",
     "output_type": "stream",
     "text": [
      "\r",
      " 79%|███████████████████████████████████████████████████████████████████████████████████████████████████████████████████████████████████▌                                   | 290/368 [02:20<00:39,  1.99it/s]"
     ]
    },
    {
     "name": "stdout",
     "output_type": "stream",
     "text": [
      "Extracted 大连市.zip to /data-sat-img/postprocessed/mujiang/POI/全国POI数据/2020POI\n"
     ]
    },
    {
     "name": "stderr",
     "output_type": "stream",
     "text": [
      "\r",
      " 79%|████████████████████████████████████████████████████████████████████████████████████████████████████████████████████████████████████                                   | 291/368 [02:20<00:35,  2.14it/s]"
     ]
    },
    {
     "name": "stdout",
     "output_type": "stream",
     "text": [
      "Extracted 潮州市.zip to /data-sat-img/postprocessed/mujiang/POI/全国POI数据/2020POI\n"
     ]
    },
    {
     "name": "stderr",
     "output_type": "stream",
     "text": [
      "\r",
      " 79%|████████████████████████████████████████████████████████████████████████████████████████████████████████████████████████████████████▌                                  | 292/368 [02:21<00:35,  2.13it/s]"
     ]
    },
    {
     "name": "stdout",
     "output_type": "stream",
     "text": [
      "Extracted 达州市.zip to /data-sat-img/postprocessed/mujiang/POI/全国POI数据/2020POI\n"
     ]
    },
    {
     "name": "stderr",
     "output_type": "stream",
     "text": [
      "\r",
      " 80%|████████████████████████████████████████████████████████████████████████████████████████████████████████████████████████████████████▉                                  | 293/368 [02:22<00:38,  1.93it/s]"
     ]
    },
    {
     "name": "stdout",
     "output_type": "stream",
     "text": [
      "Extracted 湖州市.zip to /data-sat-img/postprocessed/mujiang/POI/全国POI数据/2020POI\n"
     ]
    },
    {
     "name": "stderr",
     "output_type": "stream",
     "text": [
      "\r",
      " 80%|█████████████████████████████████████████████████████████████████████████████████████████████████████████████████████████████████████▍                                 | 294/368 [02:22<00:39,  1.89it/s]"
     ]
    },
    {
     "name": "stdout",
     "output_type": "stream",
     "text": [
      "Extracted 珠海市.zip to /data-sat-img/postprocessed/mujiang/POI/全国POI数据/2020POI\n"
     ]
    },
    {
     "name": "stderr",
     "output_type": "stream",
     "text": [
      "\r",
      " 80%|█████████████████████████████████████████████████████████████████████████████████████████████████████████████████████████████████████▊                                 | 295/368 [02:23<00:52,  1.39it/s]"
     ]
    },
    {
     "name": "stdout",
     "output_type": "stream",
     "text": [
      "Extracted 宁波市.zip to /data-sat-img/postprocessed/mujiang/POI/全国POI数据/2020POI\n"
     ]
    },
    {
     "name": "stderr",
     "output_type": "stream",
     "text": [
      "\r",
      " 80%|██████████████████████████████████████████████████████████████████████████████████████████████████████████████████████████████████████▎                                | 296/368 [02:24<00:45,  1.58it/s]"
     ]
    },
    {
     "name": "stdout",
     "output_type": "stream",
     "text": [
      "Extracted 本溪市.zip to /data-sat-img/postprocessed/mujiang/POI/全国POI数据/2020POI\n"
     ]
    },
    {
     "name": "stderr",
     "output_type": "stream",
     "text": [
      "\r",
      " 81%|██████████████████████████████████████████████████████████████████████████████████████████████████████████████████████████████████████▊                                | 297/368 [02:26<01:08,  1.03it/s]"
     ]
    },
    {
     "name": "stdout",
     "output_type": "stream",
     "text": [
      "Extracted 广州市.zip to /data-sat-img/postprocessed/mujiang/POI/全国POI数据/2020POI\n"
     ]
    },
    {
     "name": "stderr",
     "output_type": "stream",
     "text": [
      "\r",
      " 81%|███████████████████████████████████████████████████████████████████████████████████████████████████████████████████████████████████████▏                               | 298/368 [02:26<01:04,  1.08it/s]"
     ]
    },
    {
     "name": "stdout",
     "output_type": "stream",
     "text": [
      "Extracted 南宁市.zip to /data-sat-img/postprocessed/mujiang/POI/全国POI数据/2020POI\n"
     ]
    },
    {
     "name": "stderr",
     "output_type": "stream",
     "text": [
      "\r",
      " 81%|███████████████████████████████████████████████████████████████████████████████████████████████████████████████████████████████████████▋                               | 299/368 [02:27<00:54,  1.26it/s]"
     ]
    },
    {
     "name": "stdout",
     "output_type": "stream",
     "text": [
      "Extracted 永州市.zip to /data-sat-img/postprocessed/mujiang/POI/全国POI数据/2020POI\n"
     ]
    },
    {
     "name": "stderr",
     "output_type": "stream",
     "text": [
      "\r",
      " 82%|████████████████████████████████████████████████████████████████████████████████████████████████████████████████████████████████████████▏                              | 300/368 [02:27<00:46,  1.48it/s]"
     ]
    },
    {
     "name": "stdout",
     "output_type": "stream",
     "text": [
      "Extracted 凉山彝族自治州.zip to /data-sat-img/postprocessed/mujiang/POI/全国POI数据/2020POI\n"
     ]
    },
    {
     "name": "stderr",
     "output_type": "stream",
     "text": [
      "\r",
      " 82%|████████████████████████████████████████████████████████████████████████████████████████████████████████████████████████████████████████▌                              | 301/368 [02:28<00:40,  1.65it/s]"
     ]
    },
    {
     "name": "stdout",
     "output_type": "stream",
     "text": [
      "Extracted 朝阳市.zip to /data-sat-img/postprocessed/mujiang/POI/全国POI数据/2020POI\n"
     ]
    },
    {
     "name": "stderr",
     "output_type": "stream",
     "text": [
      "\r",
      " 82%|█████████████████████████████████████████████████████████████████████████████████████████████████████████████████████████████████████████                              | 302/368 [02:28<00:32,  2.01it/s]"
     ]
    },
    {
     "name": "stdout",
     "output_type": "stream",
     "text": [
      "Extracted 双河市.zip to /data-sat-img/postprocessed/mujiang/POI/全国POI数据/2020POI\n"
     ]
    },
    {
     "name": "stderr",
     "output_type": "stream",
     "text": [
      "\r",
      " 82%|█████████████████████████████████████████████████████████████████████████████████████████████████████████████████████████████████████████▌                             | 303/368 [02:28<00:33,  1.93it/s]"
     ]
    },
    {
     "name": "stdout",
     "output_type": "stream",
     "text": [
      "Extracted 肇庆市.zip to /data-sat-img/postprocessed/mujiang/POI/全国POI数据/2020POI\n"
     ]
    },
    {
     "name": "stderr",
     "output_type": "stream",
     "text": [
      "\r",
      " 83%|█████████████████████████████████████████████████████████████████████████████████████████████████████████████████████████████████████████▉                             | 304/368 [02:29<00:30,  2.09it/s]"
     ]
    },
    {
     "name": "stdout",
     "output_type": "stream",
     "text": [
      "Extracted 白山市.zip to /data-sat-img/postprocessed/mujiang/POI/全国POI数据/2020POI\n"
     ]
    },
    {
     "name": "stderr",
     "output_type": "stream",
     "text": [
      "\r",
      " 83%|██████████████████████████████████████████████████████████████████████████████████████████████████████████████████████████████████████████▍                            | 305/368 [02:29<00:29,  2.11it/s]"
     ]
    },
    {
     "name": "stdout",
     "output_type": "stream",
     "text": [
      "Extracted 贵港市.zip to /data-sat-img/postprocessed/mujiang/POI/全国POI数据/2020POI\n"
     ]
    },
    {
     "name": "stderr",
     "output_type": "stream",
     "text": [
      "\r",
      " 83%|██████████████████████████████████████████████████████████████████████████████████████████████████████████████████████████████████████████▊                            | 306/368 [02:30<00:26,  2.38it/s]"
     ]
    },
    {
     "name": "stdout",
     "output_type": "stream",
     "text": [
      "Extracted 昌江黎族自治县.zip to /data-sat-img/postprocessed/mujiang/POI/全国POI数据/2020POI\n"
     ]
    },
    {
     "name": "stderr",
     "output_type": "stream",
     "text": [
      "\r",
      " 83%|███████████████████████████████████████████████████████████████████████████████████████████████████████████████████████████████████████████▎                           | 307/368 [02:30<00:32,  1.86it/s]"
     ]
    },
    {
     "name": "stdout",
     "output_type": "stream",
     "text": [
      "Extracted 绍兴市.zip to /data-sat-img/postprocessed/mujiang/POI/全国POI数据/2020POI\n"
     ]
    },
    {
     "name": "stderr",
     "output_type": "stream",
     "text": [
      "\r",
      " 84%|███████████████████████████████████████████████████████████████████████████████████████████████████████████████████████████████████████████▊                           | 308/368 [02:31<00:26,  2.25it/s]"
     ]
    },
    {
     "name": "stdout",
     "output_type": "stream",
     "text": [
      "Extracted 阿克苏地区.zip to /data-sat-img/postprocessed/mujiang/POI/全国POI数据/2020POI\n"
     ]
    },
    {
     "name": "stderr",
     "output_type": "stream",
     "text": [
      "\r",
      " 84%|████████████████████████████████████████████████████████████████████████████████████████████████████████████████████████████████████████████▏                          | 309/368 [02:31<00:26,  2.20it/s]"
     ]
    },
    {
     "name": "stdout",
     "output_type": "stream",
     "text": [
      "Extracted 抚州市.zip to /data-sat-img/postprocessed/mujiang/POI/全国POI数据/2020POI\n"
     ]
    },
    {
     "name": "stderr",
     "output_type": "stream",
     "text": [
      "\r",
      " 84%|████████████████████████████████████████████████████████████████████████████████████████████████████████████████████████████████████████████▋                          | 310/368 [02:32<00:27,  2.08it/s]"
     ]
    },
    {
     "name": "stdout",
     "output_type": "stream",
     "text": [
      "Extracted 吉林市.zip to /data-sat-img/postprocessed/mujiang/POI/全国POI数据/2020POI\n"
     ]
    },
    {
     "name": "stderr",
     "output_type": "stream",
     "text": [
      "\r",
      " 85%|█████████████████████████████████████████████████████████████████████████████████████████████████████████████████████████████████████████████▏                         | 311/368 [02:32<00:28,  2.02it/s]"
     ]
    },
    {
     "name": "stdout",
     "output_type": "stream",
     "text": [
      "Extracted 晋中市.zip to /data-sat-img/postprocessed/mujiang/POI/全国POI数据/2020POI\n"
     ]
    },
    {
     "name": "stderr",
     "output_type": "stream",
     "text": [
      "\r",
      " 85%|█████████████████████████████████████████████████████████████████████████████████████████████████████████████████████████████████████████████▌                         | 312/368 [02:33<00:24,  2.24it/s]"
     ]
    },
    {
     "name": "stdout",
     "output_type": "stream",
     "text": [
      "Extracted 张家界市.zip to /data-sat-img/postprocessed/mujiang/POI/全国POI数据/2020POI\n"
     ]
    },
    {
     "name": "stderr",
     "output_type": "stream",
     "text": [
      "\r",
      " 85%|██████████████████████████████████████████████████████████████████████████████████████████████████████████████████████████████████████████████                         | 313/368 [02:33<00:28,  1.96it/s]"
     ]
    },
    {
     "name": "stdout",
     "output_type": "stream",
     "text": [
      "Extracted 沧州市.zip to /data-sat-img/postprocessed/mujiang/POI/全国POI数据/2020POI\n"
     ]
    },
    {
     "name": "stderr",
     "output_type": "stream",
     "text": [
      "\r",
      " 85%|██████████████████████████████████████████████████████████████████████████████████████████████████████████████████████████████████████████████▍                        | 314/368 [02:34<00:24,  2.16it/s]"
     ]
    },
    {
     "name": "stdout",
     "output_type": "stream",
     "text": [
      "Extracted 仙桃市.zip to /data-sat-img/postprocessed/mujiang/POI/全国POI数据/2020POI\n"
     ]
    },
    {
     "name": "stderr",
     "output_type": "stream",
     "text": [
      "\r",
      " 86%|██████████████████████████████████████████████████████████████████████████████████████████████████████████████████████████████████████████████▉                        | 315/368 [02:34<00:24,  2.21it/s]"
     ]
    },
    {
     "name": "stdout",
     "output_type": "stream",
     "text": [
      "Extracted 通辽市.zip to /data-sat-img/postprocessed/mujiang/POI/全国POI数据/2020POI\n"
     ]
    },
    {
     "name": "stderr",
     "output_type": "stream",
     "text": [
      "\r",
      " 86%|███████████████████████████████████████████████████████████████████████████████████████████████████████████████████████████████████████████████▍                       | 316/368 [02:35<00:38,  1.35it/s]"
     ]
    },
    {
     "name": "stdout",
     "output_type": "stream",
     "text": [
      "Extracted 东莞市.zip to /data-sat-img/postprocessed/mujiang/POI/全国POI数据/2020POI\n"
     ]
    },
    {
     "name": "stderr",
     "output_type": "stream",
     "text": [
      "\r",
      " 86%|███████████████████████████████████████████████████████████████████████████████████████████████████████████████████████████████████████████████▊                       | 317/368 [02:36<00:35,  1.44it/s]"
     ]
    },
    {
     "name": "stdout",
     "output_type": "stream",
     "text": [
      "Extracted 乌鲁木齐市.zip to /data-sat-img/postprocessed/mujiang/POI/全国POI数据/2020POI\n"
     ]
    },
    {
     "name": "stderr",
     "output_type": "stream",
     "text": [
      "\r",
      " 86%|████████████████████████████████████████████████████████████████████████████████████████████████████████████████████████████████████████████████▎                      | 318/368 [02:37<00:38,  1.31it/s]"
     ]
    },
    {
     "name": "stdout",
     "output_type": "stream",
     "text": [
      "Extracted 昆明市.zip to /data-sat-img/postprocessed/mujiang/POI/全国POI数据/2020POI\n"
     ]
    },
    {
     "name": "stderr",
     "output_type": "stream",
     "text": [
      "\r",
      " 87%|████████████████████████████████████████████████████████████████████████████████████████████████████████████████████████████████████████████████▊                      | 319/368 [02:37<00:33,  1.45it/s]"
     ]
    },
    {
     "name": "stdout",
     "output_type": "stream",
     "text": [
      "Extracted 曲靖市.zip to /data-sat-img/postprocessed/mujiang/POI/全国POI数据/2020POI\n"
     ]
    },
    {
     "name": "stderr",
     "output_type": "stream",
     "text": [
      "\r",
      " 87%|█████████████████████████████████████████████████████████████████████████████████████████████████████████████████████████████████████████████████▏                     | 320/368 [02:38<00:29,  1.65it/s]"
     ]
    },
    {
     "name": "stdout",
     "output_type": "stream",
     "text": [
      "Extracted 马鞍山市.zip to /data-sat-img/postprocessed/mujiang/POI/全国POI数据/2020POI\n"
     ]
    },
    {
     "name": "stderr",
     "output_type": "stream",
     "text": [
      "\r",
      " 87%|█████████████████████████████████████████████████████████████████████████████████████████████████████████████████████████████████████████████████▋                     | 321/368 [02:38<00:28,  1.65it/s]"
     ]
    },
    {
     "name": "stdout",
     "output_type": "stream",
     "text": [
      "Extracted 湛江市.zip to /data-sat-img/postprocessed/mujiang/POI/全国POI数据/2020POI\n"
     ]
    },
    {
     "name": "stderr",
     "output_type": "stream",
     "text": [
      "\r",
      " 88%|██████████████████████████████████████████████████████████████████████████████████████████████████████████████████████████████████████████████████▏                    | 322/368 [02:39<00:25,  1.83it/s]"
     ]
    },
    {
     "name": "stdout",
     "output_type": "stream",
     "text": [
      "Extracted 湘潭市.zip to /data-sat-img/postprocessed/mujiang/POI/全国POI数据/2020POI\n"
     ]
    },
    {
     "name": "stderr",
     "output_type": "stream",
     "text": [
      "\r",
      " 88%|██████████████████████████████████████████████████████████████████████████████████████████████████████████████████████████████████████████████████▌                    | 323/368 [02:39<00:20,  2.19it/s]"
     ]
    },
    {
     "name": "stdout",
     "output_type": "stream",
     "text": [
      "Extracted 五家渠市.zip to /data-sat-img/postprocessed/mujiang/POI/全国POI数据/2020POI\n"
     ]
    },
    {
     "name": "stderr",
     "output_type": "stream",
     "text": [
      "\r",
      " 88%|███████████████████████████████████████████████████████████████████████████████████████████████████████████████████████████████████████████████████                    | 324/368 [02:39<00:19,  2.29it/s]"
     ]
    },
    {
     "name": "stdout",
     "output_type": "stream",
     "text": [
      "Extracted 酒泉市.zip to /data-sat-img/postprocessed/mujiang/POI/全国POI数据/2020POI\n"
     ]
    },
    {
     "name": "stderr",
     "output_type": "stream",
     "text": [
      "\r",
      " 88%|███████████████████████████████████████████████████████████████████████████████████████████████████████████████████████████████████████████████████▍                   | 325/368 [02:40<00:18,  2.36it/s]"
     ]
    },
    {
     "name": "stdout",
     "output_type": "stream",
     "text": [
      "Extracted 黔西南布依族苗族自治州.zip to /data-sat-img/postprocessed/mujiang/POI/全国POI数据/2020POI\n"
     ]
    },
    {
     "name": "stderr",
     "output_type": "stream",
     "text": [
      "\r",
      " 89%|███████████████████████████████████████████████████████████████████████████████████████████████████████████████████████████████████████████████████▉                   | 326/368 [02:40<00:16,  2.52it/s]"
     ]
    },
    {
     "name": "stdout",
     "output_type": "stream",
     "text": [
      "Extracted 琼海市.zip to /data-sat-img/postprocessed/mujiang/POI/全国POI数据/2020POI\n"
     ]
    },
    {
     "name": "stderr",
     "output_type": "stream",
     "text": [
      "\r",
      " 89%|████████████████████████████████████████████████████████████████████████████████████████████████████████████████████████████████████████████████████▍                  | 327/368 [02:41<00:15,  2.73it/s]"
     ]
    },
    {
     "name": "stdout",
     "output_type": "stream",
     "text": [
      "Extracted 克孜勒苏柯尔克孜自治州.zip to /data-sat-img/postprocessed/mujiang/POI/全国POI数据/2020POI\n"
     ]
    },
    {
     "name": "stderr",
     "output_type": "stream",
     "text": [
      "\r",
      " 89%|████████████████████████████████████████████████████████████████████████████████████████████████████████████████████████████████████████████████████▊                  | 328/368 [02:42<00:23,  1.72it/s]"
     ]
    },
    {
     "name": "stdout",
     "output_type": "stream",
     "text": [
      "Extracted 石家庄市.zip to /data-sat-img/postprocessed/mujiang/POI/全国POI数据/2020POI\n"
     ]
    },
    {
     "name": "stderr",
     "output_type": "stream",
     "text": [
      "\r",
      " 89%|█████████████████████████████████████████████████████████████████████████████████████████████████████████████████████████████████████████████████████▎                 | 329/368 [02:43<00:32,  1.18it/s]"
     ]
    },
    {
     "name": "stdout",
     "output_type": "stream",
     "text": [
      "Extracted 杭州市.zip to /data-sat-img/postprocessed/mujiang/POI/全国POI数据/2020POI\n"
     ]
    },
    {
     "name": "stderr",
     "output_type": "stream",
     "text": [
      "\r",
      " 90%|█████████████████████████████████████████████████████████████████████████████████████████████████████████████████████████████████████████████████████▊                 | 330/368 [02:44<00:28,  1.31it/s]"
     ]
    },
    {
     "name": "stdout",
     "output_type": "stream",
     "text": [
      "Extracted 毕节市.zip to /data-sat-img/postprocessed/mujiang/POI/全国POI数据/2020POI\n"
     ]
    },
    {
     "name": "stderr",
     "output_type": "stream",
     "text": [
      "\r",
      " 90%|██████████████████████████████████████████████████████████████████████████████████████████████████████████████████████████████████████████████████████▏                | 331/368 [02:44<00:26,  1.39it/s]"
     ]
    },
    {
     "name": "stdout",
     "output_type": "stream",
     "text": [
      "Extracted 阜新市.zip to /data-sat-img/postprocessed/mujiang/POI/全国POI数据/2020POI\n"
     ]
    },
    {
     "name": "stderr",
     "output_type": "stream",
     "text": [
      "\r",
      " 90%|██████████████████████████████████████████████████████████████████████████████████████████████████████████████████████████████████████████████████████▋                | 332/368 [02:45<00:23,  1.51it/s]"
     ]
    },
    {
     "name": "stdout",
     "output_type": "stream",
     "text": [
      "Extracted 宿州市.zip to /data-sat-img/postprocessed/mujiang/POI/全国POI数据/2020POI\n"
     ]
    },
    {
     "name": "stderr",
     "output_type": "stream",
     "text": [
      "\r",
      " 90%|███████████████████████████████████████████████████████████████████████████████████████████████████████████████████████████████████████████████████████                | 333/368 [02:45<00:20,  1.71it/s]"
     ]
    },
    {
     "name": "stdout",
     "output_type": "stream",
     "text": [
      "Extracted 乐东黎族自治县.zip to /data-sat-img/postprocessed/mujiang/POI/全国POI数据/2020POI\n"
     ]
    },
    {
     "name": "stderr",
     "output_type": "stream",
     "text": [
      "\r",
      " 91%|███████████████████████████████████████████████████████████████████████████████████████████████████████████████████████████████████████████████████████▌               | 334/368 [02:46<00:19,  1.78it/s]"
     ]
    },
    {
     "name": "stdout",
     "output_type": "stream",
     "text": [
      "Extracted 舟山市.zip to /data-sat-img/postprocessed/mujiang/POI/全国POI数据/2020POI\n"
     ]
    },
    {
     "name": "stderr",
     "output_type": "stream",
     "text": [
      "\r",
      " 91%|████████████████████████████████████████████████████████████████████████████████████████████████████████████████████████████████████████████████████████               | 335/368 [02:46<00:19,  1.70it/s]"
     ]
    },
    {
     "name": "stdout",
     "output_type": "stream",
     "text": [
      "Extracted 吕梁市.zip to /data-sat-img/postprocessed/mujiang/POI/全国POI数据/2020POI\n"
     ]
    },
    {
     "name": "stderr",
     "output_type": "stream",
     "text": [
      "\r",
      " 91%|████████████████████████████████████████████████████████████████████████████████████████████████████████████████████████████████████████████████████████▍              | 336/368 [02:47<00:19,  1.63it/s]"
     ]
    },
    {
     "name": "stdout",
     "output_type": "stream",
     "text": [
      "Extracted 桂林市.zip to /data-sat-img/postprocessed/mujiang/POI/全国POI数据/2020POI\n"
     ]
    },
    {
     "name": "stderr",
     "output_type": "stream",
     "text": [
      "\r",
      " 92%|████████████████████████████████████████████████████████████████████████████████████████████████████████████████████████████████████████████████████████▉              | 337/368 [02:47<00:17,  1.75it/s]"
     ]
    },
    {
     "name": "stdout",
     "output_type": "stream",
     "text": [
      "Extracted 三明市.zip to /data-sat-img/postprocessed/mujiang/POI/全国POI数据/2020POI\n"
     ]
    },
    {
     "name": "stderr",
     "output_type": "stream",
     "text": [
      "\r",
      " 92%|█████████████████████████████████████████████████████████████████████████████████████████████████████████████████████████████████████████████████████████▍             | 338/368 [02:48<00:15,  1.94it/s]"
     ]
    },
    {
     "name": "stdout",
     "output_type": "stream",
     "text": [
      "Extracted 黑河市.zip to /data-sat-img/postprocessed/mujiang/POI/全国POI数据/2020POI\n"
     ]
    },
    {
     "name": "stderr",
     "output_type": "stream",
     "text": [
      "\r",
      " 92%|█████████████████████████████████████████████████████████████████████████████████████████████████████████████████████████████████████████████████████████▊             | 339/368 [02:48<00:15,  1.82it/s]"
     ]
    },
    {
     "name": "stdout",
     "output_type": "stream",
     "text": [
      "Extracted 茂名市.zip to /data-sat-img/postprocessed/mujiang/POI/全国POI数据/2020POI\n"
     ]
    },
    {
     "name": "stderr",
     "output_type": "stream",
     "text": [
      "\r",
      " 92%|██████████████████████████████████████████████████████████████████████████████████████████████████████████████████████████████████████████████████████████▎            | 340/368 [02:50<00:27,  1.03it/s]"
     ]
    },
    {
     "name": "stdout",
     "output_type": "stream",
     "text": [
      "Extracted 北京市.zip to /data-sat-img/postprocessed/mujiang/POI/全国POI数据/2020POI\n"
     ]
    },
    {
     "name": "stderr",
     "output_type": "stream",
     "text": [
      "\r",
      " 93%|██████████████████████████████████████████████████████████████████████████████████████████████████████████████████████████████████████████████████████████▋            | 341/368 [02:51<00:24,  1.11it/s]"
     ]
    },
    {
     "name": "stdout",
     "output_type": "stream",
     "text": [
      "Extracted 商丘市.zip to /data-sat-img/postprocessed/mujiang/POI/全国POI数据/2020POI\n"
     ]
    },
    {
     "name": "stderr",
     "output_type": "stream",
     "text": [
      "\r",
      " 93%|███████████████████████████████████████████████████████████████████████████████████████████████████████████████████████████████████████████████████████████▏           | 342/368 [02:52<00:22,  1.15it/s]"
     ]
    },
    {
     "name": "stdout",
     "output_type": "stream",
     "text": [
      "Extracted 焦作市.zip to /data-sat-img/postprocessed/mujiang/POI/全国POI数据/2020POI\n"
     ]
    },
    {
     "name": "stderr",
     "output_type": "stream",
     "text": [
      "\r",
      " 93%|███████████████████████████████████████████████████████████████████████████████████████████████████████████████████████████████████████████████████████████▋           | 343/368 [02:53<00:19,  1.26it/s]"
     ]
    },
    {
     "name": "stdout",
     "output_type": "stream",
     "text": [
      "Extracted 新乡市.zip to /data-sat-img/postprocessed/mujiang/POI/全国POI数据/2020POI\n"
     ]
    },
    {
     "name": "stderr",
     "output_type": "stream",
     "text": [
      "\r",
      " 93%|████████████████████████████████████████████████████████████████████████████████████████████████████████████████████████████████████████████████████████████           | 344/368 [02:53<00:16,  1.46it/s]"
     ]
    },
    {
     "name": "stdout",
     "output_type": "stream",
     "text": [
      "Extracted 天门市.zip to /data-sat-img/postprocessed/mujiang/POI/全国POI数据/2020POI\n"
     ]
    },
    {
     "name": "stderr",
     "output_type": "stream",
     "text": [
      "\r",
      " 94%|████████████████████████████████████████████████████████████████████████████████████████████████████████████████████████████████████████████████████████████▌          | 345/368 [02:53<00:13,  1.73it/s]"
     ]
    },
    {
     "name": "stdout",
     "output_type": "stream",
     "text": [
      "Extracted 玉树藏族自治州.zip to /data-sat-img/postprocessed/mujiang/POI/全国POI数据/2020POI\n"
     ]
    },
    {
     "name": "stderr",
     "output_type": "stream",
     "text": [
      "\r",
      " 94%|█████████████████████████████████████████████████████████████████████████████████████████████████████████████████████████████████████████████████████████████          | 346/368 [02:54<00:10,  2.03it/s]"
     ]
    },
    {
     "name": "stdout",
     "output_type": "stream",
     "text": [
      "Extracted 海南藏族自治州.zip to /data-sat-img/postprocessed/mujiang/POI/全国POI数据/2020POI\n"
     ]
    },
    {
     "name": "stderr",
     "output_type": "stream",
     "text": [
      "\r",
      " 94%|█████████████████████████████████████████████████████████████████████████████████████████████████████████████████████████████████████████████████████████████▍         | 347/368 [02:54<00:08,  2.40it/s]"
     ]
    },
    {
     "name": "stdout",
     "output_type": "stream",
     "text": [
      "Extracted 昆玉市.zip to /data-sat-img/postprocessed/mujiang/POI/全国POI数据/2020POI\n"
     ]
    },
    {
     "name": "stderr",
     "output_type": "stream",
     "text": [
      "\r",
      " 95%|█████████████████████████████████████████████████████████████████████████████████████████████████████████████████████████████████████████████████████████████▉         | 348/368 [02:55<00:09,  2.11it/s]"
     ]
    },
    {
     "name": "stdout",
     "output_type": "stream",
     "text": [
      "Extracted 衢州市.zip to /data-sat-img/postprocessed/mujiang/POI/全国POI数据/2020POI\n"
     ]
    },
    {
     "name": "stderr",
     "output_type": "stream",
     "text": [
      "\r",
      " 95%|██████████████████████████████████████████████████████████████████████████████████████████████████████████████████████████████████████████████████████████████▍        | 349/368 [02:55<00:09,  1.94it/s]"
     ]
    },
    {
     "name": "stdout",
     "output_type": "stream",
     "text": [
      "Extracted 汕尾市.zip to /data-sat-img/postprocessed/mujiang/POI/全国POI数据/2020POI\n"
     ]
    },
    {
     "name": "stderr",
     "output_type": "stream",
     "text": [
      "\r",
      " 95%|██████████████████████████████████████████████████████████████████████████████████████████████████████████████████████████████████████████████████████████████▊        | 350/368 [02:56<00:11,  1.55it/s]"
     ]
    },
    {
     "name": "stdout",
     "output_type": "stream",
     "text": [
      "Extracted 信阳市.zip to /data-sat-img/postprocessed/mujiang/POI/全国POI数据/2020POI\n"
     ]
    },
    {
     "name": "stderr",
     "output_type": "stream",
     "text": [
      "\r",
      " 95%|███████████████████████████████████████████████████████████████████████████████████████████████████████████████████████████████████████████████████████████████▎       | 351/368 [02:57<00:11,  1.46it/s]"
     ]
    },
    {
     "name": "stdout",
     "output_type": "stream",
     "text": [
      "Extracted 遵义市.zip to /data-sat-img/postprocessed/mujiang/POI/全国POI数据/2020POI\n"
     ]
    },
    {
     "name": "stderr",
     "output_type": "stream",
     "text": [
      "\r",
      " 96%|███████████████████████████████████████████████████████████████████████████████████████████████████████████████████████████████████████████████████████████████▋       | 352/368 [02:57<00:09,  1.67it/s]"
     ]
    },
    {
     "name": "stdout",
     "output_type": "stream",
     "text": [
      "Extracted 果洛藏族自治州.zip to /data-sat-img/postprocessed/mujiang/POI/全国POI数据/2020POI\n"
     ]
    },
    {
     "name": "stderr",
     "output_type": "stream",
     "text": [
      "\r",
      " 96%|████████████████████████████████████████████████████████████████████████████████████████████████████████████████████████████████████████████████████████████████▏      | 353/368 [02:58<00:08,  1.70it/s]"
     ]
    },
    {
     "name": "stdout",
     "output_type": "stream",
     "text": [
      "Extracted 宜宾市.zip to /data-sat-img/postprocessed/mujiang/POI/全国POI数据/2020POI\n"
     ]
    },
    {
     "name": "stderr",
     "output_type": "stream",
     "text": [
      " 96%|█████████████████████████████████████████████████████████████████████████████████████████████████████████████████████████████████████████████████████████████████      | 355/368 [02:58<00:05,  2.41it/s]"
     ]
    },
    {
     "name": "stdout",
     "output_type": "stream",
     "text": [
      "Extracted 咸宁市.zip to /data-sat-img/postprocessed/mujiang/POI/全国POI数据/2020POI\n",
      "Extracted 金门其他.zip to /data-sat-img/postprocessed/mujiang/POI/全国POI数据/2020POI\n"
     ]
    },
    {
     "name": "stderr",
     "output_type": "stream",
     "text": [
      "\r",
      " 97%|█████████████████████████████████████████████████████████████████████████████████████████████████████████████████████████████████████████████████████████████████▌     | 356/368 [02:59<00:05,  2.16it/s]"
     ]
    },
    {
     "name": "stdout",
     "output_type": "stream",
     "text": [
      "Extracted 葫芦岛市.zip to /data-sat-img/postprocessed/mujiang/POI/全国POI数据/2020POI\n"
     ]
    },
    {
     "name": "stderr",
     "output_type": "stream",
     "text": [
      "\r",
      " 97%|██████████████████████████████████████████████████████████████████████████████████████████████████████████████████████████████████████████████████████████████████     | 357/368 [02:59<00:05,  2.15it/s]"
     ]
    },
    {
     "name": "stdout",
     "output_type": "stream",
     "text": [
      "Extracted 嘉峪关市.zip to /data-sat-img/postprocessed/mujiang/POI/全国POI数据/2020POI\n"
     ]
    },
    {
     "name": "stderr",
     "output_type": "stream",
     "text": [
      "\r",
      " 97%|██████████████████████████████████████████████████████████████████████████████████████████████████████████████████████████████████████████████████████████████████▍    | 358/368 [03:00<00:04,  2.05it/s]"
     ]
    },
    {
     "name": "stdout",
     "output_type": "stream",
     "text": [
      "Extracted 朔州市.zip to /data-sat-img/postprocessed/mujiang/POI/全国POI数据/2020POI\n"
     ]
    },
    {
     "name": "stderr",
     "output_type": "stream",
     "text": [
      "\r",
      " 98%|██████████████████████████████████████████████████████████████████████████████████████████████████████████████████████████████████████████████████████████████████▉    | 359/368 [03:01<00:05,  1.64it/s]"
     ]
    },
    {
     "name": "stdout",
     "output_type": "stream",
     "text": [
      "Extracted 哈尔滨市.zip to /data-sat-img/postprocessed/mujiang/POI/全国POI数据/2020POI\n"
     ]
    },
    {
     "name": "stderr",
     "output_type": "stream",
     "text": [
      "\r",
      " 98%|███████████████████████████████████████████████████████████████████████████████████████████████████████████████████████████████████████████████████████████████████▎   | 360/368 [03:01<00:04,  1.84it/s]"
     ]
    },
    {
     "name": "stdout",
     "output_type": "stream",
     "text": [
      "Extracted 海东市.zip to /data-sat-img/postprocessed/mujiang/POI/全国POI数据/2020POI\n"
     ]
    },
    {
     "name": "stderr",
     "output_type": "stream",
     "text": [
      "\r",
      " 98%|███████████████████████████████████████████████████████████████████████████████████████████████████████████████████████████████████████████████████████████████████▊   | 361/368 [03:01<00:03,  2.26it/s]"
     ]
    },
    {
     "name": "stdout",
     "output_type": "stream",
     "text": [
      "Extracted 保亭黎族苗族自治县.zip to /data-sat-img/postprocessed/mujiang/POI/全国POI数据/2020POI\n"
     ]
    },
    {
     "name": "stderr",
     "output_type": "stream",
     "text": [
      "\r",
      " 98%|████████████████████████████████████████████████████████████████████████████████████████████████████████████████████████████████████████████████████████████████████▎  | 362/368 [03:02<00:02,  2.04it/s]"
     ]
    },
    {
     "name": "stdout",
     "output_type": "stream",
     "text": [
      "Extracted 锦州市.zip to /data-sat-img/postprocessed/mujiang/POI/全国POI数据/2020POI\n"
     ]
    },
    {
     "name": "stderr",
     "output_type": "stream",
     "text": [
      "\r",
      " 99%|████████████████████████████████████████████████████████████████████████████████████████████████████████████████████████████████████████████████████████████████████▋  | 363/368 [03:03<00:02,  1.96it/s]"
     ]
    },
    {
     "name": "stdout",
     "output_type": "stream",
     "text": [
      "Extracted 资阳市.zip to /data-sat-img/postprocessed/mujiang/POI/全国POI数据/2020POI\n"
     ]
    },
    {
     "name": "stderr",
     "output_type": "stream",
     "text": [
      "\r",
      " 99%|█████████████████████████████████████████████████████████████████████████████████████████████████████████████████████████████████████████████████████████████████████▏ | 364/368 [03:03<00:02,  1.73it/s]"
     ]
    },
    {
     "name": "stdout",
     "output_type": "stream",
     "text": [
      "Extracted 扬州市.zip to /data-sat-img/postprocessed/mujiang/POI/全国POI数据/2020POI\n"
     ]
    },
    {
     "name": "stderr",
     "output_type": "stream",
     "text": [
      "\r",
      " 99%|█████████████████████████████████████████████████████████████████████████████████████████████████████████████████████████████████████████████████████████████████████▋ | 365/368 [03:04<00:01,  1.85it/s]"
     ]
    },
    {
     "name": "stdout",
     "output_type": "stream",
     "text": [
      "Extracted 临沧市.zip to /data-sat-img/postprocessed/mujiang/POI/全国POI数据/2020POI\n"
     ]
    },
    {
     "name": "stderr",
     "output_type": "stream",
     "text": [
      "\r",
      " 99%|██████████████████████████████████████████████████████████████████████████████████████████████████████████████████████████████████████████████████████████████████████ | 366/368 [03:04<00:00,  2.10it/s]"
     ]
    },
    {
     "name": "stdout",
     "output_type": "stream",
     "text": [
      "Extracted 保山市.zip to /data-sat-img/postprocessed/mujiang/POI/全国POI数据/2020POI\n"
     ]
    },
    {
     "name": "stderr",
     "output_type": "stream",
     "text": [
      "100%|███████████████████████████████████████████████████████████████████████████████████████████████████████████████████████████████████████████████████████████████████████| 368/368 [03:05<00:00,  1.99it/s]"
     ]
    },
    {
     "name": "stdout",
     "output_type": "stream",
     "text": [
      "Extracted 宣城市.zip to /data-sat-img/postprocessed/mujiang/POI/全国POI数据/2020POI\n",
      "Extracted 北屯市.zip to /data-sat-img/postprocessed/mujiang/POI/全国POI数据/2020POI\n"
     ]
    },
    {
     "name": "stderr",
     "output_type": "stream",
     "text": [
      "\n"
     ]
    }
   ],
   "source": [
    "# Define your source and target directories\n",
    "source_folder = r\"/data-sat-img/postprocessed/mujiang/POI/全国POI数据/2020POI-zipped\"\n",
    "target_folder =  r\"/data-sat-img/postprocessed/mujiang/POI/全国POI数据/2020POI\"\n",
    "\n",
    "encoding = 'gbk'\n",
    "\n",
    "# Make sure the target directory exists\n",
    "os.makedirs(target_folder, exist_ok=True)\n",
    "\n",
    "# Loop through all files in the source directory\n",
    "for filename in tqdm(os.listdir(source_folder)):\n",
    "    if filename.endswith('.zip'):  # Check if the file is a ZIP file\n",
    "        # Construct the full path to the file\n",
    "        file_path = os.path.join(source_folder, filename)\n",
    "        \n",
    "        # Open the ZIP file\n",
    "        with zipfile.ZipFile(file_path, 'r') as zip_ref:\n",
    "            # Extract all the contents into the target directory\n",
    "            zip_ref.extractall(target_folder)\n",
    "            print(f'Extracted {filename} to {target_folder}')"
   ]
  }
 ],
 "metadata": {
  "kernelspec": {
   "display_name": "Python 3 (ipykernel)",
   "language": "python",
   "name": "python3"
  },
  "language_info": {
   "codemirror_mode": {
    "name": "ipython",
    "version": 3
   },
   "file_extension": ".py",
   "mimetype": "text/x-python",
   "name": "python",
   "nbconvert_exporter": "python",
   "pygments_lexer": "ipython3",
   "version": "3.11.0"
  }
 },
 "nbformat": 4,
 "nbformat_minor": 5
}
