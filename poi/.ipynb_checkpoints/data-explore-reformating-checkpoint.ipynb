{
 "cells": [
  {
   "cell_type": "code",
   "execution_count": 76,
   "id": "079f6cc6",
   "metadata": {},
   "outputs": [],
   "source": [
    "import geopandas as gpd\n",
    "import pandas as pd\n",
    "import numpy as np\n",
    "import os\n",
    "import csv\n",
    "from tqdm import tqdm"
   ]
  },
  {
   "cell_type": "code",
   "execution_count": 89,
   "id": "79c059c2",
   "metadata": {},
   "outputs": [],
   "source": [
    "poi_path = r\"/data-sat-img/postprocessed/mujiang/POI/全国POI数据/\"\n",
    "save_path = \"/data-sat-img/postprocessed/mujiang/master-thesis/poi_summary/\"\n",
    "city_path = r\"/data-sat-img/postprocessed/mujiang/POI/cities/\""
   ]
  },
  {
   "cell_type": "code",
   "execution_count": 28,
   "id": "13ff213f",
   "metadata": {},
   "outputs": [
    {
     "data": {
      "text/html": [
       "<div>\n",
       "<style scoped>\n",
       "    .dataframe tbody tr th:only-of-type {\n",
       "        vertical-align: middle;\n",
       "    }\n",
       "\n",
       "    .dataframe tbody tr th {\n",
       "        vertical-align: top;\n",
       "    }\n",
       "\n",
       "    .dataframe thead th {\n",
       "        text-align: right;\n",
       "    }\n",
       "</style>\n",
       "<table border=\"1\" class=\"dataframe\">\n",
       "  <thead>\n",
       "    <tr style=\"text-align: right;\">\n",
       "      <th></th>\n",
       "      <th>MID_m</th>\n",
       "      <th>地级</th>\n",
       "      <th>省级</th>\n",
       "    </tr>\n",
       "  </thead>\n",
       "  <tbody>\n",
       "    <tr>\n",
       "      <th>0</th>\n",
       "      <td>1</td>\n",
       "      <td>三沙市</td>\n",
       "      <td>海南省</td>\n",
       "    </tr>\n",
       "    <tr>\n",
       "      <th>1</th>\n",
       "      <td>1</td>\n",
       "      <td>三沙市</td>\n",
       "      <td>海南省</td>\n",
       "    </tr>\n",
       "    <tr>\n",
       "      <th>2</th>\n",
       "      <td>2</td>\n",
       "      <td>锡林郭勒盟</td>\n",
       "      <td>内蒙古自治区</td>\n",
       "    </tr>\n",
       "    <tr>\n",
       "      <th>3</th>\n",
       "      <td>3</td>\n",
       "      <td>阿坝藏族羌族自治州</td>\n",
       "      <td>四川省</td>\n",
       "    </tr>\n",
       "    <tr>\n",
       "      <th>4</th>\n",
       "      <td>4</td>\n",
       "      <td>哈尔滨市</td>\n",
       "      <td>黑龙江省</td>\n",
       "    </tr>\n",
       "  </tbody>\n",
       "</table>\n",
       "</div>"
      ],
      "text/plain": [
       "   MID_m         地级      省级\n",
       "0      1        三沙市     海南省\n",
       "1      1        三沙市     海南省\n",
       "2      2      锡林郭勒盟  内蒙古自治区\n",
       "3      3  阿坝藏族羌族自治州     四川省\n",
       "4      4       哈尔滨市    黑龙江省"
      ]
     },
     "execution_count": 28,
     "metadata": {},
     "output_type": "execute_result"
    }
   ],
   "source": [
    "geomaster_path = \"/data-sat-img/postprocessed/mujiang/geobound_master/\"\n",
    "geomaster = pd.read_csv(geomaster_path + \"lookup_table.csv\")\n",
    "\n",
    "geomaster_selected = geomaster[[\"MID_m\",\"地级\",\"省级\"]]\n",
    "geomaster_selected \n",
    "geomaster_selected.head()"
   ]
  },
  {
   "cell_type": "code",
   "execution_count": 53,
   "id": "7d47b5c4",
   "metadata": {},
   "outputs": [],
   "source": [
    "def find_poi_file(MID_city,csv_file):\n",
    "    year_summary_df = pd.read_csv(save_path + csv_file)\n",
    "    poi_files = year_summary_df[year_summary_df[\"MID_m\"] == MID_city][\"path\"].values[0]\n",
    "    poi_files  = poi_files.split(\";\")\n",
    "    return poi_files\n",
    "    "
   ]
  },
  {
   "cell_type": "markdown",
   "id": "3d021af9",
   "metadata": {},
   "source": [
    "## define city"
   ]
  },
  {
   "cell_type": "code",
   "execution_count": 27,
   "id": "933e3060",
   "metadata": {},
   "outputs": [
    {
     "data": {
      "text/plain": [
       "71"
      ]
     },
     "execution_count": 27,
     "metadata": {},
     "output_type": "execute_result"
    }
   ],
   "source": [
    "city  = \"深圳市\"\n",
    "MID_city = geomaster_selected.loc[geomaster_selected[\"地级\"] == city][\"MID_m\"].values.min()\n",
    "MID_city"
   ]
  },
  {
   "cell_type": "markdown",
   "id": "d9efa36d",
   "metadata": {},
   "source": [
    "## find file and read file"
   ]
  },
  {
   "cell_type": "code",
   "execution_count": 93,
   "id": "d66827a0",
   "metadata": {},
   "outputs": [],
   "source": [
    "os.chdir(r\"/data-sat-img/postprocessed/mujiang/POI/全国POI数据/\")"
   ]
  },
  {
   "cell_type": "markdown",
   "id": "49f681a8",
   "metadata": {},
   "source": [
    "### 2022"
   ]
  },
  {
   "cell_type": "code",
   "execution_count": 105,
   "id": "8a59f3ad",
   "metadata": {},
   "outputs": [
    {
     "data": {
      "text/plain": [
       "['2022POI/华南POI/广东省/深圳市POI数据.csv']"
      ]
     },
     "execution_count": 105,
     "metadata": {},
     "output_type": "execute_result"
    }
   ],
   "source": [
    "csv_file = \"summary_2022.csv\"\n",
    "poi_file_list = find_poi_file(MID_city,csv_file)\n",
    "poi_file_list"
   ]
  },
  {
   "cell_type": "code",
   "execution_count": 107,
   "id": "70b49511",
   "metadata": {
    "scrolled": false
   },
   "outputs": [
    {
     "data": {
      "text/html": [
       "<div>\n",
       "<style scoped>\n",
       "    .dataframe tbody tr th:only-of-type {\n",
       "        vertical-align: middle;\n",
       "    }\n",
       "\n",
       "    .dataframe tbody tr th {\n",
       "        vertical-align: top;\n",
       "    }\n",
       "\n",
       "    .dataframe thead th {\n",
       "        text-align: right;\n",
       "    }\n",
       "</style>\n",
       "<table border=\"1\" class=\"dataframe\">\n",
       "  <thead>\n",
       "    <tr style=\"text-align: right;\">\n",
       "      <th></th>\n",
       "      <th>名称</th>\n",
       "      <th>大类</th>\n",
       "      <th>中类</th>\n",
       "      <th>经度</th>\n",
       "      <th>纬度</th>\n",
       "      <th>省份</th>\n",
       "      <th>城市</th>\n",
       "      <th>区域</th>\n",
       "      <th>class1</th>\n",
       "      <th>lon</th>\n",
       "      <th>lat</th>\n",
       "    </tr>\n",
       "  </thead>\n",
       "  <tbody>\n",
       "    <tr>\n",
       "      <th>0</th>\n",
       "      <td>东冲社区沙岗生态公园</td>\n",
       "      <td>旅游景点</td>\n",
       "      <td>公园</td>\n",
       "      <td>114.581117</td>\n",
       "      <td>22.491843</td>\n",
       "      <td>广东省</td>\n",
       "      <td>深圳市</td>\n",
       "      <td>龙岗区</td>\n",
       "      <td>旅游景点</td>\n",
       "      <td>114.581117</td>\n",
       "      <td>22.491843</td>\n",
       "    </tr>\n",
       "    <tr>\n",
       "      <th>1</th>\n",
       "      <td>深圳东冲沙滩</td>\n",
       "      <td>旅游景点</td>\n",
       "      <td>其他</td>\n",
       "      <td>114.584100</td>\n",
       "      <td>22.489146</td>\n",
       "      <td>广东省</td>\n",
       "      <td>深圳市</td>\n",
       "      <td>龙岗区</td>\n",
       "      <td>旅游景点</td>\n",
       "      <td>114.584100</td>\n",
       "      <td>22.489146</td>\n",
       "    </tr>\n",
       "    <tr>\n",
       "      <th>2</th>\n",
       "      <td>东涌水库</td>\n",
       "      <td>交通设施</td>\n",
       "      <td>公交站</td>\n",
       "      <td>114.570436</td>\n",
       "      <td>22.497495</td>\n",
       "      <td>广东省</td>\n",
       "      <td>深圳市</td>\n",
       "      <td>龙岗区</td>\n",
       "      <td>交通设施</td>\n",
       "      <td>114.570436</td>\n",
       "      <td>22.497495</td>\n",
       "    </tr>\n",
       "    <tr>\n",
       "      <th>3</th>\n",
       "      <td>东涌浴场</td>\n",
       "      <td>交通设施</td>\n",
       "      <td>公交站</td>\n",
       "      <td>114.581888</td>\n",
       "      <td>22.489415</td>\n",
       "      <td>广东省</td>\n",
       "      <td>深圳市</td>\n",
       "      <td>龙岗区</td>\n",
       "      <td>交通设施</td>\n",
       "      <td>114.581888</td>\n",
       "      <td>22.489415</td>\n",
       "    </tr>\n",
       "    <tr>\n",
       "      <th>4</th>\n",
       "      <td>东涌家园</td>\n",
       "      <td>交通设施</td>\n",
       "      <td>公交站</td>\n",
       "      <td>114.579221</td>\n",
       "      <td>22.491534</td>\n",
       "      <td>广东省</td>\n",
       "      <td>深圳市</td>\n",
       "      <td>龙岗区</td>\n",
       "      <td>交通设施</td>\n",
       "      <td>114.579221</td>\n",
       "      <td>22.491534</td>\n",
       "    </tr>\n",
       "    <tr>\n",
       "      <th>...</th>\n",
       "      <td>...</td>\n",
       "      <td>...</td>\n",
       "      <td>...</td>\n",
       "      <td>...</td>\n",
       "      <td>...</td>\n",
       "      <td>...</td>\n",
       "      <td>...</td>\n",
       "      <td>...</td>\n",
       "      <td>...</td>\n",
       "      <td>...</td>\n",
       "      <td>...</td>\n",
       "    </tr>\n",
       "    <tr>\n",
       "      <th>717456</th>\n",
       "      <td>OOKIDOKI</td>\n",
       "      <td>休闲娱乐</td>\n",
       "      <td>酒吧</td>\n",
       "      <td>113.956238</td>\n",
       "      <td>22.542181</td>\n",
       "      <td>广东省</td>\n",
       "      <td>深圳市</td>\n",
       "      <td>南山区</td>\n",
       "      <td>休闲娱乐</td>\n",
       "      <td>113.956238</td>\n",
       "      <td>22.542181</td>\n",
       "    </tr>\n",
       "    <tr>\n",
       "      <th>717457</th>\n",
       "      <td>Prime Rib&amp;Wine</td>\n",
       "      <td>购物消费</td>\n",
       "      <td>其他</td>\n",
       "      <td>113.956006</td>\n",
       "      <td>22.542433</td>\n",
       "      <td>广东省</td>\n",
       "      <td>深圳市</td>\n",
       "      <td>南山区</td>\n",
       "      <td>购物消费</td>\n",
       "      <td>113.956006</td>\n",
       "      <td>22.542433</td>\n",
       "    </tr>\n",
       "    <tr>\n",
       "      <th>717458</th>\n",
       "      <td>ZARA HOME</td>\n",
       "      <td>购物消费</td>\n",
       "      <td>其他</td>\n",
       "      <td>113.956163</td>\n",
       "      <td>22.542120</td>\n",
       "      <td>广东省</td>\n",
       "      <td>深圳市</td>\n",
       "      <td>南山区</td>\n",
       "      <td>购物消费</td>\n",
       "      <td>113.956163</td>\n",
       "      <td>22.542120</td>\n",
       "    </tr>\n",
       "    <tr>\n",
       "      <th>717459</th>\n",
       "      <td>PET'EM02POWER</td>\n",
       "      <td>购物消费</td>\n",
       "      <td>其他</td>\n",
       "      <td>113.956214</td>\n",
       "      <td>22.542253</td>\n",
       "      <td>广东省</td>\n",
       "      <td>深圳市</td>\n",
       "      <td>南山区</td>\n",
       "      <td>购物消费</td>\n",
       "      <td>113.956214</td>\n",
       "      <td>22.542253</td>\n",
       "    </tr>\n",
       "    <tr>\n",
       "      <th>717460</th>\n",
       "      <td>友宝售货机</td>\n",
       "      <td>购物消费</td>\n",
       "      <td>其他</td>\n",
       "      <td>113.965434</td>\n",
       "      <td>22.555183</td>\n",
       "      <td>广东省</td>\n",
       "      <td>深圳市</td>\n",
       "      <td>南山区</td>\n",
       "      <td>购物消费</td>\n",
       "      <td>113.965434</td>\n",
       "      <td>22.555183</td>\n",
       "    </tr>\n",
       "  </tbody>\n",
       "</table>\n",
       "<p>717461 rows × 11 columns</p>\n",
       "</div>"
      ],
      "text/plain": [
       "                    名称    大类   中类          经度         纬度   省份   城市   区域  \\\n",
       "0           东冲社区沙岗生态公园  旅游景点   公园  114.581117  22.491843  广东省  深圳市  龙岗区   \n",
       "1               深圳东冲沙滩  旅游景点   其他  114.584100  22.489146  广东省  深圳市  龙岗区   \n",
       "2                 东涌水库  交通设施  公交站  114.570436  22.497495  广东省  深圳市  龙岗区   \n",
       "3                 东涌浴场  交通设施  公交站  114.581888  22.489415  广东省  深圳市  龙岗区   \n",
       "4                 东涌家园  交通设施  公交站  114.579221  22.491534  广东省  深圳市  龙岗区   \n",
       "...                ...   ...  ...         ...        ...  ...  ...  ...   \n",
       "717456        OOKIDOKI  休闲娱乐   酒吧  113.956238  22.542181  广东省  深圳市  南山区   \n",
       "717457  Prime Rib&Wine  购物消费   其他  113.956006  22.542433  广东省  深圳市  南山区   \n",
       "717458       ZARA HOME  购物消费   其他  113.956163  22.542120  广东省  深圳市  南山区   \n",
       "717459   PET'EM02POWER  购物消费   其他  113.956214  22.542253  广东省  深圳市  南山区   \n",
       "717460           友宝售货机  购物消费   其他  113.965434  22.555183  广东省  深圳市  南山区   \n",
       "\n",
       "       class1         lon        lat  \n",
       "0        旅游景点  114.581117  22.491843  \n",
       "1        旅游景点  114.584100  22.489146  \n",
       "2        交通设施  114.570436  22.497495  \n",
       "3        交通设施  114.581888  22.489415  \n",
       "4        交通设施  114.579221  22.491534  \n",
       "...       ...         ...        ...  \n",
       "717456   休闲娱乐  113.956238  22.542181  \n",
       "717457   购物消费  113.956006  22.542433  \n",
       "717458   购物消费  113.956163  22.542120  \n",
       "717459   购物消费  113.956214  22.542253  \n",
       "717460   购物消费  113.965434  22.555183  \n",
       "\n",
       "[717461 rows x 11 columns]"
      ]
     },
     "execution_count": 107,
     "metadata": {},
     "output_type": "execute_result"
    }
   ],
   "source": [
    "poi_df = pd.read_csv(poi_file_list[0])\n",
    "poi_df[\"class1\"] = poi_df[\"大类\"]\n",
    "poi_df[\"lon\"] = poi_df[\"经度\"]\n",
    "poi_df[\"lat\"] = poi_df[\"纬度\"]\n",
    "poi_df"
   ]
  },
  {
   "cell_type": "code",
   "execution_count": 108,
   "id": "99b4fdd5",
   "metadata": {},
   "outputs": [],
   "source": [
    "file_path = os.path.join(city_path,f\"{MID_city}_{city}\",f\"2022_{MID_city}_{city}.csv\")\n",
    "\n",
    "directory = os.path.dirname(file_path)\n",
    "if not os.path.exists(directory):\n",
    "    # Create the directory\n",
    "    os.makedirs(directory)\n",
    "\n",
    "poi_df.to_csv(file_path,encoding = \"utf-8-sig\",index = False)"
   ]
  },
  {
   "cell_type": "markdown",
   "id": "00f10605",
   "metadata": {},
   "source": [
    "### 2021"
   ]
  },
  {
   "cell_type": "code",
   "execution_count": 109,
   "id": "222f301d",
   "metadata": {},
   "outputs": [
    {
     "data": {
      "text/plain": [
       "['2021POI/197-深圳市-678092.csv']"
      ]
     },
     "execution_count": 109,
     "metadata": {},
     "output_type": "execute_result"
    }
   ],
   "source": [
    "csv_file = \"summary_2021.csv\"\n",
    "poi_file_list = find_poi_file(MID_city,csv_file)\n",
    "poi_file_list"
   ]
  },
  {
   "cell_type": "code",
   "execution_count": 111,
   "id": "498d732b",
   "metadata": {
    "scrolled": true
   },
   "outputs": [
    {
     "data": {
      "text/html": [
       "<div>\n",
       "<style scoped>\n",
       "    .dataframe tbody tr th:only-of-type {\n",
       "        vertical-align: middle;\n",
       "    }\n",
       "\n",
       "    .dataframe tbody tr th {\n",
       "        vertical-align: top;\n",
       "    }\n",
       "\n",
       "    .dataframe thead th {\n",
       "        text-align: right;\n",
       "    }\n",
       "</style>\n",
       "<table border=\"1\" class=\"dataframe\">\n",
       "  <thead>\n",
       "    <tr style=\"text-align: right;\">\n",
       "      <th></th>\n",
       "      <th>序号</th>\n",
       "      <th>状态</th>\n",
       "      <th>查询时间</th>\n",
       "      <th>城市</th>\n",
       "      <th>关键字</th>\n",
       "      <th>方式</th>\n",
       "      <th>PoiID</th>\n",
       "      <th>名称</th>\n",
       "      <th>类别</th>\n",
       "      <th>经纬度</th>\n",
       "      <th>地址</th>\n",
       "      <th>距离中心(仅圆形范围)</th>\n",
       "      <th>固话</th>\n",
       "      <th>手机</th>\n",
       "      <th>电话(原值)</th>\n",
       "      <th>轮廓坐标</th>\n",
       "    </tr>\n",
       "  </thead>\n",
       "  <tbody>\n",
       "    <tr>\n",
       "      <th>0</th>\n",
       "      <td>1</td>\n",
       "      <td>complete</td>\n",
       "      <td>2021/5/12 20:17</td>\n",
       "      <td>深圳市</td>\n",
       "      <td>NaN</td>\n",
       "      <td>多边形</td>\n",
       "      <td>B02F37VMT9</td>\n",
       "      <td>茶溪谷</td>\n",
       "      <td>风景名胜;公园广场;公园|风景名胜;风景名胜;风景名胜</td>\n",
       "      <td>[114.278168,22.631507]</td>\n",
       "      <td>大梅沙东部华侨城景区内</td>\n",
       "      <td>NaN</td>\n",
       "      <td>0755-25031868</td>\n",
       "      <td>NaN</td>\n",
       "      <td>0755-25031868;0755-88889888</td>\n",
       "      <td>NaN</td>\n",
       "    </tr>\n",
       "    <tr>\n",
       "      <th>1</th>\n",
       "      <td>2</td>\n",
       "      <td>complete</td>\n",
       "      <td>2021/5/12 20:17</td>\n",
       "      <td>深圳市</td>\n",
       "      <td>NaN</td>\n",
       "      <td>多边形</td>\n",
       "      <td>B02F37VMT7</td>\n",
       "      <td>茵特拉根华侨城酒店</td>\n",
       "      <td>住宿服务;宾馆酒店;五星级宾馆</td>\n",
       "      <td>[114.27579,22.631594]</td>\n",
       "      <td>大梅沙东部华侨城</td>\n",
       "      <td>NaN</td>\n",
       "      <td>0755-88883333</td>\n",
       "      <td>NaN</td>\n",
       "      <td>0755-88883333;4008601388</td>\n",
       "      <td>NaN</td>\n",
       "    </tr>\n",
       "  </tbody>\n",
       "</table>\n",
       "</div>"
      ],
      "text/plain": [
       "   序号        状态             查询时间   城市  关键字   方式       PoiID         名称  \\\n",
       "0   1  complete  2021/5/12 20:17  深圳市  NaN  多边形  B02F37VMT9        茶溪谷   \n",
       "1   2  complete  2021/5/12 20:17  深圳市  NaN  多边形  B02F37VMT7  茵特拉根华侨城酒店   \n",
       "\n",
       "                            类别                     经纬度           地址  \\\n",
       "0  风景名胜;公园广场;公园|风景名胜;风景名胜;风景名胜  [114.278168,22.631507]  大梅沙东部华侨城景区内   \n",
       "1              住宿服务;宾馆酒店;五星级宾馆   [114.27579,22.631594]     大梅沙东部华侨城   \n",
       "\n",
       "   距离中心(仅圆形范围)             固话  手机                       电话(原值)  轮廓坐标  \n",
       "0          NaN  0755-25031868 NaN  0755-25031868;0755-88889888   NaN  \n",
       "1          NaN  0755-88883333 NaN     0755-88883333;4008601388   NaN  "
      ]
     },
     "execution_count": 111,
     "metadata": {},
     "output_type": "execute_result"
    }
   ],
   "source": [
    "poi_df = pd.read_csv(poi_file_list[0])\n",
    "poi_df.head(2)"
   ]
  },
  {
   "cell_type": "code",
   "execution_count": 115,
   "id": "f5704395",
   "metadata": {},
   "outputs": [],
   "source": [
    "class_split_columns = poi_df[\"类别\"].str.split(';', expand=True)\n",
    "poi_df[\"class1\"] = class_split_columns[0]"
   ]
  },
  {
   "cell_type": "code",
   "execution_count": 120,
   "id": "d17becd2",
   "metadata": {},
   "outputs": [],
   "source": [
    "poi_df['lon'] = poi_df['经纬度'].apply(lambda x: x[1:-1].split(\",\")[0])\n",
    "poi_df['lat'] = poi_df['经纬度'].apply(lambda x: x[1:-1].split(\",\")[1])"
   ]
  },
  {
   "cell_type": "code",
   "execution_count": 121,
   "id": "584492bd",
   "metadata": {},
   "outputs": [
    {
     "data": {
      "text/html": [
       "<div>\n",
       "<style scoped>\n",
       "    .dataframe tbody tr th:only-of-type {\n",
       "        vertical-align: middle;\n",
       "    }\n",
       "\n",
       "    .dataframe tbody tr th {\n",
       "        vertical-align: top;\n",
       "    }\n",
       "\n",
       "    .dataframe thead th {\n",
       "        text-align: right;\n",
       "    }\n",
       "</style>\n",
       "<table border=\"1\" class=\"dataframe\">\n",
       "  <thead>\n",
       "    <tr style=\"text-align: right;\">\n",
       "      <th></th>\n",
       "      <th>序号</th>\n",
       "      <th>状态</th>\n",
       "      <th>查询时间</th>\n",
       "      <th>城市</th>\n",
       "      <th>关键字</th>\n",
       "      <th>方式</th>\n",
       "      <th>PoiID</th>\n",
       "      <th>名称</th>\n",
       "      <th>类别</th>\n",
       "      <th>经纬度</th>\n",
       "      <th>地址</th>\n",
       "      <th>距离中心(仅圆形范围)</th>\n",
       "      <th>固话</th>\n",
       "      <th>手机</th>\n",
       "      <th>电话(原值)</th>\n",
       "      <th>轮廓坐标</th>\n",
       "      <th>class1</th>\n",
       "      <th>lon</th>\n",
       "      <th>lat</th>\n",
       "    </tr>\n",
       "  </thead>\n",
       "  <tbody>\n",
       "    <tr>\n",
       "      <th>0</th>\n",
       "      <td>1</td>\n",
       "      <td>complete</td>\n",
       "      <td>2021/5/12 20:17</td>\n",
       "      <td>深圳市</td>\n",
       "      <td>NaN</td>\n",
       "      <td>多边形</td>\n",
       "      <td>B02F37VMT9</td>\n",
       "      <td>茶溪谷</td>\n",
       "      <td>风景名胜;公园广场;公园|风景名胜;风景名胜;风景名胜</td>\n",
       "      <td>[114.278168,22.631507]</td>\n",
       "      <td>大梅沙东部华侨城景区内</td>\n",
       "      <td>NaN</td>\n",
       "      <td>0755-25031868</td>\n",
       "      <td>NaN</td>\n",
       "      <td>0755-25031868;0755-88889888</td>\n",
       "      <td>NaN</td>\n",
       "      <td>风景名胜</td>\n",
       "      <td>114.278168</td>\n",
       "      <td>22.631507</td>\n",
       "    </tr>\n",
       "    <tr>\n",
       "      <th>1</th>\n",
       "      <td>2</td>\n",
       "      <td>complete</td>\n",
       "      <td>2021/5/12 20:17</td>\n",
       "      <td>深圳市</td>\n",
       "      <td>NaN</td>\n",
       "      <td>多边形</td>\n",
       "      <td>B02F37VMT7</td>\n",
       "      <td>茵特拉根华侨城酒店</td>\n",
       "      <td>住宿服务;宾馆酒店;五星级宾馆</td>\n",
       "      <td>[114.27579,22.631594]</td>\n",
       "      <td>大梅沙东部华侨城</td>\n",
       "      <td>NaN</td>\n",
       "      <td>0755-88883333</td>\n",
       "      <td>NaN</td>\n",
       "      <td>0755-88883333;4008601388</td>\n",
       "      <td>NaN</td>\n",
       "      <td>住宿服务</td>\n",
       "      <td>114.27579</td>\n",
       "      <td>22.631594</td>\n",
       "    </tr>\n",
       "  </tbody>\n",
       "</table>\n",
       "</div>"
      ],
      "text/plain": [
       "   序号        状态             查询时间   城市  关键字   方式       PoiID         名称  \\\n",
       "0   1  complete  2021/5/12 20:17  深圳市  NaN  多边形  B02F37VMT9        茶溪谷   \n",
       "1   2  complete  2021/5/12 20:17  深圳市  NaN  多边形  B02F37VMT7  茵特拉根华侨城酒店   \n",
       "\n",
       "                            类别                     经纬度           地址  \\\n",
       "0  风景名胜;公园广场;公园|风景名胜;风景名胜;风景名胜  [114.278168,22.631507]  大梅沙东部华侨城景区内   \n",
       "1              住宿服务;宾馆酒店;五星级宾馆   [114.27579,22.631594]     大梅沙东部华侨城   \n",
       "\n",
       "   距离中心(仅圆形范围)             固话  手机                       电话(原值)  轮廓坐标 class1  \\\n",
       "0          NaN  0755-25031868 NaN  0755-25031868;0755-88889888   NaN   风景名胜   \n",
       "1          NaN  0755-88883333 NaN     0755-88883333;4008601388   NaN   住宿服务   \n",
       "\n",
       "          lon        lat  \n",
       "0  114.278168  22.631507  \n",
       "1   114.27579  22.631594  "
      ]
     },
     "execution_count": 121,
     "metadata": {},
     "output_type": "execute_result"
    }
   ],
   "source": [
    "poi_df.head(2)"
   ]
  },
  {
   "cell_type": "code",
   "execution_count": 112,
   "id": "4f434be5",
   "metadata": {},
   "outputs": [],
   "source": [
    "#poi_df[poi_df[\"class1\"] == \"室内设施\"]"
   ]
  },
  {
   "cell_type": "code",
   "execution_count": 113,
   "id": "68fdd45e",
   "metadata": {},
   "outputs": [],
   "source": [
    "#poi_df[poi_df[\"class1\"] == \"事件活动\"]"
   ]
  },
  {
   "cell_type": "code",
   "execution_count": 114,
   "id": "0c02e7a0",
   "metadata": {
    "scrolled": true
   },
   "outputs": [],
   "source": [
    "#poi_df[poi_df[\"class1\"] == \"地名地址信息\"]"
   ]
  },
  {
   "cell_type": "code",
   "execution_count": 122,
   "id": "b62d8392",
   "metadata": {},
   "outputs": [],
   "source": [
    "file_path = os.path.join(city_path,f\"{MID_city}_{city}\",f\"2021_{MID_city}_{city}.csv\")\n",
    "\n",
    "directory = os.path.dirname(file_path)\n",
    "if not os.path.exists(directory):\n",
    "    # Create the directory\n",
    "    os.makedirs(directory)\n",
    "\n",
    "poi_df.to_csv(file_path,encoding = \"utf-8-sig\",index = False)"
   ]
  },
  {
   "cell_type": "markdown",
   "id": "dcd082a4",
   "metadata": {},
   "source": [
    "### 2020"
   ]
  },
  {
   "cell_type": "code",
   "execution_count": 124,
   "id": "e9483302",
   "metadata": {},
   "outputs": [
    {
     "data": {
      "text/plain": [
       "['2020POI/深圳市/深圳市_购物服务.csv',\n",
       " '2020POI/深圳市/深圳市_公共设施.csv',\n",
       " '2020POI/深圳市/深圳市_医疗保健服务.csv',\n",
       " '2020POI/深圳市/深圳市_汽车服务.csv',\n",
       " '2020POI/深圳市/深圳市_住宿服务.csv',\n",
       " '2020POI/深圳市/深圳市_地名地址信息.csv',\n",
       " '2020POI/深圳市/深圳市_汽车销售.csv',\n",
       " '2020POI/深圳市/深圳市_风景名胜.csv',\n",
       " '2020POI/深圳市/深圳市_体育休闲服务.csv',\n",
       " '2020POI/深圳市/深圳市_室内设施.csv',\n",
       " '2020POI/深圳市/深圳市_商务住宅.csv',\n",
       " '2020POI/深圳市/深圳市_餐饮服务.csv',\n",
       " '2020POI/深圳市/深圳市_政府机构及社会团体.csv',\n",
       " '2020POI/深圳市/深圳市_生活服务.csv',\n",
       " '2020POI/深圳市/深圳市_摩托车服务.csv',\n",
       " '2020POI/深圳市/深圳市_交通设施服务.csv',\n",
       " '2020POI/深圳市/深圳市_事件活动.csv',\n",
       " '2020POI/深圳市/深圳市_汽车维修.csv',\n",
       " '2020POI/深圳市/深圳市_科教文化服务.csv',\n",
       " '2020POI/深圳市/深圳市_通行设施.csv',\n",
       " '2020POI/深圳市/深圳市_道路附属设施.csv',\n",
       " '2020POI/深圳市/深圳市_公司企业.csv',\n",
       " '2020POI/深圳市/深圳市_金融保险服务.csv',\n",
       " '']"
      ]
     },
     "execution_count": 124,
     "metadata": {},
     "output_type": "execute_result"
    }
   ],
   "source": [
    "csv_file = \"summary_2020.csv\"\n",
    "poi_file_list = find_poi_file(MID_city,csv_file)\n",
    "poi_file_list"
   ]
  },
  {
   "cell_type": "code",
   "execution_count": 125,
   "id": "44fa9d18",
   "metadata": {
    "scrolled": false
   },
   "outputs": [
    {
     "data": {
      "text/html": [
       "<div>\n",
       "<style scoped>\n",
       "    .dataframe tbody tr th:only-of-type {\n",
       "        vertical-align: middle;\n",
       "    }\n",
       "\n",
       "    .dataframe tbody tr th {\n",
       "        vertical-align: top;\n",
       "    }\n",
       "\n",
       "    .dataframe thead th {\n",
       "        text-align: right;\n",
       "    }\n",
       "</style>\n",
       "<table border=\"1\" class=\"dataframe\">\n",
       "  <thead>\n",
       "    <tr style=\"text-align: right;\">\n",
       "      <th></th>\n",
       "      <th>id</th>\n",
       "      <th>tag</th>\n",
       "      <th>name</th>\n",
       "      <th>dtype</th>\n",
       "      <th>typecode</th>\n",
       "      <th>address</th>\n",
       "      <th>tel</th>\n",
       "      <th>pcode</th>\n",
       "      <th>pname</th>\n",
       "      <th>citycode</th>\n",
       "      <th>...</th>\n",
       "      <th>adname</th>\n",
       "      <th>business_area</th>\n",
       "      <th>marlon</th>\n",
       "      <th>marlat</th>\n",
       "      <th>wgs84lon</th>\n",
       "      <th>wgs84lat</th>\n",
       "      <th>timestamp</th>\n",
       "      <th>大类</th>\n",
       "      <th>中类</th>\n",
       "      <th>小类</th>\n",
       "    </tr>\n",
       "  </thead>\n",
       "  <tbody>\n",
       "    <tr>\n",
       "      <th>0</th>\n",
       "      <td>B0FFIKITQ7</td>\n",
       "      <td>NaN</td>\n",
       "      <td>2017深圳城市定向赛</td>\n",
       "      <td>事件活动;事件活动;事件活动</td>\n",
       "      <td>220000</td>\n",
       "      <td>深圳皇冠体育中心</td>\n",
       "      <td>[]</td>\n",
       "      <td>NaN</td>\n",
       "      <td>广东省</td>\n",
       "      <td>NaN</td>\n",
       "      <td>...</td>\n",
       "      <td>福田区</td>\n",
       "      <td>NaN</td>\n",
       "      <td>114.020718</td>\n",
       "      <td>22.532817</td>\n",
       "      <td>114.015673</td>\n",
       "      <td>22.535623</td>\n",
       "      <td>2.020111e+13</td>\n",
       "      <td>事件活动</td>\n",
       "      <td>事件活动</td>\n",
       "      <td>事件活动</td>\n",
       "    </tr>\n",
       "    <tr>\n",
       "      <th>1</th>\n",
       "      <td>B0FFIJ2VN8</td>\n",
       "      <td>NaN</td>\n",
       "      <td>授业与同修系列展</td>\n",
       "      <td>事件活动;事件活动;事件活动</td>\n",
       "      <td>220000</td>\n",
       "      <td>深圳OCT创意园艺术方位</td>\n",
       "      <td>[]</td>\n",
       "      <td>NaN</td>\n",
       "      <td>广东省</td>\n",
       "      <td>NaN</td>\n",
       "      <td>...</td>\n",
       "      <td>南山区</td>\n",
       "      <td>NaN</td>\n",
       "      <td>113.993434</td>\n",
       "      <td>22.537344</td>\n",
       "      <td>113.988456</td>\n",
       "      <td>22.540232</td>\n",
       "      <td>2.020111e+13</td>\n",
       "      <td>事件活动</td>\n",
       "      <td>事件活动</td>\n",
       "      <td>事件活动</td>\n",
       "    </tr>\n",
       "  </tbody>\n",
       "</table>\n",
       "<p>2 rows × 22 columns</p>\n",
       "</div>"
      ],
      "text/plain": [
       "           id  tag         name           dtype  typecode       address tel  \\\n",
       "0  B0FFIKITQ7  NaN  2017深圳城市定向赛  事件活动;事件活动;事件活动    220000      深圳皇冠体育中心  []   \n",
       "1  B0FFIJ2VN8  NaN     授业与同修系列展  事件活动;事件活动;事件活动    220000  深圳OCT创意园艺术方位  []   \n",
       "\n",
       "   pcode pname  citycode  ... adname  business_area      marlon     marlat  \\\n",
       "0    NaN   广东省       NaN  ...    福田区            NaN  114.020718  22.532817   \n",
       "1    NaN   广东省       NaN  ...    南山区            NaN  113.993434  22.537344   \n",
       "\n",
       "     wgs84lon   wgs84lat     timestamp    大类    中类    小类  \n",
       "0  114.015673  22.535623  2.020111e+13  事件活动  事件活动  事件活动  \n",
       "1  113.988456  22.540232  2.020111e+13  事件活动  事件活动  事件活动  \n",
       "\n",
       "[2 rows x 22 columns]"
      ]
     },
     "execution_count": 125,
     "metadata": {},
     "output_type": "execute_result"
    }
   ],
   "source": [
    "poi_df = pd.read_csv(\"2020POI/深圳市/深圳市_事件活动.csv\")\n",
    "poi_df.head(2)"
   ]
  },
  {
   "cell_type": "code",
   "execution_count": 126,
   "id": "98078952",
   "metadata": {},
   "outputs": [
    {
     "data": {
      "text/html": [
       "<div>\n",
       "<style scoped>\n",
       "    .dataframe tbody tr th:only-of-type {\n",
       "        vertical-align: middle;\n",
       "    }\n",
       "\n",
       "    .dataframe tbody tr th {\n",
       "        vertical-align: top;\n",
       "    }\n",
       "\n",
       "    .dataframe thead th {\n",
       "        text-align: right;\n",
       "    }\n",
       "</style>\n",
       "<table border=\"1\" class=\"dataframe\">\n",
       "  <thead>\n",
       "    <tr style=\"text-align: right;\">\n",
       "      <th></th>\n",
       "      <th>id</th>\n",
       "      <th>tag</th>\n",
       "      <th>name</th>\n",
       "      <th>dtype</th>\n",
       "      <th>typecode</th>\n",
       "      <th>address</th>\n",
       "      <th>tel</th>\n",
       "      <th>pcode</th>\n",
       "      <th>pname</th>\n",
       "      <th>citycode</th>\n",
       "      <th>...</th>\n",
       "      <th>adname</th>\n",
       "      <th>business_area</th>\n",
       "      <th>marlon</th>\n",
       "      <th>marlat</th>\n",
       "      <th>wgs84lon</th>\n",
       "      <th>wgs84lat</th>\n",
       "      <th>timestamp</th>\n",
       "      <th>大类</th>\n",
       "      <th>中类</th>\n",
       "      <th>小类</th>\n",
       "    </tr>\n",
       "  </thead>\n",
       "  <tbody>\n",
       "  </tbody>\n",
       "</table>\n",
       "<p>0 rows × 22 columns</p>\n",
       "</div>"
      ],
      "text/plain": [
       "Empty DataFrame\n",
       "Columns: [id, tag, name, dtype, typecode, address, tel, pcode, pname, citycode, cityname, adcode, adname, business_area, marlon, marlat, wgs84lon, wgs84lat, timestamp, 大类, 中类, 小类]\n",
       "Index: []\n",
       "\n",
       "[0 rows x 22 columns]"
      ]
     },
     "execution_count": 126,
     "metadata": {},
     "output_type": "execute_result"
    }
   ],
   "source": [
    "poi_df_all = poi_df.copy(deep=False)\n",
    "poi_df_all.drop(poi_df_all.index, inplace=True)\n",
    "poi_df_all"
   ]
  },
  {
   "cell_type": "code",
   "execution_count": 132,
   "id": "4e21ba81",
   "metadata": {},
   "outputs": [
    {
     "name": "stdout",
     "output_type": "stream",
     "text": [
      "206762 2020POI/深圳市/深圳市_购物服务.csv\n",
      "4404 2020POI/深圳市/深圳市_公共设施.csv\n",
      "18506 2020POI/深圳市/深圳市_医疗保健服务.csv\n",
      "11744 2020POI/深圳市/深圳市_汽车服务.csv\n",
      "11508 2020POI/深圳市/深圳市_住宿服务.csv\n",
      "106339 2020POI/深圳市/深圳市_地名地址信息.csv\n",
      "2064 2020POI/深圳市/深圳市_汽车销售.csv\n",
      "2885 2020POI/深圳市/深圳市_风景名胜.csv\n",
      "15815 2020POI/深圳市/深圳市_体育休闲服务.csv\n",
      "9779 2020POI/深圳市/深圳市_室内设施.csv\n",
      "29302 2020POI/深圳市/深圳市_商务住宅.csv\n",
      "99718 2020POI/深圳市/深圳市_餐饮服务.csv\n",
      "13686 2020POI/深圳市/深圳市_政府机构及社会团体.csv\n",
      "102159 2020POI/深圳市/深圳市_生活服务.csv\n",
      "229 2020POI/深圳市/深圳市_摩托车服务.csv\n",
      "37267 2020POI/深圳市/深圳市_交通设施服务.csv\n",
      "5 2020POI/深圳市/深圳市_事件活动.csv\n",
      "4071 2020POI/深圳市/深圳市_汽车维修.csv\n",
      "23046 2020POI/深圳市/深圳市_科教文化服务.csv\n",
      "32974 2020POI/深圳市/深圳市_通行设施.csv\n",
      "603 2020POI/深圳市/深圳市_道路附属设施.csv\n",
      "141075 2020POI/深圳市/深圳市_公司企业.csv\n",
      "13129 2020POI/深圳市/深圳市_金融保险服务.csv\n"
     ]
    }
   ],
   "source": [
    "for poi_file in poi_file_list:\n",
    "    if poi_file.endswith(\"csv\"):\n",
    "        poi_df = pd.read_csv(poi_file)\n",
    "        print(poi_df.shape[0],poi_file)\n",
    "        \n",
    "        poi_df_all = pd.concat([poi_df_all, poi_df])\n"
   ]
  },
  {
   "cell_type": "code",
   "execution_count": 134,
   "id": "56b9b459",
   "metadata": {},
   "outputs": [
    {
     "data": {
      "text/html": [
       "<div>\n",
       "<style scoped>\n",
       "    .dataframe tbody tr th:only-of-type {\n",
       "        vertical-align: middle;\n",
       "    }\n",
       "\n",
       "    .dataframe tbody tr th {\n",
       "        vertical-align: top;\n",
       "    }\n",
       "\n",
       "    .dataframe thead th {\n",
       "        text-align: right;\n",
       "    }\n",
       "</style>\n",
       "<table border=\"1\" class=\"dataframe\">\n",
       "  <thead>\n",
       "    <tr style=\"text-align: right;\">\n",
       "      <th></th>\n",
       "      <th>id</th>\n",
       "      <th>tag</th>\n",
       "      <th>name</th>\n",
       "      <th>dtype</th>\n",
       "      <th>typecode</th>\n",
       "      <th>address</th>\n",
       "      <th>tel</th>\n",
       "      <th>pcode</th>\n",
       "      <th>pname</th>\n",
       "      <th>citycode</th>\n",
       "      <th>...</th>\n",
       "      <th>marlat</th>\n",
       "      <th>wgs84lon</th>\n",
       "      <th>wgs84lat</th>\n",
       "      <th>timestamp</th>\n",
       "      <th>大类</th>\n",
       "      <th>中类</th>\n",
       "      <th>小类</th>\n",
       "      <th>class1</th>\n",
       "      <th>lon</th>\n",
       "      <th>lat</th>\n",
       "    </tr>\n",
       "  </thead>\n",
       "  <tbody>\n",
       "    <tr>\n",
       "      <th>0</th>\n",
       "      <td>B0FFHNZNRE</td>\n",
       "      <td>NaN</td>\n",
       "      <td>七巧国儿童成长陪伴中心(碧海店)</td>\n",
       "      <td>购物服务;商场;购物中心</td>\n",
       "      <td>60101.0</td>\n",
       "      <td>西乡兴业路3004号碧海城购物中心3层</td>\n",
       "      <td>0755-33696111</td>\n",
       "      <td>NaN</td>\n",
       "      <td>广东省</td>\n",
       "      <td>NaN</td>\n",
       "      <td>...</td>\n",
       "      <td>22.569053</td>\n",
       "      <td>113.851692</td>\n",
       "      <td>22.572065</td>\n",
       "      <td>2.020111e+13</td>\n",
       "      <td>购物服务</td>\n",
       "      <td>商场</td>\n",
       "      <td>购物中心</td>\n",
       "      <td>购物服务</td>\n",
       "      <td>113.851692</td>\n",
       "      <td>22.572065</td>\n",
       "    </tr>\n",
       "    <tr>\n",
       "      <th>1</th>\n",
       "      <td>B0FFI2L0Y9</td>\n",
       "      <td>NaN</td>\n",
       "      <td>花果鲜(御龙湾店)</td>\n",
       "      <td>购物服务;购物相关场所;购物相关场所</td>\n",
       "      <td>60000.0</td>\n",
       "      <td>金海路御龙湾商业街B112商铺</td>\n",
       "      <td>18026921539</td>\n",
       "      <td>NaN</td>\n",
       "      <td>广东省</td>\n",
       "      <td>NaN</td>\n",
       "      <td>...</td>\n",
       "      <td>22.573970</td>\n",
       "      <td>113.848391</td>\n",
       "      <td>22.576976</td>\n",
       "      <td>2.020111e+13</td>\n",
       "      <td>购物服务</td>\n",
       "      <td>购物相关场所</td>\n",
       "      <td>购物相关场所</td>\n",
       "      <td>购物服务</td>\n",
       "      <td>113.848391</td>\n",
       "      <td>22.576976</td>\n",
       "    </tr>\n",
       "    <tr>\n",
       "      <th>2</th>\n",
       "      <td>B0FFFA23CP</td>\n",
       "      <td>NaN</td>\n",
       "      <td>蓝蓝生活馆(共乐路)</td>\n",
       "      <td>购物服务;购物相关场所;购物相关场所</td>\n",
       "      <td>60000.0</td>\n",
       "      <td>金海路27-15号</td>\n",
       "      <td>[]</td>\n",
       "      <td>NaN</td>\n",
       "      <td>广东省</td>\n",
       "      <td>NaN</td>\n",
       "      <td>...</td>\n",
       "      <td>22.573856</td>\n",
       "      <td>113.850960</td>\n",
       "      <td>22.576866</td>\n",
       "      <td>2.020111e+13</td>\n",
       "      <td>购物服务</td>\n",
       "      <td>购物相关场所</td>\n",
       "      <td>购物相关场所</td>\n",
       "      <td>购物服务</td>\n",
       "      <td>113.850960</td>\n",
       "      <td>22.576866</td>\n",
       "    </tr>\n",
       "    <tr>\n",
       "      <th>3</th>\n",
       "      <td>B0FFG8EO94</td>\n",
       "      <td>NaN</td>\n",
       "      <td>医院小卖部</td>\n",
       "      <td>购物服务;购物相关场所;购物相关场所</td>\n",
       "      <td>60000.0</td>\n",
       "      <td>银田路20号</td>\n",
       "      <td>[]</td>\n",
       "      <td>NaN</td>\n",
       "      <td>广东省</td>\n",
       "      <td>NaN</td>\n",
       "      <td>...</td>\n",
       "      <td>22.576256</td>\n",
       "      <td>113.848080</td>\n",
       "      <td>22.579261</td>\n",
       "      <td>2.020111e+13</td>\n",
       "      <td>购物服务</td>\n",
       "      <td>购物相关场所</td>\n",
       "      <td>购物相关场所</td>\n",
       "      <td>购物服务</td>\n",
       "      <td>113.848080</td>\n",
       "      <td>22.579261</td>\n",
       "    </tr>\n",
       "    <tr>\n",
       "      <th>4</th>\n",
       "      <td>B0FFGHDD0M</td>\n",
       "      <td>NaN</td>\n",
       "      <td>劳斯莱斯中心</td>\n",
       "      <td>购物服务;购物相关场所;购物相关场所</td>\n",
       "      <td>60000.0</td>\n",
       "      <td>西乡大道大铲湾港区金湾大道168-3号</td>\n",
       "      <td>[]</td>\n",
       "      <td>NaN</td>\n",
       "      <td>广东省</td>\n",
       "      <td>NaN</td>\n",
       "      <td>...</td>\n",
       "      <td>22.560673</td>\n",
       "      <td>113.848673</td>\n",
       "      <td>22.563681</td>\n",
       "      <td>2.020111e+13</td>\n",
       "      <td>购物服务</td>\n",
       "      <td>购物相关场所</td>\n",
       "      <td>购物相关场所</td>\n",
       "      <td>购物服务</td>\n",
       "      <td>113.848673</td>\n",
       "      <td>22.563681</td>\n",
       "    </tr>\n",
       "    <tr>\n",
       "      <th>...</th>\n",
       "      <td>...</td>\n",
       "      <td>...</td>\n",
       "      <td>...</td>\n",
       "      <td>...</td>\n",
       "      <td>...</td>\n",
       "      <td>...</td>\n",
       "      <td>...</td>\n",
       "      <td>...</td>\n",
       "      <td>...</td>\n",
       "      <td>...</td>\n",
       "      <td>...</td>\n",
       "      <td>...</td>\n",
       "      <td>...</td>\n",
       "      <td>...</td>\n",
       "      <td>...</td>\n",
       "      <td>...</td>\n",
       "      <td>...</td>\n",
       "      <td>...</td>\n",
       "      <td>...</td>\n",
       "      <td>...</td>\n",
       "      <td>...</td>\n",
       "    </tr>\n",
       "    <tr>\n",
       "      <th>13124</th>\n",
       "      <td>B02F37TUV2</td>\n",
       "      <td>NaN</td>\n",
       "      <td>平安银行24小时自助银行(滨河大道辅道)</td>\n",
       "      <td>金融保险服务;自动提款机;平安银行ATM</td>\n",
       "      <td>160314.0</td>\n",
       "      <td>滨河大道5022号联合广场</td>\n",
       "      <td>[]</td>\n",
       "      <td>NaN</td>\n",
       "      <td>广东省</td>\n",
       "      <td>NaN</td>\n",
       "      <td>...</td>\n",
       "      <td>22.529631</td>\n",
       "      <td>114.064027</td>\n",
       "      <td>22.532332</td>\n",
       "      <td>2.020111e+13</td>\n",
       "      <td>金融保险服务</td>\n",
       "      <td>自动提款机</td>\n",
       "      <td>平安银行ATM</td>\n",
       "      <td>金融保险服务</td>\n",
       "      <td>114.064027</td>\n",
       "      <td>22.532332</td>\n",
       "    </tr>\n",
       "    <tr>\n",
       "      <th>13125</th>\n",
       "      <td>B02F37SZQK</td>\n",
       "      <td>NaN</td>\n",
       "      <td>中国银行24小时自助银行(福建大厦支行)</td>\n",
       "      <td>金融保险服务;自动提款机;中国银行ATM</td>\n",
       "      <td>160301.0</td>\n",
       "      <td>彩田路2048-1福建大厦A座</td>\n",
       "      <td>[]</td>\n",
       "      <td>NaN</td>\n",
       "      <td>广东省</td>\n",
       "      <td>NaN</td>\n",
       "      <td>...</td>\n",
       "      <td>22.533427</td>\n",
       "      <td>114.063787</td>\n",
       "      <td>22.536128</td>\n",
       "      <td>2.020111e+13</td>\n",
       "      <td>金融保险服务</td>\n",
       "      <td>自动提款机</td>\n",
       "      <td>中国银行ATM</td>\n",
       "      <td>金融保险服务</td>\n",
       "      <td>114.063787</td>\n",
       "      <td>22.536128</td>\n",
       "    </tr>\n",
       "    <tr>\n",
       "      <th>13126</th>\n",
       "      <td>B0FFFGLXRL</td>\n",
       "      <td>NaN</td>\n",
       "      <td>蓝桥财务</td>\n",
       "      <td>金融保险服务;财务公司;财务公司|生活服务;生活服务场所;生活服务场所</td>\n",
       "      <td>NaN</td>\n",
       "      <td>和平路337</td>\n",
       "      <td>13713813796</td>\n",
       "      <td>NaN</td>\n",
       "      <td>广东省</td>\n",
       "      <td>NaN</td>\n",
       "      <td>...</td>\n",
       "      <td>22.649386</td>\n",
       "      <td>114.014839</td>\n",
       "      <td>22.652180</td>\n",
       "      <td>2.020111e+13</td>\n",
       "      <td>金融保险服务</td>\n",
       "      <td>财务公司</td>\n",
       "      <td>财务公司|生活服务</td>\n",
       "      <td>金融保险服务</td>\n",
       "      <td>114.014839</td>\n",
       "      <td>22.652180</td>\n",
       "    </tr>\n",
       "    <tr>\n",
       "      <th>13127</th>\n",
       "      <td>B0FFGJ2XPS</td>\n",
       "      <td>NaN</td>\n",
       "      <td>三弧线财务</td>\n",
       "      <td>金融保险服务;财务公司;财务公司|生活服务;生活服务场所;生活服务场所</td>\n",
       "      <td>NaN</td>\n",
       "      <td>和平路376</td>\n",
       "      <td>[]</td>\n",
       "      <td>NaN</td>\n",
       "      <td>广东省</td>\n",
       "      <td>NaN</td>\n",
       "      <td>...</td>\n",
       "      <td>22.649453</td>\n",
       "      <td>114.014063</td>\n",
       "      <td>22.652249</td>\n",
       "      <td>2.020111e+13</td>\n",
       "      <td>金融保险服务</td>\n",
       "      <td>财务公司</td>\n",
       "      <td>财务公司|生活服务</td>\n",
       "      <td>金融保险服务</td>\n",
       "      <td>114.014063</td>\n",
       "      <td>22.652249</td>\n",
       "    </tr>\n",
       "    <tr>\n",
       "      <th>13128</th>\n",
       "      <td>B0FFGZW7LY</td>\n",
       "      <td>NaN</td>\n",
       "      <td>平安银行时代金融个贷中心</td>\n",
       "      <td>金融保险服务;金融保险服务机构;金融保险机构|生活服务;生活服务场所;生活服务场所</td>\n",
       "      <td>NaN</td>\n",
       "      <td>深南大道4001号时代金融中心2层</td>\n",
       "      <td>0755-32800080</td>\n",
       "      <td>NaN</td>\n",
       "      <td>广东省</td>\n",
       "      <td>NaN</td>\n",
       "      <td>...</td>\n",
       "      <td>22.537967</td>\n",
       "      <td>114.050300</td>\n",
       "      <td>22.540689</td>\n",
       "      <td>2.020111e+13</td>\n",
       "      <td>金融保险服务</td>\n",
       "      <td>金融保险服务机构</td>\n",
       "      <td>金融保险机构|生活服务</td>\n",
       "      <td>金融保险服务</td>\n",
       "      <td>114.050300</td>\n",
       "      <td>22.540689</td>\n",
       "    </tr>\n",
       "  </tbody>\n",
       "</table>\n",
       "<p>887070 rows × 25 columns</p>\n",
       "</div>"
      ],
      "text/plain": [
       "               id  tag                  name  \\\n",
       "0      B0FFHNZNRE  NaN      七巧国儿童成长陪伴中心(碧海店)   \n",
       "1      B0FFI2L0Y9  NaN             花果鲜(御龙湾店)   \n",
       "2      B0FFFA23CP  NaN            蓝蓝生活馆(共乐路)   \n",
       "3      B0FFG8EO94  NaN                 医院小卖部   \n",
       "4      B0FFGHDD0M  NaN                劳斯莱斯中心   \n",
       "...           ...  ...                   ...   \n",
       "13124  B02F37TUV2  NaN  平安银行24小时自助银行(滨河大道辅道)   \n",
       "13125  B02F37SZQK  NaN  中国银行24小时自助银行(福建大厦支行)   \n",
       "13126  B0FFFGLXRL  NaN                  蓝桥财务   \n",
       "13127  B0FFGJ2XPS  NaN                 三弧线财务   \n",
       "13128  B0FFGZW7LY  NaN          平安银行时代金融个贷中心   \n",
       "\n",
       "                                           dtype  typecode  \\\n",
       "0                                   购物服务;商场;购物中心   60101.0   \n",
       "1                             购物服务;购物相关场所;购物相关场所   60000.0   \n",
       "2                             购物服务;购物相关场所;购物相关场所   60000.0   \n",
       "3                             购物服务;购物相关场所;购物相关场所   60000.0   \n",
       "4                             购物服务;购物相关场所;购物相关场所   60000.0   \n",
       "...                                          ...       ...   \n",
       "13124                       金融保险服务;自动提款机;平安银行ATM  160314.0   \n",
       "13125                       金融保险服务;自动提款机;中国银行ATM  160301.0   \n",
       "13126        金融保险服务;财务公司;财务公司|生活服务;生活服务场所;生活服务场所       NaN   \n",
       "13127        金融保险服务;财务公司;财务公司|生活服务;生活服务场所;生活服务场所       NaN   \n",
       "13128  金融保险服务;金融保险服务机构;金融保险机构|生活服务;生活服务场所;生活服务场所       NaN   \n",
       "\n",
       "                   address            tel  pcode pname  citycode  ...  \\\n",
       "0      西乡兴业路3004号碧海城购物中心3层  0755-33696111    NaN   广东省       NaN  ...   \n",
       "1          金海路御龙湾商业街B112商铺    18026921539    NaN   广东省       NaN  ...   \n",
       "2                金海路27-15号             []    NaN   广东省       NaN  ...   \n",
       "3                   银田路20号             []    NaN   广东省       NaN  ...   \n",
       "4      西乡大道大铲湾港区金湾大道168-3号             []    NaN   广东省       NaN  ...   \n",
       "...                    ...            ...    ...   ...       ...  ...   \n",
       "13124        滨河大道5022号联合广场             []    NaN   广东省       NaN  ...   \n",
       "13125      彩田路2048-1福建大厦A座             []    NaN   广东省       NaN  ...   \n",
       "13126               和平路337    13713813796    NaN   广东省       NaN  ...   \n",
       "13127               和平路376             []    NaN   广东省       NaN  ...   \n",
       "13128    深南大道4001号时代金融中心2层  0755-32800080    NaN   广东省       NaN  ...   \n",
       "\n",
       "          marlat    wgs84lon   wgs84lat     timestamp      大类        中类  \\\n",
       "0      22.569053  113.851692  22.572065  2.020111e+13    购物服务        商场   \n",
       "1      22.573970  113.848391  22.576976  2.020111e+13    购物服务    购物相关场所   \n",
       "2      22.573856  113.850960  22.576866  2.020111e+13    购物服务    购物相关场所   \n",
       "3      22.576256  113.848080  22.579261  2.020111e+13    购物服务    购物相关场所   \n",
       "4      22.560673  113.848673  22.563681  2.020111e+13    购物服务    购物相关场所   \n",
       "...          ...         ...        ...           ...     ...       ...   \n",
       "13124  22.529631  114.064027  22.532332  2.020111e+13  金融保险服务     自动提款机   \n",
       "13125  22.533427  114.063787  22.536128  2.020111e+13  金融保险服务     自动提款机   \n",
       "13126  22.649386  114.014839  22.652180  2.020111e+13  金融保险服务      财务公司   \n",
       "13127  22.649453  114.014063  22.652249  2.020111e+13  金融保险服务      财务公司   \n",
       "13128  22.537967  114.050300  22.540689  2.020111e+13  金融保险服务  金融保险服务机构   \n",
       "\n",
       "                小类  class1         lon        lat  \n",
       "0             购物中心    购物服务  113.851692  22.572065  \n",
       "1           购物相关场所    购物服务  113.848391  22.576976  \n",
       "2           购物相关场所    购物服务  113.850960  22.576866  \n",
       "3           购物相关场所    购物服务  113.848080  22.579261  \n",
       "4           购物相关场所    购物服务  113.848673  22.563681  \n",
       "...            ...     ...         ...        ...  \n",
       "13124      平安银行ATM  金融保险服务  114.064027  22.532332  \n",
       "13125      中国银行ATM  金融保险服务  114.063787  22.536128  \n",
       "13126    财务公司|生活服务  金融保险服务  114.014839  22.652180  \n",
       "13127    财务公司|生活服务  金融保险服务  114.014063  22.652249  \n",
       "13128  金融保险机构|生活服务  金融保险服务  114.050300  22.540689  \n",
       "\n",
       "[887070 rows x 25 columns]"
      ]
     },
     "execution_count": 134,
     "metadata": {},
     "output_type": "execute_result"
    }
   ],
   "source": [
    "poi_df_all[\"class1\"] = poi_df_all[\"大类\"]\n",
    "poi_df_all[\"lon\"] = poi_df_all[\"wgs84lon\"]\n",
    "poi_df_all[\"lat\"] = poi_df_all[\"wgs84lat\"]\n",
    "poi_df_all"
   ]
  },
  {
   "cell_type": "code",
   "execution_count": 135,
   "id": "85f1f204",
   "metadata": {},
   "outputs": [],
   "source": [
    "file_path = os.path.join(city_path,f\"{MID_city}_{city}\",f\"2020_{MID_city}_{city}.csv\")\n",
    "\n",
    "directory = os.path.dirname(file_path)\n",
    "if not os.path.exists(directory):\n",
    "    # Create the directory\n",
    "    os.makedirs(directory)\n",
    "\n",
    "poi_df_all.to_csv(file_path,encoding = \"utf-8-sig\",index = False)"
   ]
  },
  {
   "cell_type": "markdown",
   "id": "ab3a9974",
   "metadata": {},
   "source": [
    "### 2019"
   ]
  },
  {
   "cell_type": "code",
   "execution_count": 138,
   "id": "45434ce3",
   "metadata": {},
   "outputs": [
    {
     "data": {
      "text/plain": [
       "['2019POI-V2/300000/d_320300.csv', '2019POI-V2/400000/d_440300.csv']"
      ]
     },
     "execution_count": 138,
     "metadata": {},
     "output_type": "execute_result"
    }
   ],
   "source": [
    "csv_file = \"summary_2019-V2.csv\"\n",
    "poi_file_list = find_poi_file(MID_city,csv_file)\n",
    "poi_file_list"
   ]
  },
  {
   "cell_type": "code",
   "execution_count": 145,
   "id": "7b3e130c",
   "metadata": {},
   "outputs": [
    {
     "data": {
      "text/html": [
       "<div>\n",
       "<style scoped>\n",
       "    .dataframe tbody tr th:only-of-type {\n",
       "        vertical-align: middle;\n",
       "    }\n",
       "\n",
       "    .dataframe tbody tr th {\n",
       "        vertical-align: top;\n",
       "    }\n",
       "\n",
       "    .dataframe thead th {\n",
       "        text-align: right;\n",
       "    }\n",
       "</style>\n",
       "<table border=\"1\" class=\"dataframe\">\n",
       "  <thead>\n",
       "    <tr style=\"text-align: right;\">\n",
       "      <th></th>\n",
       "      <th>0</th>\n",
       "      <th>1</th>\n",
       "      <th>2</th>\n",
       "      <th>3</th>\n",
       "      <th>4</th>\n",
       "      <th>5</th>\n",
       "      <th>6</th>\n",
       "      <th>7</th>\n",
       "    </tr>\n",
       "  </thead>\n",
       "  <tbody>\n",
       "    <tr>\n",
       "      <th>434197</th>\n",
       "      <td>434198</td>\n",
       "      <td>深圳志德建设有限公司睢宁八里商业城工程项目部</td>\n",
       "      <td>324省道南50米</td>\n",
       "      <td>33.903182</td>\n",
       "      <td>117.986409</td>\n",
       "      <td>深圳市;睢宁县</td>\n",
       "      <td>公司企业;公司企业</td>\n",
       "      <td></td>\n",
       "    </tr>\n",
       "  </tbody>\n",
       "</table>\n",
       "</div>"
      ],
      "text/plain": [
       "             0                       1          2          3           4  \\\n",
       "434197  434198  深圳志德建设有限公司睢宁八里商业城工程项目部  324省道南50米  33.903182  117.986409   \n",
       "\n",
       "              5          6  7  \n",
       "434197  深圳市;睢宁县  公司企业;公司企业     "
      ]
     },
     "execution_count": 145,
     "metadata": {},
     "output_type": "execute_result"
    }
   ],
   "source": [
    "poi_df_sub = pd.read_csv(poi_file_list[0],encoding='utf-8', header=None)\n",
    "city_split_columns = poi_df_sub[5].str.split(';', expand=True)\n",
    "poi_df_sub[city_split_columns[0] == \"深圳市\"]\n",
    "\n",
    "#poi_df_sub.head(5)\n",
    "#poi_df_sub.loc[poi_df_sub[]]"
   ]
  },
  {
   "cell_type": "code",
   "execution_count": 146,
   "id": "9259641e",
   "metadata": {},
   "outputs": [
    {
     "data": {
      "text/html": [
       "<div>\n",
       "<style scoped>\n",
       "    .dataframe tbody tr th:only-of-type {\n",
       "        vertical-align: middle;\n",
       "    }\n",
       "\n",
       "    .dataframe tbody tr th {\n",
       "        vertical-align: top;\n",
       "    }\n",
       "\n",
       "    .dataframe thead th {\n",
       "        text-align: right;\n",
       "    }\n",
       "</style>\n",
       "<table border=\"1\" class=\"dataframe\">\n",
       "  <thead>\n",
       "    <tr style=\"text-align: right;\">\n",
       "      <th></th>\n",
       "      <th>0</th>\n",
       "      <th>1</th>\n",
       "      <th>2</th>\n",
       "      <th>3</th>\n",
       "      <th>4</th>\n",
       "      <th>5</th>\n",
       "      <th>6</th>\n",
       "      <th>7</th>\n",
       "    </tr>\n",
       "  </thead>\n",
       "  <tbody>\n",
       "    <tr>\n",
       "      <th>0</th>\n",
       "      <td>1</td>\n",
       "      <td>金龟露营小镇</td>\n",
       "      <td>金龟社区金龟露营小镇同石村</td>\n",
       "      <td>22.657414</td>\n",
       "      <td>114.393950</td>\n",
       "      <td>深圳市;坪山区</td>\n",
       "      <td>休闲娱乐;其它娱乐休闲</td>\n",
       "      <td>0755-89552296</td>\n",
       "    </tr>\n",
       "    <tr>\n",
       "      <th>1</th>\n",
       "      <td>2</td>\n",
       "      <td>金龟露营小镇[公交站]</td>\n",
       "      <td>B883</td>\n",
       "      <td>22.655344</td>\n",
       "      <td>114.396421</td>\n",
       "      <td>深圳市;坪山区</td>\n",
       "      <td>基础设施;公交车站</td>\n",
       "      <td></td>\n",
       "    </tr>\n",
       "    <tr>\n",
       "      <th>2</th>\n",
       "      <td>3</td>\n",
       "      <td>金龟创客实践基地</td>\n",
       "      <td>金龟露营小镇</td>\n",
       "      <td>22.658333</td>\n",
       "      <td>114.394000</td>\n",
       "      <td>深圳市;坪山区</td>\n",
       "      <td>休闲娱乐;户外活动</td>\n",
       "      <td>0755-83692602</td>\n",
       "    </tr>\n",
       "    <tr>\n",
       "      <th>3</th>\n",
       "      <td>4</td>\n",
       "      <td>深圳时光静好民宿</td>\n",
       "      <td>坪山街道金龟社区同石村17号金龟露营小镇</td>\n",
       "      <td>22.657764</td>\n",
       "      <td>114.393940</td>\n",
       "      <td>深圳市;坪山区</td>\n",
       "      <td>酒店宾馆;经济型酒店</td>\n",
       "      <td>13266783783; 18123832318</td>\n",
       "    </tr>\n",
       "    <tr>\n",
       "      <th>4</th>\n",
       "      <td>5</td>\n",
       "      <td>这里生活</td>\n",
       "      <td>坪山新区金龟露营小镇同石村19号</td>\n",
       "      <td>22.656234</td>\n",
       "      <td>114.392440</td>\n",
       "      <td>深圳市;坪山区</td>\n",
       "      <td>酒店宾馆;酒店宾馆</td>\n",
       "      <td>13825462723</td>\n",
       "    </tr>\n",
       "    <tr>\n",
       "      <th>...</th>\n",
       "      <td>...</td>\n",
       "      <td>...</td>\n",
       "      <td>...</td>\n",
       "      <td>...</td>\n",
       "      <td>...</td>\n",
       "      <td>...</td>\n",
       "      <td>...</td>\n",
       "      <td>...</td>\n",
       "    </tr>\n",
       "    <tr>\n",
       "      <th>1346508</th>\n",
       "      <td>1346509</td>\n",
       "      <td>睿库文化传播有限公司</td>\n",
       "      <td>科技南路55号</td>\n",
       "      <td>22.539025</td>\n",
       "      <td>113.944126</td>\n",
       "      <td>深圳市;南山区</td>\n",
       "      <td>公司企业;公司企业</td>\n",
       "      <td></td>\n",
       "    </tr>\n",
       "    <tr>\n",
       "      <th>1346509</th>\n",
       "      <td>1346510</td>\n",
       "      <td>厂区威富集团</td>\n",
       "      <td>龙城南路55号附近</td>\n",
       "      <td>22.711467</td>\n",
       "      <td>114.249289</td>\n",
       "      <td>深圳市;龙岗区</td>\n",
       "      <td>公司企业;公司企业</td>\n",
       "      <td></td>\n",
       "    </tr>\n",
       "    <tr>\n",
       "      <th>1346510</th>\n",
       "      <td>1346511</td>\n",
       "      <td>益美佳便利店</td>\n",
       "      <td>奋进路55号</td>\n",
       "      <td>22.648352</td>\n",
       "      <td>114.043202</td>\n",
       "      <td>深圳市;龙华区</td>\n",
       "      <td>购物;便利店</td>\n",
       "      <td>13798564242</td>\n",
       "    </tr>\n",
       "    <tr>\n",
       "      <th>1346511</th>\n",
       "      <td>1346512</td>\n",
       "      <td>前进广场-销售处</td>\n",
       "      <td>松岗大道55号附近</td>\n",
       "      <td>22.769903</td>\n",
       "      <td>113.854754</td>\n",
       "      <td>深圳市;宝安区</td>\n",
       "      <td>公司企业;公司企业</td>\n",
       "      <td></td>\n",
       "    </tr>\n",
       "    <tr>\n",
       "      <th>1346512</th>\n",
       "      <td>1346513</td>\n",
       "      <td>榕树车行</td>\n",
       "      <td>将富路55号</td>\n",
       "      <td>22.764739</td>\n",
       "      <td>113.903134</td>\n",
       "      <td>深圳市;宝安区</td>\n",
       "      <td>购物;自行车专卖</td>\n",
       "      <td>0755-33137996</td>\n",
       "    </tr>\n",
       "  </tbody>\n",
       "</table>\n",
       "<p>1346513 rows × 8 columns</p>\n",
       "</div>"
      ],
      "text/plain": [
       "               0            1                     2          3           4  \\\n",
       "0              1       金龟露营小镇         金龟社区金龟露营小镇同石村  22.657414  114.393950   \n",
       "1              2  金龟露营小镇[公交站]                  B883  22.655344  114.396421   \n",
       "2              3     金龟创客实践基地                金龟露营小镇  22.658333  114.394000   \n",
       "3              4     深圳时光静好民宿  坪山街道金龟社区同石村17号金龟露营小镇  22.657764  114.393940   \n",
       "4              5         这里生活      坪山新区金龟露营小镇同石村19号  22.656234  114.392440   \n",
       "...          ...          ...                   ...        ...         ...   \n",
       "1346508  1346509   睿库文化传播有限公司               科技南路55号  22.539025  113.944126   \n",
       "1346509  1346510       厂区威富集团             龙城南路55号附近  22.711467  114.249289   \n",
       "1346510  1346511       益美佳便利店                奋进路55号  22.648352  114.043202   \n",
       "1346511  1346512     前进广场-销售处             松岗大道55号附近  22.769903  113.854754   \n",
       "1346512  1346513         榕树车行                将富路55号  22.764739  113.903134   \n",
       "\n",
       "               5            6                         7  \n",
       "0        深圳市;坪山区  休闲娱乐;其它娱乐休闲             0755-89552296  \n",
       "1        深圳市;坪山区    基础设施;公交车站                            \n",
       "2        深圳市;坪山区    休闲娱乐;户外活动             0755-83692602  \n",
       "3        深圳市;坪山区   酒店宾馆;经济型酒店  13266783783; 18123832318  \n",
       "4        深圳市;坪山区    酒店宾馆;酒店宾馆               13825462723  \n",
       "...          ...          ...                       ...  \n",
       "1346508  深圳市;南山区    公司企业;公司企业                            \n",
       "1346509  深圳市;龙岗区    公司企业;公司企业                            \n",
       "1346510  深圳市;龙华区       购物;便利店               13798564242  \n",
       "1346511  深圳市;宝安区    公司企业;公司企业                            \n",
       "1346512  深圳市;宝安区     购物;自行车专卖             0755-33137996  \n",
       "\n",
       "[1346513 rows x 8 columns]"
      ]
     },
     "execution_count": 146,
     "metadata": {},
     "output_type": "execute_result"
    }
   ],
   "source": [
    "poi_df = pd.read_csv(poi_file_list[1],encoding='GB2312', header=None)\n",
    "poi_df"
   ]
  },
  {
   "cell_type": "code",
   "execution_count": 149,
   "id": "f5099358",
   "metadata": {
    "scrolled": true
   },
   "outputs": [
    {
     "data": {
      "text/html": [
       "<div>\n",
       "<style scoped>\n",
       "    .dataframe tbody tr th:only-of-type {\n",
       "        vertical-align: middle;\n",
       "    }\n",
       "\n",
       "    .dataframe tbody tr th {\n",
       "        vertical-align: top;\n",
       "    }\n",
       "\n",
       "    .dataframe thead th {\n",
       "        text-align: right;\n",
       "    }\n",
       "</style>\n",
       "<table border=\"1\" class=\"dataframe\">\n",
       "  <thead>\n",
       "    <tr style=\"text-align: right;\">\n",
       "      <th></th>\n",
       "      <th>0</th>\n",
       "      <th>1</th>\n",
       "      <th>2</th>\n",
       "      <th>3</th>\n",
       "      <th>4</th>\n",
       "      <th>5</th>\n",
       "      <th>6</th>\n",
       "      <th>7</th>\n",
       "      <th>class1</th>\n",
       "      <th>lat</th>\n",
       "      <th>lon</th>\n",
       "    </tr>\n",
       "  </thead>\n",
       "  <tbody>\n",
       "    <tr>\n",
       "      <th>0</th>\n",
       "      <td>1</td>\n",
       "      <td>金龟露营小镇</td>\n",
       "      <td>金龟社区金龟露营小镇同石村</td>\n",
       "      <td>22.657414</td>\n",
       "      <td>114.393950</td>\n",
       "      <td>深圳市;坪山区</td>\n",
       "      <td>休闲娱乐;其它娱乐休闲</td>\n",
       "      <td>0755-89552296</td>\n",
       "      <td>休闲娱乐</td>\n",
       "      <td>22.657414</td>\n",
       "      <td>114.393950</td>\n",
       "    </tr>\n",
       "    <tr>\n",
       "      <th>1</th>\n",
       "      <td>2</td>\n",
       "      <td>金龟露营小镇[公交站]</td>\n",
       "      <td>B883</td>\n",
       "      <td>22.655344</td>\n",
       "      <td>114.396421</td>\n",
       "      <td>深圳市;坪山区</td>\n",
       "      <td>基础设施;公交车站</td>\n",
       "      <td></td>\n",
       "      <td>基础设施</td>\n",
       "      <td>22.655344</td>\n",
       "      <td>114.396421</td>\n",
       "    </tr>\n",
       "    <tr>\n",
       "      <th>2</th>\n",
       "      <td>3</td>\n",
       "      <td>金龟创客实践基地</td>\n",
       "      <td>金龟露营小镇</td>\n",
       "      <td>22.658333</td>\n",
       "      <td>114.394000</td>\n",
       "      <td>深圳市;坪山区</td>\n",
       "      <td>休闲娱乐;户外活动</td>\n",
       "      <td>0755-83692602</td>\n",
       "      <td>休闲娱乐</td>\n",
       "      <td>22.658333</td>\n",
       "      <td>114.394000</td>\n",
       "    </tr>\n",
       "    <tr>\n",
       "      <th>3</th>\n",
       "      <td>4</td>\n",
       "      <td>深圳时光静好民宿</td>\n",
       "      <td>坪山街道金龟社区同石村17号金龟露营小镇</td>\n",
       "      <td>22.657764</td>\n",
       "      <td>114.393940</td>\n",
       "      <td>深圳市;坪山区</td>\n",
       "      <td>酒店宾馆;经济型酒店</td>\n",
       "      <td>13266783783; 18123832318</td>\n",
       "      <td>酒店宾馆</td>\n",
       "      <td>22.657764</td>\n",
       "      <td>114.393940</td>\n",
       "    </tr>\n",
       "    <tr>\n",
       "      <th>4</th>\n",
       "      <td>5</td>\n",
       "      <td>这里生活</td>\n",
       "      <td>坪山新区金龟露营小镇同石村19号</td>\n",
       "      <td>22.656234</td>\n",
       "      <td>114.392440</td>\n",
       "      <td>深圳市;坪山区</td>\n",
       "      <td>酒店宾馆;酒店宾馆</td>\n",
       "      <td>13825462723</td>\n",
       "      <td>酒店宾馆</td>\n",
       "      <td>22.656234</td>\n",
       "      <td>114.392440</td>\n",
       "    </tr>\n",
       "  </tbody>\n",
       "</table>\n",
       "</div>"
      ],
      "text/plain": [
       "   0            1                     2          3           4        5  \\\n",
       "0  1       金龟露营小镇         金龟社区金龟露营小镇同石村  22.657414  114.393950  深圳市;坪山区   \n",
       "1  2  金龟露营小镇[公交站]                  B883  22.655344  114.396421  深圳市;坪山区   \n",
       "2  3     金龟创客实践基地                金龟露营小镇  22.658333  114.394000  深圳市;坪山区   \n",
       "3  4     深圳时光静好民宿  坪山街道金龟社区同石村17号金龟露营小镇  22.657764  114.393940  深圳市;坪山区   \n",
       "4  5         这里生活      坪山新区金龟露营小镇同石村19号  22.656234  114.392440  深圳市;坪山区   \n",
       "\n",
       "             6                         7 class1        lat         lon  \n",
       "0  休闲娱乐;其它娱乐休闲             0755-89552296   休闲娱乐  22.657414  114.393950  \n",
       "1    基础设施;公交车站                             基础设施  22.655344  114.396421  \n",
       "2    休闲娱乐;户外活动             0755-83692602   休闲娱乐  22.658333  114.394000  \n",
       "3   酒店宾馆;经济型酒店  13266783783; 18123832318   酒店宾馆  22.657764  114.393940  \n",
       "4    酒店宾馆;酒店宾馆               13825462723   酒店宾馆  22.656234  114.392440  "
      ]
     },
     "execution_count": 149,
     "metadata": {},
     "output_type": "execute_result"
    }
   ],
   "source": [
    "class_split_columns = poi_df[6].str.split(';', expand=True)\n",
    "poi_df[\"class1\"] = class_split_columns[0]\n",
    "poi_df[\"lat\"] = poi_df[3]\n",
    "poi_df[\"lon\"] = poi_df[4]\n",
    "poi_df.head()"
   ]
  },
  {
   "cell_type": "code",
   "execution_count": 143,
   "id": "1569604b",
   "metadata": {
    "scrolled": true
   },
   "outputs": [],
   "source": [
    "#poi_df[poi_df[\"class1\"] == \"基础设施\"]"
   ]
  },
  {
   "cell_type": "code",
   "execution_count": 150,
   "id": "24d35e3f",
   "metadata": {},
   "outputs": [],
   "source": [
    "file_path = os.path.join(city_path,f\"{MID_city}_{city}\",f\"2019_{MID_city}_{city}.csv\")\n",
    "\n",
    "directory = os.path.dirname(file_path)\n",
    "if not os.path.exists(directory):\n",
    "    # Create the directory\n",
    "    os.makedirs(directory)\n",
    "\n",
    "poi_df.to_csv(file_path,encoding = \"utf-8-sig\",index = False)"
   ]
  },
  {
   "cell_type": "markdown",
   "id": "44ad5294",
   "metadata": {},
   "source": [
    "### 2018"
   ]
  },
  {
   "cell_type": "code",
   "execution_count": 73,
   "id": "bcfff65d",
   "metadata": {},
   "outputs": [],
   "source": [
    "csv_file = \"summary_2018.csv\"\n",
    "poi_file_list = find_poi_file(MID_city,csv_file)"
   ]
  },
  {
   "cell_type": "code",
   "execution_count": 80,
   "id": "b16b5feb",
   "metadata": {},
   "outputs": [
    {
     "data": {
      "text/html": [
       "<div>\n",
       "<style scoped>\n",
       "    .dataframe tbody tr th:only-of-type {\n",
       "        vertical-align: middle;\n",
       "    }\n",
       "\n",
       "    .dataframe tbody tr th {\n",
       "        vertical-align: top;\n",
       "    }\n",
       "\n",
       "    .dataframe thead th {\n",
       "        text-align: right;\n",
       "    }\n",
       "</style>\n",
       "<table border=\"1\" class=\"dataframe\">\n",
       "  <thead>\n",
       "    <tr style=\"text-align: right;\">\n",
       "      <th></th>\n",
       "      <th>address</th>\n",
       "      <th>adname</th>\n",
       "      <th>page_publish_time</th>\n",
       "      <th>adcode</th>\n",
       "      <th>pname</th>\n",
       "      <th>cityname</th>\n",
       "      <th>name</th>\n",
       "      <th>location</th>\n",
       "      <th>_id</th>\n",
       "      <th>type</th>\n",
       "      <th>Unnamed: 10</th>\n",
       "    </tr>\n",
       "  </thead>\n",
       "  <tbody>\n",
       "    <tr>\n",
       "      <th>0</th>\n",
       "      <td>万源市</td>\n",
       "      <td>万源市</td>\n",
       "      <td>2017-06-19 16:19:35</td>\n",
       "      <td>511781</td>\n",
       "      <td>四川省</td>\n",
       "      <td>达州市</td>\n",
       "      <td>营盘</td>\n",
       "      <td>108.354324，31.804957</td>\n",
       "      <td>m#20170619#e6e880990f667fb56f640a93fa939382</td>\n",
       "      <td>地名地址信息;普通地名;村庄级地名</td>\n",
       "      <td>NaN</td>\n",
       "    </tr>\n",
       "    <tr>\n",
       "      <th>1</th>\n",
       "      <td>平桂区</td>\n",
       "      <td>平桂区</td>\n",
       "      <td>2017-06-19 13:39:07</td>\n",
       "      <td>451103</td>\n",
       "      <td>广西壮族自治区</td>\n",
       "      <td>贺州市</td>\n",
       "      <td>白}</td>\n",
       "      <td>111.261630，23.980339</td>\n",
       "      <td>7#20170619#773319260bad90aa4d61536a9acd70ed</td>\n",
       "      <td>地名地址信息;普通地名;村庄级地名</td>\n",
       "      <td>NaN</td>\n",
       "    </tr>\n",
       "    <tr>\n",
       "      <th>2</th>\n",
       "      <td>中山大道中138号汇勤楼4楼</td>\n",
       "      <td>天河区</td>\n",
       "      <td>2017-06-19 10:11:31</td>\n",
       "      <td>440106</td>\n",
       "      <td>广东省</td>\n",
       "      <td>广州市</td>\n",
       "      <td>广州书韵文化传播有限公司</td>\n",
       "      <td>113.400530，23.124350</td>\n",
       "      <td>w#20170619#17d637d18e214d0970088b9e996b14ae</td>\n",
       "      <td>科教文化服务;科教文化场所;科教文化场所</td>\n",
       "      <td>NaN</td>\n",
       "    </tr>\n",
       "    <tr>\n",
       "      <th>3</th>\n",
       "      <td>谷里街道振容路79号</td>\n",
       "      <td>江宁区</td>\n",
       "      <td>2017-06-18 18:49:56</td>\n",
       "      <td>320115</td>\n",
       "      <td>江苏省</td>\n",
       "      <td>南京市</td>\n",
       "      <td>世纪华联超市(谷里店)</td>\n",
       "      <td>118.694965，31.867626</td>\n",
       "      <td>6#20170618#5f6aea29355515fec16f1c86a3b41540</td>\n",
       "      <td>购物服务;便民商店/便利店;便民商店/便利店</td>\n",
       "      <td>NaN</td>\n",
       "    </tr>\n",
       "    <tr>\n",
       "      <th>4</th>\n",
       "      <td>纯阳宫路3号附近</td>\n",
       "      <td>迎泽区</td>\n",
       "      <td>2017-06-18 13:31:10</td>\n",
       "      <td>140106</td>\n",
       "      <td>山西省</td>\n",
       "      <td>太原市</td>\n",
       "      <td>少儿艺术团操招生</td>\n",
       "      <td>112.572522，37.863343</td>\n",
       "      <td>1#20170618#68fe4683a42e54c5aff2edb99f1196c0</td>\n",
       "      <td>生活服务;生活服务场所;生活服务场所</td>\n",
       "      <td>NaN</td>\n",
       "    </tr>\n",
       "  </tbody>\n",
       "</table>\n",
       "</div>"
      ],
      "text/plain": [
       "          address adname    page_publish_time  adcode    pname cityname  \\\n",
       "0             万源市    万源市  2017-06-19 16:19:35  511781      四川省      达州市   \n",
       "1             平桂区    平桂区  2017-06-19 13:39:07  451103  广西壮族自治区      贺州市   \n",
       "2  中山大道中138号汇勤楼4楼    天河区  2017-06-19 10:11:31  440106      广东省      广州市   \n",
       "3      谷里街道振容路79号    江宁区  2017-06-18 18:49:56  320115      江苏省      南京市   \n",
       "4        纯阳宫路3号附近    迎泽区  2017-06-18 13:31:10  140106      山西省      太原市   \n",
       "\n",
       "           name              location  \\\n",
       "0            营盘  108.354324，31.804957   \n",
       "1            白}  111.261630，23.980339   \n",
       "2  广州书韵文化传播有限公司  113.400530，23.124350   \n",
       "3   世纪华联超市(谷里店)  118.694965，31.867626   \n",
       "4      少儿艺术团操招生  112.572522，37.863343   \n",
       "\n",
       "                                           _id                    type  \\\n",
       "0  m#20170619#e6e880990f667fb56f640a93fa939382       地名地址信息;普通地名;村庄级地名   \n",
       "1  7#20170619#773319260bad90aa4d61536a9acd70ed       地名地址信息;普通地名;村庄级地名   \n",
       "2  w#20170619#17d637d18e214d0970088b9e996b14ae    科教文化服务;科教文化场所;科教文化场所   \n",
       "3  6#20170618#5f6aea29355515fec16f1c86a3b41540  购物服务;便民商店/便利店;便民商店/便利店   \n",
       "4  1#20170618#68fe4683a42e54c5aff2edb99f1196c0      生活服务;生活服务场所;生活服务场所   \n",
       "\n",
       "   Unnamed: 10  \n",
       "0          NaN  \n",
       "1          NaN  \n",
       "2          NaN  \n",
       "3          NaN  \n",
       "4          NaN  "
      ]
     },
     "execution_count": 80,
     "metadata": {},
     "output_type": "execute_result"
    }
   ],
   "source": [
    "poi_df = pd.read_csv(poi_file_list[0], encoding='GB2312', encoding_errors='ignore', on_bad_lines='skip')\n",
    "poi_df.head()"
   ]
  },
  {
   "cell_type": "code",
   "execution_count": 83,
   "id": "901dad08",
   "metadata": {},
   "outputs": [
    {
     "data": {
      "text/html": [
       "<div>\n",
       "<style scoped>\n",
       "    .dataframe tbody tr th:only-of-type {\n",
       "        vertical-align: middle;\n",
       "    }\n",
       "\n",
       "    .dataframe tbody tr th {\n",
       "        vertical-align: top;\n",
       "    }\n",
       "\n",
       "    .dataframe thead th {\n",
       "        text-align: right;\n",
       "    }\n",
       "</style>\n",
       "<table border=\"1\" class=\"dataframe\">\n",
       "  <thead>\n",
       "    <tr style=\"text-align: right;\">\n",
       "      <th></th>\n",
       "      <th>address</th>\n",
       "      <th>adname</th>\n",
       "      <th>page_publish_time</th>\n",
       "      <th>adcode</th>\n",
       "      <th>pname</th>\n",
       "      <th>cityname</th>\n",
       "      <th>name</th>\n",
       "      <th>location</th>\n",
       "      <th>_id</th>\n",
       "      <th>type</th>\n",
       "      <th>Unnamed: 10</th>\n",
       "    </tr>\n",
       "  </thead>\n",
       "  <tbody>\n",
       "  </tbody>\n",
       "</table>\n",
       "</div>"
      ],
      "text/plain": [
       "Empty DataFrame\n",
       "Columns: [address, adname, page_publish_time, adcode, pname, cityname, name, location, _id, type, Unnamed: 10]\n",
       "Index: []"
      ]
     },
     "execution_count": 83,
     "metadata": {},
     "output_type": "execute_result"
    }
   ],
   "source": [
    "city_df_all = poi_df.copy(deep=False)\n",
    "city_df_all.drop(city_df_all.index, inplace=True)\n",
    "city_df_all"
   ]
  },
  {
   "cell_type": "code",
   "execution_count": 84,
   "id": "9d8b627a",
   "metadata": {
    "scrolled": true
   },
   "outputs": [
    {
     "name": "stderr",
     "output_type": "stream",
     "text": [
      "  1%|█▎                                                                                        | 1/67 [00:03<03:57,  3.60s/it]"
     ]
    },
    {
     "name": "stdout",
     "output_type": "stream",
     "text": [
      "9299\n"
     ]
    },
    {
     "name": "stderr",
     "output_type": "stream",
     "text": [
      "\r",
      "  3%|██▋                                                                                       | 2/67 [00:07<03:47,  3.50s/it]"
     ]
    },
    {
     "name": "stdout",
     "output_type": "stream",
     "text": [
      "3663\n"
     ]
    },
    {
     "name": "stderr",
     "output_type": "stream",
     "text": [
      "\r",
      "  4%|████                                                                                      | 3/67 [00:10<03:46,  3.55s/it]"
     ]
    },
    {
     "name": "stdout",
     "output_type": "stream",
     "text": [
      "4694\n"
     ]
    },
    {
     "name": "stderr",
     "output_type": "stream",
     "text": [
      "\r",
      "  6%|█████▎                                                                                    | 4/67 [00:13<03:23,  3.23s/it]"
     ]
    },
    {
     "name": "stdout",
     "output_type": "stream",
     "text": [
      "14657\n"
     ]
    },
    {
     "name": "stderr",
     "output_type": "stream",
     "text": [
      "\r",
      "  7%|██████▋                                                                                   | 5/67 [00:17<03:29,  3.38s/it]"
     ]
    },
    {
     "name": "stdout",
     "output_type": "stream",
     "text": [
      "18756\n"
     ]
    },
    {
     "name": "stderr",
     "output_type": "stream",
     "text": [
      "\r",
      "  9%|████████                                                                                  | 6/67 [00:20<03:28,  3.42s/it]"
     ]
    },
    {
     "name": "stdout",
     "output_type": "stream",
     "text": [
      "4061\n"
     ]
    },
    {
     "name": "stderr",
     "output_type": "stream",
     "text": [
      "\r",
      " 10%|█████████▍                                                                                | 7/67 [00:24<03:30,  3.50s/it]"
     ]
    },
    {
     "name": "stdout",
     "output_type": "stream",
     "text": [
      "13617\n"
     ]
    },
    {
     "name": "stderr",
     "output_type": "stream",
     "text": [
      "\r",
      " 12%|██████████▋                                                                               | 8/67 [00:27<03:30,  3.56s/it]"
     ]
    },
    {
     "name": "stdout",
     "output_type": "stream",
     "text": [
      "8891\n"
     ]
    },
    {
     "name": "stderr",
     "output_type": "stream",
     "text": [
      "\r",
      " 13%|████████████                                                                              | 9/67 [00:31<03:22,  3.49s/it]"
     ]
    },
    {
     "name": "stdout",
     "output_type": "stream",
     "text": [
      "12984\n"
     ]
    },
    {
     "name": "stderr",
     "output_type": "stream",
     "text": [
      "\r",
      " 15%|█████████████▎                                                                           | 10/67 [00:34<03:15,  3.44s/it]"
     ]
    },
    {
     "name": "stdout",
     "output_type": "stream",
     "text": [
      "20804\n"
     ]
    },
    {
     "name": "stderr",
     "output_type": "stream",
     "text": [
      "\r",
      " 16%|██████████████▌                                                                          | 11/67 [00:38<03:17,  3.52s/it]"
     ]
    },
    {
     "name": "stdout",
     "output_type": "stream",
     "text": [
      "12147\n"
     ]
    },
    {
     "name": "stderr",
     "output_type": "stream",
     "text": [
      "\r",
      " 18%|███████████████▉                                                                         | 12/67 [00:41<03:16,  3.58s/it]"
     ]
    },
    {
     "name": "stdout",
     "output_type": "stream",
     "text": [
      "13786\n"
     ]
    },
    {
     "name": "stderr",
     "output_type": "stream",
     "text": [
      "\r",
      " 19%|█████████████████▎                                                                       | 13/67 [00:45<03:16,  3.63s/it]"
     ]
    },
    {
     "name": "stdout",
     "output_type": "stream",
     "text": [
      "17460\n"
     ]
    },
    {
     "name": "stderr",
     "output_type": "stream",
     "text": [
      "\r",
      " 21%|██████████████████▌                                                                      | 14/67 [00:49<03:13,  3.65s/it]"
     ]
    },
    {
     "name": "stdout",
     "output_type": "stream",
     "text": [
      "11932\n"
     ]
    },
    {
     "name": "stderr",
     "output_type": "stream",
     "text": [
      "\r",
      " 22%|███████████████████▉                                                                     | 15/67 [00:53<03:12,  3.71s/it]"
     ]
    },
    {
     "name": "stdout",
     "output_type": "stream",
     "text": [
      "10240\n"
     ]
    },
    {
     "name": "stderr",
     "output_type": "stream",
     "text": [
      "\r",
      " 24%|█████████████████████▎                                                                   | 16/67 [00:56<03:04,  3.62s/it]"
     ]
    },
    {
     "name": "stdout",
     "output_type": "stream",
     "text": [
      "3585\n"
     ]
    },
    {
     "name": "stderr",
     "output_type": "stream",
     "text": [
      "\r",
      " 25%|██████████████████████▌                                                                  | 17/67 [01:00<02:59,  3.58s/it]"
     ]
    },
    {
     "name": "stdout",
     "output_type": "stream",
     "text": [
      "3551\n"
     ]
    },
    {
     "name": "stderr",
     "output_type": "stream",
     "text": [
      "\r",
      " 27%|███████████████████████▉                                                                 | 18/67 [01:03<02:58,  3.64s/it]"
     ]
    },
    {
     "name": "stdout",
     "output_type": "stream",
     "text": [
      "8379\n"
     ]
    },
    {
     "name": "stderr",
     "output_type": "stream",
     "text": [
      "\r",
      " 28%|█████████████████████████▏                                                               | 19/67 [01:07<02:55,  3.66s/it]"
     ]
    },
    {
     "name": "stdout",
     "output_type": "stream",
     "text": [
      "12695\n"
     ]
    },
    {
     "name": "stderr",
     "output_type": "stream",
     "text": [
      "\r",
      " 30%|██████████████████████████▌                                                              | 20/67 [01:07<02:04,  2.65s/it]"
     ]
    },
    {
     "name": "stdout",
     "output_type": "stream",
     "text": [
      "499\n"
     ]
    },
    {
     "name": "stderr",
     "output_type": "stream",
     "text": [
      "\r",
      " 31%|███████████████████████████▉                                                             | 21/67 [01:11<02:15,  2.95s/it]"
     ]
    },
    {
     "name": "stdout",
     "output_type": "stream",
     "text": [
      "18579\n"
     ]
    },
    {
     "name": "stderr",
     "output_type": "stream",
     "text": [
      "\r",
      " 33%|█████████████████████████████▏                                                           | 22/67 [01:15<02:26,  3.25s/it]"
     ]
    },
    {
     "name": "stdout",
     "output_type": "stream",
     "text": [
      "1634\n"
     ]
    },
    {
     "name": "stderr",
     "output_type": "stream",
     "text": [
      "\r",
      " 34%|██████████████████████████████▌                                                          | 23/67 [01:19<02:30,  3.41s/it]"
     ]
    },
    {
     "name": "stdout",
     "output_type": "stream",
     "text": [
      "15838\n"
     ]
    },
    {
     "name": "stderr",
     "output_type": "stream",
     "text": [
      "\r",
      " 36%|███████████████████████████████▉                                                         | 24/67 [01:23<02:33,  3.57s/it]"
     ]
    },
    {
     "name": "stdout",
     "output_type": "stream",
     "text": [
      "10788\n"
     ]
    },
    {
     "name": "stderr",
     "output_type": "stream",
     "text": [
      "\r",
      " 37%|█████████████████████████████████▏                                                       | 25/67 [01:27<02:33,  3.66s/it]"
     ]
    },
    {
     "name": "stdout",
     "output_type": "stream",
     "text": [
      "13130\n"
     ]
    },
    {
     "name": "stderr",
     "output_type": "stream",
     "text": [
      "\r",
      " 39%|██████████████████████████████████▌                                                      | 26/67 [01:30<02:28,  3.63s/it]"
     ]
    },
    {
     "name": "stdout",
     "output_type": "stream",
     "text": [
      "15664\n"
     ]
    },
    {
     "name": "stderr",
     "output_type": "stream",
     "text": [
      "\r",
      " 40%|███████████████████████████████████▊                                                     | 27/67 [01:34<02:26,  3.66s/it]"
     ]
    },
    {
     "name": "stdout",
     "output_type": "stream",
     "text": [
      "15048\n"
     ]
    },
    {
     "name": "stderr",
     "output_type": "stream",
     "text": [
      "\r",
      " 42%|█████████████████████████████████████▏                                                   | 28/67 [01:38<02:23,  3.68s/it]"
     ]
    },
    {
     "name": "stdout",
     "output_type": "stream",
     "text": [
      "18109\n"
     ]
    },
    {
     "name": "stderr",
     "output_type": "stream",
     "text": [
      "\r",
      " 43%|██████████████████████████████████████▌                                                  | 29/67 [01:42<02:21,  3.74s/it]"
     ]
    },
    {
     "name": "stdout",
     "output_type": "stream",
     "text": [
      "11868\n"
     ]
    },
    {
     "name": "stderr",
     "output_type": "stream",
     "text": [
      "\r",
      " 45%|███████████████████████████████████████▊                                                 | 30/67 [01:45<02:19,  3.78s/it]"
     ]
    },
    {
     "name": "stdout",
     "output_type": "stream",
     "text": [
      "11896\n"
     ]
    },
    {
     "name": "stderr",
     "output_type": "stream",
     "text": [
      "\r",
      " 46%|█████████████████████████████████████████▏                                               | 31/67 [01:49<02:16,  3.80s/it]"
     ]
    },
    {
     "name": "stdout",
     "output_type": "stream",
     "text": [
      "10364\n"
     ]
    },
    {
     "name": "stderr",
     "output_type": "stream",
     "text": [
      "\r",
      " 48%|██████████████████████████████████████████▌                                              | 32/67 [01:53<02:13,  3.80s/it]"
     ]
    },
    {
     "name": "stdout",
     "output_type": "stream",
     "text": [
      "16256\n"
     ]
    },
    {
     "name": "stderr",
     "output_type": "stream",
     "text": [
      "\r",
      " 49%|███████████████████████████████████████████▊                                             | 33/67 [02:00<02:37,  4.63s/it]"
     ]
    },
    {
     "name": "stdout",
     "output_type": "stream",
     "text": [
      "19960\n"
     ]
    },
    {
     "name": "stderr",
     "output_type": "stream",
     "text": [
      "\r",
      " 51%|█████████████████████████████████████████████▏                                           | 34/67 [02:03<02:24,  4.37s/it]"
     ]
    },
    {
     "name": "stdout",
     "output_type": "stream",
     "text": [
      "11849\n"
     ]
    },
    {
     "name": "stderr",
     "output_type": "stream",
     "text": [
      "\r",
      " 52%|██████████████████████████████████████████████▍                                          | 35/67 [02:07<02:13,  4.19s/it]"
     ]
    },
    {
     "name": "stdout",
     "output_type": "stream",
     "text": [
      "18270\n"
     ]
    },
    {
     "name": "stderr",
     "output_type": "stream",
     "text": [
      "\r",
      " 54%|███████████████████████████████████████████████▊                                         | 36/67 [02:11<02:07,  4.10s/it]"
     ]
    },
    {
     "name": "stdout",
     "output_type": "stream",
     "text": [
      "9727\n"
     ]
    },
    {
     "name": "stderr",
     "output_type": "stream",
     "text": [
      "\r",
      " 55%|█████████████████████████████████████████████████▏                                       | 37/67 [02:15<02:00,  4.03s/it]"
     ]
    },
    {
     "name": "stdout",
     "output_type": "stream",
     "text": [
      "8133\n"
     ]
    },
    {
     "name": "stderr",
     "output_type": "stream",
     "text": [
      "\r",
      " 57%|██████████████████████████████████████████████████▍                                      | 38/67 [02:19<01:55,  3.98s/it]"
     ]
    },
    {
     "name": "stdout",
     "output_type": "stream",
     "text": [
      "18773\n"
     ]
    },
    {
     "name": "stderr",
     "output_type": "stream",
     "text": [
      "\r",
      " 58%|███████████████████████████████████████████████████▊                                     | 39/67 [02:23<01:50,  3.93s/it]"
     ]
    },
    {
     "name": "stdout",
     "output_type": "stream",
     "text": [
      "13394\n"
     ]
    },
    {
     "name": "stderr",
     "output_type": "stream",
     "text": [
      "\r",
      " 60%|█████████████████████████████████████████████████████▏                                   | 40/67 [02:26<01:43,  3.85s/it]"
     ]
    },
    {
     "name": "stdout",
     "output_type": "stream",
     "text": [
      "8998\n"
     ]
    },
    {
     "name": "stderr",
     "output_type": "stream",
     "text": [
      "\r",
      " 61%|██████████████████████████████████████████████████████▍                                  | 41/67 [02:30<01:41,  3.90s/it]"
     ]
    },
    {
     "name": "stdout",
     "output_type": "stream",
     "text": [
      "17480\n"
     ]
    },
    {
     "name": "stderr",
     "output_type": "stream",
     "text": [
      "\r",
      " 63%|███████████████████████████████████████████████████████▊                                 | 42/67 [02:34<01:36,  3.87s/it]"
     ]
    },
    {
     "name": "stdout",
     "output_type": "stream",
     "text": [
      "17434\n"
     ]
    },
    {
     "name": "stderr",
     "output_type": "stream",
     "text": [
      "\r",
      " 64%|█████████████████████████████████████████████████████████                                | 43/67 [02:38<01:32,  3.85s/it]"
     ]
    },
    {
     "name": "stdout",
     "output_type": "stream",
     "text": [
      "7749\n"
     ]
    },
    {
     "name": "stderr",
     "output_type": "stream",
     "text": [
      "\r",
      " 66%|██████████████████████████████████████████████████████████▍                              | 44/67 [02:42<01:27,  3.79s/it]"
     ]
    },
    {
     "name": "stdout",
     "output_type": "stream",
     "text": [
      "1762\n"
     ]
    },
    {
     "name": "stderr",
     "output_type": "stream",
     "text": [
      "\r",
      " 67%|███████████████████████████████████████████████████████████▊                             | 45/67 [02:45<01:24,  3.82s/it]"
     ]
    },
    {
     "name": "stdout",
     "output_type": "stream",
     "text": [
      "15244\n"
     ]
    },
    {
     "name": "stderr",
     "output_type": "stream",
     "text": [
      "\r",
      " 69%|█████████████████████████████████████████████████████████████                            | 46/67 [02:49<01:20,  3.82s/it]"
     ]
    },
    {
     "name": "stdout",
     "output_type": "stream",
     "text": [
      "20379\n"
     ]
    },
    {
     "name": "stderr",
     "output_type": "stream",
     "text": [
      "\r",
      " 70%|██████████████████████████████████████████████████████████████▍                          | 47/67 [02:53<01:15,  3.78s/it]"
     ]
    },
    {
     "name": "stdout",
     "output_type": "stream",
     "text": [
      "14415\n"
     ]
    },
    {
     "name": "stderr",
     "output_type": "stream",
     "text": [
      "\r",
      " 72%|███████████████████████████████████████████████████████████████▊                         | 48/67 [02:57<01:12,  3.82s/it]"
     ]
    },
    {
     "name": "stdout",
     "output_type": "stream",
     "text": [
      "10507\n"
     ]
    },
    {
     "name": "stderr",
     "output_type": "stream",
     "text": [
      "\r",
      " 73%|█████████████████████████████████████████████████████████████████                        | 49/67 [03:01<01:09,  3.86s/it]"
     ]
    },
    {
     "name": "stdout",
     "output_type": "stream",
     "text": [
      "10384\n"
     ]
    },
    {
     "name": "stderr",
     "output_type": "stream",
     "text": [
      "\r",
      " 75%|██████████████████████████████████████████████████████████████████▍                      | 50/67 [03:04<01:04,  3.77s/it]"
     ]
    },
    {
     "name": "stdout",
     "output_type": "stream",
     "text": [
      "1145\n"
     ]
    },
    {
     "name": "stderr",
     "output_type": "stream",
     "text": [
      "\r",
      " 76%|███████████████████████████████████████████████████████████████████▋                     | 51/67 [03:08<01:01,  3.83s/it]"
     ]
    },
    {
     "name": "stdout",
     "output_type": "stream",
     "text": [
      "9273\n"
     ]
    },
    {
     "name": "stderr",
     "output_type": "stream",
     "text": [
      "\r",
      " 78%|█████████████████████████████████████████████████████████████████████                    | 52/67 [03:12<00:57,  3.86s/it]"
     ]
    },
    {
     "name": "stdout",
     "output_type": "stream",
     "text": [
      "15470\n"
     ]
    },
    {
     "name": "stderr",
     "output_type": "stream",
     "text": [
      "\r",
      " 79%|██████████████████████████████████████████████████████████████████████▍                  | 53/67 [03:16<00:54,  3.89s/it]"
     ]
    },
    {
     "name": "stdout",
     "output_type": "stream",
     "text": [
      "8391\n"
     ]
    },
    {
     "name": "stderr",
     "output_type": "stream",
     "text": [
      "\r",
      " 81%|███████████████████████████████████████████████████████████████████████▋                 | 54/67 [03:20<00:49,  3.82s/it]"
     ]
    },
    {
     "name": "stdout",
     "output_type": "stream",
     "text": [
      "14368\n"
     ]
    },
    {
     "name": "stderr",
     "output_type": "stream",
     "text": [
      "\r",
      " 82%|█████████████████████████████████████████████████████████████████████████                | 55/67 [03:23<00:44,  3.70s/it]"
     ]
    },
    {
     "name": "stdout",
     "output_type": "stream",
     "text": [
      "11164\n"
     ]
    },
    {
     "name": "stderr",
     "output_type": "stream",
     "text": [
      "\r",
      " 84%|██████████████████████████████████████████████████████████████████████████▍              | 56/67 [03:31<00:52,  4.77s/it]"
     ]
    },
    {
     "name": "stdout",
     "output_type": "stream",
     "text": [
      "13584\n"
     ]
    },
    {
     "name": "stderr",
     "output_type": "stream",
     "text": [
      "\r",
      " 85%|███████████████████████████████████████████████████████████████████████████▋             | 57/67 [03:37<00:52,  5.26s/it]"
     ]
    },
    {
     "name": "stdout",
     "output_type": "stream",
     "text": [
      "11653\n"
     ]
    },
    {
     "name": "stderr",
     "output_type": "stream",
     "text": [
      "\r",
      " 87%|█████████████████████████████████████████████████████████████████████████████            | 58/67 [03:39<00:39,  4.38s/it]"
     ]
    },
    {
     "name": "stdout",
     "output_type": "stream",
     "text": [
      "3539\n"
     ]
    },
    {
     "name": "stderr",
     "output_type": "stream",
     "text": [
      "\r",
      " 88%|██████████████████████████████████████████████████████████████████████████████▎          | 59/67 [03:43<00:33,  4.14s/it]"
     ]
    },
    {
     "name": "stdout",
     "output_type": "stream",
     "text": [
      "2009\n"
     ]
    },
    {
     "name": "stderr",
     "output_type": "stream",
     "text": [
      "\r",
      " 90%|███████████████████████████████████████████████████████████████████████████████▋         | 60/67 [03:47<00:28,  4.09s/it]"
     ]
    },
    {
     "name": "stdout",
     "output_type": "stream",
     "text": [
      "11179\n"
     ]
    },
    {
     "name": "stderr",
     "output_type": "stream",
     "text": [
      "\r",
      " 91%|█████████████████████████████████████████████████████████████████████████████████        | 61/67 [03:51<00:24,  4.05s/it]"
     ]
    },
    {
     "name": "stdout",
     "output_type": "stream",
     "text": [
      "19977\n"
     ]
    },
    {
     "name": "stderr",
     "output_type": "stream",
     "text": [
      "\r",
      " 93%|██████████████████████████████████████████████████████████████████████████████████▎      | 62/67 [03:55<00:20,  4.03s/it]"
     ]
    },
    {
     "name": "stdout",
     "output_type": "stream",
     "text": [
      "12566\n"
     ]
    },
    {
     "name": "stderr",
     "output_type": "stream",
     "text": [
      "\r",
      " 94%|███████████████████████████████████████████████████████████████████████████████████▋     | 63/67 [03:58<00:15,  3.90s/it]"
     ]
    },
    {
     "name": "stdout",
     "output_type": "stream",
     "text": [
      "22721\n"
     ]
    },
    {
     "name": "stderr",
     "output_type": "stream",
     "text": [
      "\r",
      " 96%|█████████████████████████████████████████████████████████████████████████████████████    | 64/67 [04:02<00:11,  3.91s/it]"
     ]
    },
    {
     "name": "stdout",
     "output_type": "stream",
     "text": [
      "14753\n"
     ]
    },
    {
     "name": "stderr",
     "output_type": "stream",
     "text": [
      "\r",
      " 97%|██████████████████████████████████████████████████████████████████████████████████████▎  | 65/67 [04:06<00:07,  3.85s/it]"
     ]
    },
    {
     "name": "stdout",
     "output_type": "stream",
     "text": [
      "23335\n"
     ]
    },
    {
     "name": "stderr",
     "output_type": "stream",
     "text": [
      "\r",
      " 99%|███████████████████████████████████████████████████████████████████████████████████████▋ | 66/67 [04:10<00:03,  3.88s/it]"
     ]
    },
    {
     "name": "stdout",
     "output_type": "stream",
     "text": [
      "15578\n"
     ]
    },
    {
     "name": "stderr",
     "output_type": "stream",
     "text": [
      "100%|█████████████████████████████████████████████████████████████████████████████████████████| 67/67 [04:14<00:00,  3.80s/it]"
     ]
    },
    {
     "name": "stdout",
     "output_type": "stream",
     "text": [
      "1513\n"
     ]
    },
    {
     "name": "stderr",
     "output_type": "stream",
     "text": [
      "\n"
     ]
    }
   ],
   "source": [
    "for file in tqdm(poi_file_list):\n",
    "    try:    \n",
    "        # Load the file\n",
    "        poi_df = pd.read_csv(file, encoding='GB2312', encoding_errors='ignore', on_bad_lines='skip')\n",
    "    \n",
    "    except Exception as e:\n",
    "        poi_df = pd.read_csv(file, encoding='GB2312', encoding_errors='ignore', on_bad_lines='skip',quoting=csv.QUOTE_NONE)\n",
    "        \n",
    "    city_df = poi_df.loc[poi_df['cityname'] == city]\n",
    "    print(city_df.shape[0])\n",
    "    \n",
    "    city_df_all = pd.concat([city_df_all, city_df])\n",
    "    \n",
    "    "
   ]
  },
  {
   "cell_type": "code",
   "execution_count": 152,
   "id": "ac5118ef",
   "metadata": {},
   "outputs": [
    {
     "data": {
      "text/html": [
       "<div>\n",
       "<style scoped>\n",
       "    .dataframe tbody tr th:only-of-type {\n",
       "        vertical-align: middle;\n",
       "    }\n",
       "\n",
       "    .dataframe tbody tr th {\n",
       "        vertical-align: top;\n",
       "    }\n",
       "\n",
       "    .dataframe thead th {\n",
       "        text-align: right;\n",
       "    }\n",
       "</style>\n",
       "<table border=\"1\" class=\"dataframe\">\n",
       "  <thead>\n",
       "    <tr style=\"text-align: right;\">\n",
       "      <th></th>\n",
       "      <th>address</th>\n",
       "      <th>adname</th>\n",
       "      <th>page_publish_time</th>\n",
       "      <th>adcode</th>\n",
       "      <th>pname</th>\n",
       "      <th>cityname</th>\n",
       "      <th>name</th>\n",
       "      <th>location</th>\n",
       "      <th>_id</th>\n",
       "      <th>type</th>\n",
       "      <th>Unnamed: 10</th>\n",
       "    </tr>\n",
       "  </thead>\n",
       "  <tbody>\n",
       "    <tr>\n",
       "      <th>13</th>\n",
       "      <td>留仙大道2051号西丽人民医院内</td>\n",
       "      <td>南山区</td>\n",
       "      <td>2017-06-19 10:34:33</td>\n",
       "      <td>440305</td>\n",
       "      <td>广东省</td>\n",
       "      <td>深圳市</td>\n",
       "      <td>西丽人民医院住院部</td>\n",
       "      <td>113.948731，22.580096</td>\n",
       "      <td>o#20170619#73237df5870c31ead31d30b651e533d4</td>\n",
       "      <td>医疗保健服务;综合医院;综合医院</td>\n",
       "      <td>NaN</td>\n",
       "    </tr>\n",
       "    <tr>\n",
       "      <th>36</th>\n",
       "      <td>福田区</td>\n",
       "      <td>福田区</td>\n",
       "      <td>2017-06-19 10:41:13</td>\n",
       "      <td>440304</td>\n",
       "      <td>广东省</td>\n",
       "      <td>深圳市</td>\n",
       "      <td>十号路与椰林大道交叉口</td>\n",
       "      <td>114.044754，22.518161</td>\n",
       "      <td>u#20170619#5177ae6aff9e2bde7c24d46d739d885d</td>\n",
       "      <td>地名地址信息;交通地名;路口名</td>\n",
       "      <td>NaN</td>\n",
       "    </tr>\n",
       "  </tbody>\n",
       "</table>\n",
       "</div>"
      ],
      "text/plain": [
       "             address adname    page_publish_time  adcode pname cityname  \\\n",
       "13  留仙大道2051号西丽人民医院内    南山区  2017-06-19 10:34:33  440305   广东省      深圳市   \n",
       "36               福田区    福田区  2017-06-19 10:41:13  440304   广东省      深圳市   \n",
       "\n",
       "           name              location  \\\n",
       "13    西丽人民医院住院部  113.948731，22.580096   \n",
       "36  十号路与椰林大道交叉口  114.044754，22.518161   \n",
       "\n",
       "                                            _id              type  Unnamed: 10  \n",
       "13  o#20170619#73237df5870c31ead31d30b651e533d4  医疗保健服务;综合医院;综合医院          NaN  \n",
       "36  u#20170619#5177ae6aff9e2bde7c24d46d739d885d   地名地址信息;交通地名;路口名          NaN  "
      ]
     },
     "execution_count": 152,
     "metadata": {},
     "output_type": "execute_result"
    }
   ],
   "source": [
    "city_df_all.head(2)"
   ]
  },
  {
   "cell_type": "code",
   "execution_count": 159,
   "id": "b521952b",
   "metadata": {},
   "outputs": [
    {
     "data": {
      "text/html": [
       "<div>\n",
       "<style scoped>\n",
       "    .dataframe tbody tr th:only-of-type {\n",
       "        vertical-align: middle;\n",
       "    }\n",
       "\n",
       "    .dataframe tbody tr th {\n",
       "        vertical-align: top;\n",
       "    }\n",
       "\n",
       "    .dataframe thead th {\n",
       "        text-align: right;\n",
       "    }\n",
       "</style>\n",
       "<table border=\"1\" class=\"dataframe\">\n",
       "  <thead>\n",
       "    <tr style=\"text-align: right;\">\n",
       "      <th></th>\n",
       "      <th>0</th>\n",
       "      <th>1</th>\n",
       "    </tr>\n",
       "  </thead>\n",
       "  <tbody>\n",
       "    <tr>\n",
       "      <th>13</th>\n",
       "      <td>113.948731</td>\n",
       "      <td>22.580096</td>\n",
       "    </tr>\n",
       "    <tr>\n",
       "      <th>36</th>\n",
       "      <td>114.044754</td>\n",
       "      <td>22.518161</td>\n",
       "    </tr>\n",
       "    <tr>\n",
       "      <th>136</th>\n",
       "      <td>114.015490</td>\n",
       "      <td>22.672950</td>\n",
       "    </tr>\n",
       "    <tr>\n",
       "      <th>241</th>\n",
       "      <td>114.118025</td>\n",
       "      <td>22.594444</td>\n",
       "    </tr>\n",
       "    <tr>\n",
       "      <th>292</th>\n",
       "      <td>114.018934</td>\n",
       "      <td>22.667614</td>\n",
       "    </tr>\n",
       "    <tr>\n",
       "      <th>...</th>\n",
       "      <td>...</td>\n",
       "      <td>...</td>\n",
       "    </tr>\n",
       "    <tr>\n",
       "      <th>965896</th>\n",
       "      <td>114.349688</td>\n",
       "      <td>22.680483</td>\n",
       "    </tr>\n",
       "    <tr>\n",
       "      <th>965897</th>\n",
       "      <td>114.003805</td>\n",
       "      <td>22.650189</td>\n",
       "    </tr>\n",
       "    <tr>\n",
       "      <th>965898</th>\n",
       "      <td>114.350852</td>\n",
       "      <td>22.684493</td>\n",
       "    </tr>\n",
       "    <tr>\n",
       "      <th>992764</th>\n",
       "      <td>114.064707</td>\n",
       "      <td>22.656660</td>\n",
       "    </tr>\n",
       "    <tr>\n",
       "      <th>993252</th>\n",
       "      <td>114.043232</td>\n",
       "      <td>22.519645</td>\n",
       "    </tr>\n",
       "  </tbody>\n",
       "</table>\n",
       "<p>801550 rows × 2 columns</p>\n",
       "</div>"
      ],
      "text/plain": [
       "                 0          1\n",
       "13      113.948731  22.580096\n",
       "36      114.044754  22.518161\n",
       "136     114.015490  22.672950\n",
       "241     114.118025  22.594444\n",
       "292     114.018934  22.667614\n",
       "...            ...        ...\n",
       "965896  114.349688  22.680483\n",
       "965897  114.003805  22.650189\n",
       "965898  114.350852  22.684493\n",
       "992764  114.064707  22.656660\n",
       "993252  114.043232  22.519645\n",
       "\n",
       "[801550 rows x 2 columns]"
      ]
     },
     "execution_count": 159,
     "metadata": {},
     "output_type": "execute_result"
    }
   ],
   "source": [
    "coord_split_columns"
   ]
  },
  {
   "cell_type": "code",
   "execution_count": 160,
   "id": "83e3dea7",
   "metadata": {},
   "outputs": [
    {
     "data": {
      "text/html": [
       "<div>\n",
       "<style scoped>\n",
       "    .dataframe tbody tr th:only-of-type {\n",
       "        vertical-align: middle;\n",
       "    }\n",
       "\n",
       "    .dataframe tbody tr th {\n",
       "        vertical-align: top;\n",
       "    }\n",
       "\n",
       "    .dataframe thead th {\n",
       "        text-align: right;\n",
       "    }\n",
       "</style>\n",
       "<table border=\"1\" class=\"dataframe\">\n",
       "  <thead>\n",
       "    <tr style=\"text-align: right;\">\n",
       "      <th></th>\n",
       "      <th>address</th>\n",
       "      <th>adname</th>\n",
       "      <th>page_publish_time</th>\n",
       "      <th>adcode</th>\n",
       "      <th>pname</th>\n",
       "      <th>cityname</th>\n",
       "      <th>name</th>\n",
       "      <th>location</th>\n",
       "      <th>_id</th>\n",
       "      <th>type</th>\n",
       "      <th>Unnamed: 10</th>\n",
       "      <th>class1</th>\n",
       "      <th>lat</th>\n",
       "      <th>lon</th>\n",
       "    </tr>\n",
       "  </thead>\n",
       "  <tbody>\n",
       "    <tr>\n",
       "      <th>13</th>\n",
       "      <td>留仙大道2051号西丽人民医院内</td>\n",
       "      <td>南山区</td>\n",
       "      <td>2017-06-19 10:34:33</td>\n",
       "      <td>440305</td>\n",
       "      <td>广东省</td>\n",
       "      <td>深圳市</td>\n",
       "      <td>西丽人民医院住院部</td>\n",
       "      <td>113.948731，22.580096</td>\n",
       "      <td>o#20170619#73237df5870c31ead31d30b651e533d4</td>\n",
       "      <td>医疗保健服务;综合医院;综合医院</td>\n",
       "      <td>NaN</td>\n",
       "      <td>医疗保健服务</td>\n",
       "      <td>22.580096</td>\n",
       "      <td>113.948731</td>\n",
       "    </tr>\n",
       "    <tr>\n",
       "      <th>36</th>\n",
       "      <td>福田区</td>\n",
       "      <td>福田区</td>\n",
       "      <td>2017-06-19 10:41:13</td>\n",
       "      <td>440304</td>\n",
       "      <td>广东省</td>\n",
       "      <td>深圳市</td>\n",
       "      <td>十号路与椰林大道交叉口</td>\n",
       "      <td>114.044754，22.518161</td>\n",
       "      <td>u#20170619#5177ae6aff9e2bde7c24d46d739d885d</td>\n",
       "      <td>地名地址信息;交通地名;路口名</td>\n",
       "      <td>NaN</td>\n",
       "      <td>地名地址信息</td>\n",
       "      <td>22.518161</td>\n",
       "      <td>114.044754</td>\n",
       "    </tr>\n",
       "    <tr>\n",
       "      <th>136</th>\n",
       "      <td>龙华办事处华联社区河背二区38号</td>\n",
       "      <td>龙华区</td>\n",
       "      <td>2017-06-19 10:35:09</td>\n",
       "      <td>440309</td>\n",
       "      <td>广东省</td>\n",
       "      <td>深圳市</td>\n",
       "      <td>河背2区38号</td>\n",
       "      <td>114.015490，22.672950</td>\n",
       "      <td>7#20170619#00b563b8def0f12158441d0c60180b8b</td>\n",
       "      <td>商务住宅;住宅区;住宅区</td>\n",
       "      <td>NaN</td>\n",
       "      <td>商务住宅</td>\n",
       "      <td>22.672950</td>\n",
       "      <td>114.015490</td>\n",
       "    </tr>\n",
       "    <tr>\n",
       "      <th>241</th>\n",
       "      <td>荣超路366荣超花园22栋A座</td>\n",
       "      <td>龙岗区</td>\n",
       "      <td>2017-06-19 10:49:51</td>\n",
       "      <td>440307</td>\n",
       "      <td>广东省</td>\n",
       "      <td>深圳市</td>\n",
       "      <td>荣超花园21栋停车场</td>\n",
       "      <td>114.118025，22.594444</td>\n",
       "      <td>m#20170619#f1c35045b764c9600f319ca21fb00831</td>\n",
       "      <td>交通设施服务;停车场;停车场相关</td>\n",
       "      <td>NaN</td>\n",
       "      <td>交通设施服务</td>\n",
       "      <td>22.594444</td>\n",
       "      <td>114.118025</td>\n",
       "    </tr>\n",
       "    <tr>\n",
       "      <th>292</th>\n",
       "      <td>大浪南路134号(三联路村委公交站直走30米)</td>\n",
       "      <td>龙华区</td>\n",
       "      <td>2017-06-19 10:33:21</td>\n",
       "      <td>440309</td>\n",
       "      <td>广东省</td>\n",
       "      <td>深圳市</td>\n",
       "      <td>小蜜蜂蛋糕(大浪店)</td>\n",
       "      <td>114.018934，22.667614</td>\n",
       "      <td>u#20170619#a6dce58e529c5e1d9612dd04435695d5</td>\n",
       "      <td>购物服务;专卖店;专营店</td>\n",
       "      <td>NaN</td>\n",
       "      <td>购物服务</td>\n",
       "      <td>22.667614</td>\n",
       "      <td>114.018934</td>\n",
       "    </tr>\n",
       "  </tbody>\n",
       "</table>\n",
       "</div>"
      ],
      "text/plain": [
       "                     address adname    page_publish_time  adcode pname  \\\n",
       "13          留仙大道2051号西丽人民医院内    南山区  2017-06-19 10:34:33  440305   广东省   \n",
       "36                       福田区    福田区  2017-06-19 10:41:13  440304   广东省   \n",
       "136         龙华办事处华联社区河背二区38号    龙华区  2017-06-19 10:35:09  440309   广东省   \n",
       "241          荣超路366荣超花园22栋A座    龙岗区  2017-06-19 10:49:51  440307   广东省   \n",
       "292  大浪南路134号(三联路村委公交站直走30米)    龙华区  2017-06-19 10:33:21  440309   广东省   \n",
       "\n",
       "    cityname         name              location  \\\n",
       "13       深圳市    西丽人民医院住院部  113.948731，22.580096   \n",
       "36       深圳市  十号路与椰林大道交叉口  114.044754，22.518161   \n",
       "136      深圳市      河背2区38号  114.015490，22.672950   \n",
       "241      深圳市   荣超花园21栋停车场  114.118025，22.594444   \n",
       "292      深圳市   小蜜蜂蛋糕(大浪店)  114.018934，22.667614   \n",
       "\n",
       "                                             _id              type  \\\n",
       "13   o#20170619#73237df5870c31ead31d30b651e533d4  医疗保健服务;综合医院;综合医院   \n",
       "36   u#20170619#5177ae6aff9e2bde7c24d46d739d885d   地名地址信息;交通地名;路口名   \n",
       "136  7#20170619#00b563b8def0f12158441d0c60180b8b      商务住宅;住宅区;住宅区   \n",
       "241  m#20170619#f1c35045b764c9600f319ca21fb00831  交通设施服务;停车场;停车场相关   \n",
       "292  u#20170619#a6dce58e529c5e1d9612dd04435695d5      购物服务;专卖店;专营店   \n",
       "\n",
       "     Unnamed: 10  class1        lat         lon  \n",
       "13           NaN  医疗保健服务  22.580096  113.948731  \n",
       "36           NaN  地名地址信息  22.518161  114.044754  \n",
       "136          NaN    商务住宅  22.672950  114.015490  \n",
       "241          NaN  交通设施服务  22.594444  114.118025  \n",
       "292          NaN    购物服务  22.667614  114.018934  "
      ]
     },
     "execution_count": 160,
     "metadata": {},
     "output_type": "execute_result"
    }
   ],
   "source": [
    "class_split_columns = city_df_all[\"type\"].str.split(';', expand=True)\n",
    "city_df_all[\"class1\"] = class_split_columns[0]\n",
    "\n",
    "coord_split_columns =city_df_all[\"location\"].str.split('，', expand=True)\n",
    "city_df_all[\"lat\"] = coord_split_columns[1]\n",
    "city_df_all[\"lon\"] = coord_split_columns[0]\n",
    "city_df_all.head()"
   ]
  },
  {
   "cell_type": "code",
   "execution_count": 88,
   "id": "e1c51a66",
   "metadata": {},
   "outputs": [],
   "source": [
    "city_df_all.to_csv((poi_path+\"2018POI-city\"+\"/\"+f\"2018_{MID_city}_{city}.csv\"),encoding = \"utf-8-sig\",index = False)"
   ]
  },
  {
   "cell_type": "code",
   "execution_count": 161,
   "id": "e198f9f5",
   "metadata": {},
   "outputs": [],
   "source": [
    "file_path = os.path.join(city_path,f\"{MID_city}_{city}\",f\"2018_{MID_city}_{city}.csv\")\n",
    "\n",
    "directory = os.path.dirname(file_path)\n",
    "if not os.path.exists(directory):\n",
    "    # Create the directory\n",
    "    os.makedirs(directory)\n",
    "\n",
    "city_df_all.to_csv(file_path,encoding = \"utf-8-sig\",index = False)"
   ]
  }
 ],
 "metadata": {
  "kernelspec": {
   "display_name": "Python 3 (ipykernel)",
   "language": "python",
   "name": "python3"
  },
  "language_info": {
   "codemirror_mode": {
    "name": "ipython",
    "version": 3
   },
   "file_extension": ".py",
   "mimetype": "text/x-python",
   "name": "python",
   "nbconvert_exporter": "python",
   "pygments_lexer": "ipython3",
   "version": "3.11.0"
  }
 },
 "nbformat": 4,
 "nbformat_minor": 5
}
